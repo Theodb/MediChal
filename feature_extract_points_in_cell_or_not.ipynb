{
 "cells": [
  {
   "cell_type": "code",
   "execution_count": 2,
   "metadata": {},
   "outputs": [],
   "source": [
    "import pylab\n",
    "from nt_toolbox.graph import *\n",
    "from nt_toolbox.signal import *\n",
    "import matplotlib.pyplot as plt\n",
    "import numpy\n",
    "import pandas as pd\n",
    "import os"
   ]
  },
  {
   "cell_type": "code",
   "execution_count": 5,
   "metadata": {},
   "outputs": [],
   "source": [
    "def binary(image, alpha=0.5):\n",
    "    image_copy = np.zeros(image.shape)\n",
    "    image_copy[image > alpha] = 1\n",
    "    return image_copy"
   ]
  },
  {
   "cell_type": "code",
   "execution_count": 6,
   "metadata": {},
   "outputs": [],
   "source": [
    "def has_points_in_images(img):\n",
    "    '''\n",
    "    img : image \n",
    "    \n",
    "    return : True or False\n",
    "             True : there are points inside the cell \n",
    "             False : there aren't points inside the cell\n",
    "    '''\n",
    "    img = img*img\n",
    "    max_value = np.max(img)\n",
    "    min_value = np.min(img)\n",
    "    mean_value = np.mean(img)\n",
    "    b_img1 = binary(img, mean_value)\n",
    "    b_img2 = binary(img, (min_value + mean_value)/2)\n",
    "    return abs(np.sum(b_img1-b_img2)) != 0"
   ]
  },
  {
   "cell_type": "code",
   "execution_count": 7,
   "metadata": {},
   "outputs": [],
   "source": [
    "def extract(images_paths):\n",
    "    p_detected = []\n",
    "    for ip in images_paths:\n",
    "        image = load_image(ip)\n",
    "        p_detected.append(1 if has_points_in_images(image) else 0)\n",
    "    df = pd.DataFrame()\n",
    "    df['image_path'] = images_paths\n",
    "    df['has_points'] = p_detected\n",
    "    return df"
   ]
  },
  {
   "cell_type": "markdown",
   "metadata": {},
   "source": [
    "## Test"
   ]
  },
  {
   "cell_type": "code",
   "execution_count": 12,
   "metadata": {},
   "outputs": [],
   "source": [
    "for dirname, _, filenames in os.walk('../cell_images/Uninfected'):\n",
    "    paths = []\n",
    "    for filename in filenames[:500]:\n",
    "        image_path = os.path.join(dirname, filename)\n",
    "        paths.append(image_path)\n",
    "    df = extract(paths)\n",
    "    '''\n",
    "    for filename in filenames[:100]:\n",
    "        image_path = os.path.join(dirname, filename)\n",
    "        if image_path.endswith('.db'):\n",
    "            continue\n",
    "        image = load_image(image_path)\n",
    "        p_labels.append(True)\n",
    "        if not has_points_in_images():\n",
    "            p_detected.append(True)\n",
    "        else:\n",
    "            imageplot(image)\n",
    "            p_detected.append(False)\n",
    "            print(image_path)    \n",
    "    \n",
    "    '''\n"
   ]
  },
  {
   "cell_type": "code",
   "execution_count": 14,
   "metadata": {},
   "outputs": [
    {
     "data": {
      "text/plain": [
       "0.826"
      ]
     },
     "execution_count": 14,
     "metadata": {},
     "output_type": "execute_result"
    }
   ],
   "source": [
    "sum(df['has_points'] ==[0 for i in range(len(df['has_points']))] ) / len(df['has_points'])"
   ]
  }
 ],
 "metadata": {
  "kernelspec": {
   "display_name": "Python 3",
   "language": "python",
   "name": "python3"
  },
  "language_info": {
   "codemirror_mode": {
    "name": "ipython",
    "version": 3
   },
   "file_extension": ".py",
   "mimetype": "text/x-python",
   "name": "python",
   "nbconvert_exporter": "python",
   "pygments_lexer": "ipython3",
   "version": "3.6.4"
  }
 },
 "nbformat": 4,
 "nbformat_minor": 2
}
