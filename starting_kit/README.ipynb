{
 "cells": [
  {
   "cell_type": "markdown",
   "metadata": {},
   "source": [
    "\n",
    "# MediChal Challenge - Detecting Malaria with cell Images\n",
    "\n",
    "____"
   ]
  },
  {
   "cell_type": "markdown",
   "metadata": {},
   "source": [
    "<img src=\"./logo.jpg\" width=\"200\" height=\"200\" align=\"left\"> \n",
    "\n",
    "## Team MEDICHAL :\n",
    "- Théo Deschamps-Berger\n",
    "- Simon Monteiro\n",
    "- Xienneng Xu\n",
    "- Nicolas Devatine\n",
    "- Clément Veyssière\n",
    "- Corentin Leloup\n",
    "- Ramine Hamidi\n"
   ]
  },
  {
   "cell_type": "markdown",
   "metadata": {},
   "source": [
    "<div style=\"background:#FFFFAA\">\n",
    "    <h2>Introduction </h2>\n",
    "    <p>\n",
    "        <br>       \n",
    " \n",
    "     \n",
    "The problem we try to solve here is the diagnosis of malaria using images of cells that are whether infected or not. It is a binary classification problem from the data set found here at <a href=https://www.kaggle.com/iarunava/cell-images-for-detecting-malaria>\"Cell images for detecting malaria\"</a>. The data set contains around 27 thousand images, that are balanced between the 2 classes. The way we proceed here is to extract features from the images instead of using images directly as inputs to the model we use for predictions.\n",
    "\n",
    " \n",
    "</div>"
   ]
  },
  {
   "cell_type": "markdown",
   "metadata": {},
   "source": [
    "<p align=\"center\">\n",
    "  <img src=\"example_cells.png\">\n",
    "</p>\n",
    "<center>Example of parasitized and uninfected cells</center>"
   ]
  },
  {
   "cell_type": "code",
   "execution_count": 14,
   "metadata": {},
   "outputs": [
    {
     "name": "stdout",
     "output_type": "stream",
     "text": [
      "The autoreload extension is already loaded. To reload it, use:\n",
      "  %reload_ext autoreload\n"
     ]
    }
   ],
   "source": [
    "model_dir = 'sample_code_submission/'                        # Change the model to a better one once you have one!\n",
    "#model_dir = '../FILES/pretty_good_sample_code_submission/'\n",
    "result_dir = 'sample_result_submission/' \n",
    "problem_dir = 'ingestion_program/'  \n",
    "score_dir = 'scoring_program/'\n",
    "from sys import path; path.append(model_dir); path.append(problem_dir); path.append(score_dir); \n",
    "%matplotlib inline\n",
    "# Uncomment the next lines to auto-reload libraries (this causes some problem with pickles in Python 3)\n",
    "%load_ext autoreload\n",
    "%autoreload 2\n",
    "import seaborn as sns; sns.set()\n",
    "import warnings\n",
    "warnings.simplefilter(action='ignore', category=FutureWarning)"
   ]
  },
  {
   "cell_type": "markdown",
   "metadata": {},
   "source": [
    "<div style=\"background:#FFFFAA\">\n",
    "    <h1> Step 1: Exploratory data analysis </h1>\n",
    "<p>\n",
    "We provide sample_data with the starting kit, but to prepare your submission, you must fetch the public_data from the challenge website and point to it.\n",
    "    <br>\n",
    "    <span style=\"color:red\"> Just change the data name in the block below. In the rest of the section, replace the sample plots by anything you want. </span>\n",
    "</div>"
   ]
  },
  {
   "cell_type": "markdown",
   "metadata": {},
   "source": [
    "### Quality of the data\n",
    "\n",
    "Our data is composed of images that we preprocessed to extract features. Therefore we do not have any missing data in any feature because we created the features ourselves. There may be one artefact which is the fact that the background is black, and we may wonder if infected cells might be smaller (or the contrary), which would provide us darker images and a higher (or lower) average of gray "
   ]
  },
  {
   "cell_type": "code",
   "execution_count": 2,
   "metadata": {},
   "outputs": [
    {
     "name": "stdout",
     "output_type": "stream",
     "text": [
      "malaria_feat.name     malaria_test.data       malaria_valid.data\r\n",
      "malaria_label.name    malaria_test.solution   malaria_valid.solution\r\n",
      "malaria_private.info  malaria_train.data\r\n",
      "malaria_public.info   malaria_train.solution\r\n"
     ]
    }
   ],
   "source": [
    "data_dir = 'sample_data'              # Change this to the directory where you put the input data\n",
    "#data_dir = '../FILES/iris/'          # The sample_data directory should contain only a very small subset of the data\n",
    "data_name = 'malaria'\n",
    "!ls $data_dir*"
   ]
  },
  {
   "cell_type": "markdown",
   "metadata": {},
   "source": [
    "For convenience, we load the data as a \"pandas\" data frame, so we can use \"pandas\" and \"seaborn\" built in functions to explore the data."
   ]
  },
  {
   "cell_type": "code",
   "execution_count": 33,
   "metadata": {},
   "outputs": [
    {
     "name": "stdout",
     "output_type": "stream",
     "text": [
      "Reading sample_data/malaria_train from AutoML format\n",
      "Number of examples = 16534\n",
      "Number of features = 19\n",
      "         Class\n",
      "0   uninfected\n",
      "1  parasitized\n",
      "Number of classes = 2\n",
      "Number of parasitized cells = 8276\n",
      "Number of uninfected cells = 8258\n"
     ]
    }
   ],
   "source": [
    "from data_io import read_as_df\n",
    "import numpy as np\n",
    "data = read_as_df(data_dir  + '/' + data_name)                # The data are loaded as a Pandas Data Frame\n",
    "print(\"Number of parasitized cells =\",np.sum(data.target == 'parasitized'))\n",
    "print(\"Number of uninfected cells =\",np.sum(data.target == 'uninfected'))"
   ]
  },
  {
   "cell_type": "code",
   "execution_count": 34,
   "metadata": {
    "scrolled": true
   },
   "outputs": [
    {
     "data": {
      "text/html": [
       "<div>\n",
       "<style scoped>\n",
       "    .dataframe tbody tr th:only-of-type {\n",
       "        vertical-align: middle;\n",
       "    }\n",
       "\n",
       "    .dataframe tbody tr th {\n",
       "        vertical-align: top;\n",
       "    }\n",
       "\n",
       "    .dataframe thead th {\n",
       "        text-align: right;\n",
       "    }\n",
       "</style>\n",
       "<table border=\"1\" class=\"dataframe\">\n",
       "  <thead>\n",
       "    <tr style=\"text-align: right;\">\n",
       "      <th></th>\n",
       "      <th>nb_black_pixels</th>\n",
       "      <th>var_color</th>\n",
       "      <th>mean_color</th>\n",
       "      <th>min_color</th>\n",
       "      <th>max_color</th>\n",
       "      <th>var_gray</th>\n",
       "      <th>mean_gray</th>\n",
       "      <th>min_gray</th>\n",
       "      <th>max_gray</th>\n",
       "      <th>nb_pixel_0.0_0.1</th>\n",
       "      <th>nb_pixel_0.1_0.2</th>\n",
       "      <th>nb_pixel_0.2_0.3</th>\n",
       "      <th>nb_pixel_0.3_0.4</th>\n",
       "      <th>nb_pixel_0.4_0.5</th>\n",
       "      <th>nb_pixel_0.5_0.6</th>\n",
       "      <th>nb_pixel_0.6_0.7</th>\n",
       "      <th>nb_pixel_0.7_0.8</th>\n",
       "      <th>nb_pixel_0.8_0.9</th>\n",
       "      <th>nb_pixel_0.9_1.0</th>\n",
       "      <th>target</th>\n",
       "    </tr>\n",
       "  </thead>\n",
       "  <tbody>\n",
       "    <tr>\n",
       "      <th>0</th>\n",
       "      <td>4884</td>\n",
       "      <td>0.000000</td>\n",
       "      <td>0.948893</td>\n",
       "      <td>0.948893</td>\n",
       "      <td>0.948893</td>\n",
       "      <td>0.419515</td>\n",
       "      <td>0.636039</td>\n",
       "      <td>0.529412</td>\n",
       "      <td>0.764706</td>\n",
       "      <td>0</td>\n",
       "      <td>0</td>\n",
       "      <td>0</td>\n",
       "      <td>0</td>\n",
       "      <td>0</td>\n",
       "      <td>0</td>\n",
       "      <td>0</td>\n",
       "      <td>1038</td>\n",
       "      <td>9482</td>\n",
       "      <td>1886</td>\n",
       "      <td>uninfected</td>\n",
       "    </tr>\n",
       "    <tr>\n",
       "      <th>1</th>\n",
       "      <td>4347</td>\n",
       "      <td>0.000311</td>\n",
       "      <td>0.907223</td>\n",
       "      <td>0.874799</td>\n",
       "      <td>0.927769</td>\n",
       "      <td>0.519111</td>\n",
       "      <td>0.633702</td>\n",
       "      <td>0.400000</td>\n",
       "      <td>0.823529</td>\n",
       "      <td>0</td>\n",
       "      <td>0</td>\n",
       "      <td>0</td>\n",
       "      <td>0</td>\n",
       "      <td>0</td>\n",
       "      <td>1</td>\n",
       "      <td>79</td>\n",
       "      <td>6716</td>\n",
       "      <td>4333</td>\n",
       "      <td>656</td>\n",
       "      <td>parasitized</td>\n",
       "    </tr>\n",
       "    <tr>\n",
       "      <th>2</th>\n",
       "      <td>4935</td>\n",
       "      <td>0.000033</td>\n",
       "      <td>0.972043</td>\n",
       "      <td>0.962162</td>\n",
       "      <td>0.985586</td>\n",
       "      <td>0.266897</td>\n",
       "      <td>0.641619</td>\n",
       "      <td>0.568627</td>\n",
       "      <td>0.737255</td>\n",
       "      <td>0</td>\n",
       "      <td>0</td>\n",
       "      <td>0</td>\n",
       "      <td>0</td>\n",
       "      <td>0</td>\n",
       "      <td>0</td>\n",
       "      <td>0</td>\n",
       "      <td>0</td>\n",
       "      <td>8647</td>\n",
       "      <td>4506</td>\n",
       "      <td>uninfected</td>\n",
       "    </tr>\n",
       "    <tr>\n",
       "      <th>3</th>\n",
       "      <td>6501</td>\n",
       "      <td>0.000017</td>\n",
       "      <td>0.955153</td>\n",
       "      <td>0.950617</td>\n",
       "      <td>0.959436</td>\n",
       "      <td>0.594517</td>\n",
       "      <td>0.661221</td>\n",
       "      <td>0.301961</td>\n",
       "      <td>0.745098</td>\n",
       "      <td>0</td>\n",
       "      <td>0</td>\n",
       "      <td>0</td>\n",
       "      <td>0</td>\n",
       "      <td>4</td>\n",
       "      <td>25</td>\n",
       "      <td>122</td>\n",
       "      <td>367</td>\n",
       "      <td>8520</td>\n",
       "      <td>5813</td>\n",
       "      <td>parasitized</td>\n",
       "    </tr>\n",
       "    <tr>\n",
       "      <th>4</th>\n",
       "      <td>3384</td>\n",
       "      <td>0.000189</td>\n",
       "      <td>0.870487</td>\n",
       "      <td>0.857143</td>\n",
       "      <td>0.911565</td>\n",
       "      <td>2.217611</td>\n",
       "      <td>0.471401</td>\n",
       "      <td>0.345098</td>\n",
       "      <td>0.780392</td>\n",
       "      <td>0</td>\n",
       "      <td>0</td>\n",
       "      <td>0</td>\n",
       "      <td>0</td>\n",
       "      <td>0</td>\n",
       "      <td>1966</td>\n",
       "      <td>2513</td>\n",
       "      <td>1448</td>\n",
       "      <td>798</td>\n",
       "      <td>191</td>\n",
       "      <td>uninfected</td>\n",
       "    </tr>\n",
       "  </tbody>\n",
       "</table>\n",
       "</div>"
      ],
      "text/plain": [
       "   nb_black_pixels  var_color  mean_color  min_color  max_color  var_gray  \\\n",
       "0             4884   0.000000    0.948893   0.948893   0.948893  0.419515   \n",
       "1             4347   0.000311    0.907223   0.874799   0.927769  0.519111   \n",
       "2             4935   0.000033    0.972043   0.962162   0.985586  0.266897   \n",
       "3             6501   0.000017    0.955153   0.950617   0.959436  0.594517   \n",
       "4             3384   0.000189    0.870487   0.857143   0.911565  2.217611   \n",
       "\n",
       "   mean_gray  min_gray  max_gray  nb_pixel_0.0_0.1  nb_pixel_0.1_0.2  \\\n",
       "0   0.636039  0.529412  0.764706                 0                 0   \n",
       "1   0.633702  0.400000  0.823529                 0                 0   \n",
       "2   0.641619  0.568627  0.737255                 0                 0   \n",
       "3   0.661221  0.301961  0.745098                 0                 0   \n",
       "4   0.471401  0.345098  0.780392                 0                 0   \n",
       "\n",
       "   nb_pixel_0.2_0.3  nb_pixel_0.3_0.4  nb_pixel_0.4_0.5  nb_pixel_0.5_0.6  \\\n",
       "0                 0                 0                 0                 0   \n",
       "1                 0                 0                 0                 1   \n",
       "2                 0                 0                 0                 0   \n",
       "3                 0                 0                 4                25   \n",
       "4                 0                 0                 0              1966   \n",
       "\n",
       "   nb_pixel_0.6_0.7  nb_pixel_0.7_0.8  nb_pixel_0.8_0.9  nb_pixel_0.9_1.0  \\\n",
       "0                 0              1038              9482              1886   \n",
       "1                79              6716              4333               656   \n",
       "2                 0                 0              8647              4506   \n",
       "3               122               367              8520              5813   \n",
       "4              2513              1448               798               191   \n",
       "\n",
       "        target  \n",
       "0   uninfected  \n",
       "1  parasitized  \n",
       "2   uninfected  \n",
       "3  parasitized  \n",
       "4   uninfected  "
      ]
     },
     "execution_count": 34,
     "metadata": {},
     "output_type": "execute_result"
    }
   ],
   "source": [
    "data.head()"
   ]
  },
  {
   "cell_type": "markdown",
   "metadata": {},
   "source": [
    "We have decided to reduce the dataset of images to a simpler dataset with only 6 features. The feature `has_points` is boolean and indicates whether or not an image contains darker points. to detect this, we have 2 thresholds : the mean of the pixels values and the mean between this mean and the minimum value of the pixels. the feature value is 0 if there are no pixels with a value in these boundaries and 1 otherwise.\n",
    "\n",
    "`black_pixels` counts pixels whose value is dark, those around the cell in the image\n",
    "\n",
    "The `var_color` feature is simply the empirical variance of the values of the pixels and `max_color` the maximum.\n",
    "\n",
    "The 2 other features are the same thing with the image in grayscale"
   ]
  },
  {
   "cell_type": "code",
   "execution_count": 35,
   "metadata": {
    "scrolled": false
   },
   "outputs": [
    {
     "data": {
      "text/html": [
       "<div>\n",
       "<style scoped>\n",
       "    .dataframe tbody tr th:only-of-type {\n",
       "        vertical-align: middle;\n",
       "    }\n",
       "\n",
       "    .dataframe tbody tr th {\n",
       "        vertical-align: top;\n",
       "    }\n",
       "\n",
       "    .dataframe thead th {\n",
       "        text-align: right;\n",
       "    }\n",
       "</style>\n",
       "<table border=\"1\" class=\"dataframe\">\n",
       "  <thead>\n",
       "    <tr style=\"text-align: right;\">\n",
       "      <th></th>\n",
       "      <th>nb_black_pixels</th>\n",
       "      <th>var_color</th>\n",
       "      <th>mean_color</th>\n",
       "      <th>min_color</th>\n",
       "      <th>max_color</th>\n",
       "      <th>var_gray</th>\n",
       "      <th>mean_gray</th>\n",
       "      <th>min_gray</th>\n",
       "      <th>max_gray</th>\n",
       "      <th>nb_pixel_0.0_0.1</th>\n",
       "      <th>nb_pixel_0.1_0.2</th>\n",
       "      <th>nb_pixel_0.2_0.3</th>\n",
       "      <th>nb_pixel_0.3_0.4</th>\n",
       "      <th>nb_pixel_0.4_0.5</th>\n",
       "      <th>nb_pixel_0.5_0.6</th>\n",
       "      <th>nb_pixel_0.6_0.7</th>\n",
       "      <th>nb_pixel_0.7_0.8</th>\n",
       "      <th>nb_pixel_0.8_0.9</th>\n",
       "      <th>nb_pixel_0.9_1.0</th>\n",
       "    </tr>\n",
       "  </thead>\n",
       "  <tbody>\n",
       "    <tr>\n",
       "      <th>count</th>\n",
       "      <td>16534.000000</td>\n",
       "      <td>16534.000000</td>\n",
       "      <td>16534.000000</td>\n",
       "      <td>16534.000000</td>\n",
       "      <td>16534.000000</td>\n",
       "      <td>16534.000000</td>\n",
       "      <td>16534.000000</td>\n",
       "      <td>16534.000000</td>\n",
       "      <td>16534.000000</td>\n",
       "      <td>16534.0</td>\n",
       "      <td>16534.000000</td>\n",
       "      <td>16534.000000</td>\n",
       "      <td>16534.000000</td>\n",
       "      <td>16534.000000</td>\n",
       "      <td>16534.000000</td>\n",
       "      <td>16534.000000</td>\n",
       "      <td>16534.000000</td>\n",
       "      <td>16534.000000</td>\n",
       "      <td>16534.000000</td>\n",
       "    </tr>\n",
       "    <tr>\n",
       "      <th>mean</th>\n",
       "      <td>5186.434861</td>\n",
       "      <td>0.000187</td>\n",
       "      <td>0.932538</td>\n",
       "      <td>0.915922</td>\n",
       "      <td>0.951003</td>\n",
       "      <td>0.455423</td>\n",
       "      <td>0.638756</td>\n",
       "      <td>0.425941</td>\n",
       "      <td>0.767492</td>\n",
       "      <td>0.0</td>\n",
       "      <td>0.023588</td>\n",
       "      <td>0.068828</td>\n",
       "      <td>0.825390</td>\n",
       "      <td>9.424398</td>\n",
       "      <td>39.726261</td>\n",
       "      <td>255.600641</td>\n",
       "      <td>1700.682533</td>\n",
       "      <td>7205.277186</td>\n",
       "      <td>3425.218157</td>\n",
       "    </tr>\n",
       "    <tr>\n",
       "      <th>std</th>\n",
       "      <td>2555.612474</td>\n",
       "      <td>0.000685</td>\n",
       "      <td>0.042827</td>\n",
       "      <td>0.050649</td>\n",
       "      <td>0.038777</td>\n",
       "      <td>0.401030</td>\n",
       "      <td>0.047318</td>\n",
       "      <td>0.166523</td>\n",
       "      <td>0.034910</td>\n",
       "      <td>0.0</td>\n",
       "      <td>2.398723</td>\n",
       "      <td>3.554840</td>\n",
       "      <td>10.868906</td>\n",
       "      <td>34.948790</td>\n",
       "      <td>148.352439</td>\n",
       "      <td>944.844381</td>\n",
       "      <td>2869.953967</td>\n",
       "      <td>4015.087123</td>\n",
       "      <td>3777.575870</td>\n",
       "    </tr>\n",
       "    <tr>\n",
       "      <th>min</th>\n",
       "      <td>720.000000</td>\n",
       "      <td>0.000000</td>\n",
       "      <td>0.361582</td>\n",
       "      <td>0.308397</td>\n",
       "      <td>0.361582</td>\n",
       "      <td>0.013198</td>\n",
       "      <td>0.399673</td>\n",
       "      <td>0.062745</td>\n",
       "      <td>0.564706</td>\n",
       "      <td>0.0</td>\n",
       "      <td>0.000000</td>\n",
       "      <td>0.000000</td>\n",
       "      <td>0.000000</td>\n",
       "      <td>0.000000</td>\n",
       "      <td>0.000000</td>\n",
       "      <td>0.000000</td>\n",
       "      <td>0.000000</td>\n",
       "      <td>0.000000</td>\n",
       "      <td>2.000000</td>\n",
       "    </tr>\n",
       "    <tr>\n",
       "      <th>25%</th>\n",
       "      <td>3753.000000</td>\n",
       "      <td>0.000028</td>\n",
       "      <td>0.912136</td>\n",
       "      <td>0.892857</td>\n",
       "      <td>0.933333</td>\n",
       "      <td>0.169282</td>\n",
       "      <td>0.614504</td>\n",
       "      <td>0.262745</td>\n",
       "      <td>0.749020</td>\n",
       "      <td>0.0</td>\n",
       "      <td>0.000000</td>\n",
       "      <td>0.000000</td>\n",
       "      <td>0.000000</td>\n",
       "      <td>0.000000</td>\n",
       "      <td>0.000000</td>\n",
       "      <td>0.000000</td>\n",
       "      <td>1.000000</td>\n",
       "      <td>3781.000000</td>\n",
       "      <td>944.000000</td>\n",
       "    </tr>\n",
       "    <tr>\n",
       "      <th>50%</th>\n",
       "      <td>4641.000000</td>\n",
       "      <td>0.000070</td>\n",
       "      <td>0.942715</td>\n",
       "      <td>0.926871</td>\n",
       "      <td>0.960345</td>\n",
       "      <td>0.357243</td>\n",
       "      <td>0.646235</td>\n",
       "      <td>0.431373</td>\n",
       "      <td>0.764706</td>\n",
       "      <td>0.0</td>\n",
       "      <td>0.000000</td>\n",
       "      <td>0.000000</td>\n",
       "      <td>0.000000</td>\n",
       "      <td>0.000000</td>\n",
       "      <td>0.000000</td>\n",
       "      <td>29.000000</td>\n",
       "      <td>190.000000</td>\n",
       "      <td>7634.500000</td>\n",
       "      <td>1913.000000</td>\n",
       "    </tr>\n",
       "    <tr>\n",
       "      <th>75%</th>\n",
       "      <td>5848.500000</td>\n",
       "      <td>0.000161</td>\n",
       "      <td>0.963064</td>\n",
       "      <td>0.950949</td>\n",
       "      <td>0.978261</td>\n",
       "      <td>0.614151</td>\n",
       "      <td>0.671711</td>\n",
       "      <td>0.592157</td>\n",
       "      <td>0.788235</td>\n",
       "      <td>0.0</td>\n",
       "      <td>0.000000</td>\n",
       "      <td>0.000000</td>\n",
       "      <td>0.000000</td>\n",
       "      <td>3.000000</td>\n",
       "      <td>49.000000</td>\n",
       "      <td>108.000000</td>\n",
       "      <td>1966.000000</td>\n",
       "      <td>10215.000000</td>\n",
       "      <td>4317.750000</td>\n",
       "    </tr>\n",
       "    <tr>\n",
       "      <th>max</th>\n",
       "      <td>79306.000000</td>\n",
       "      <td>0.030410</td>\n",
       "      <td>1.000000</td>\n",
       "      <td>1.000000</td>\n",
       "      <td>1.000000</td>\n",
       "      <td>7.691629</td>\n",
       "      <td>0.748599</td>\n",
       "      <td>0.705882</td>\n",
       "      <td>0.941176</td>\n",
       "      <td>0.0</td>\n",
       "      <td>295.000000</td>\n",
       "      <td>305.000000</td>\n",
       "      <td>1026.000000</td>\n",
       "      <td>1595.000000</td>\n",
       "      <td>5492.000000</td>\n",
       "      <td>12863.000000</td>\n",
       "      <td>17071.000000</td>\n",
       "      <td>29463.000000</td>\n",
       "      <td>30574.000000</td>\n",
       "    </tr>\n",
       "  </tbody>\n",
       "</table>\n",
       "</div>"
      ],
      "text/plain": [
       "       nb_black_pixels     var_color    mean_color     min_color  \\\n",
       "count     16534.000000  16534.000000  16534.000000  16534.000000   \n",
       "mean       5186.434861      0.000187      0.932538      0.915922   \n",
       "std        2555.612474      0.000685      0.042827      0.050649   \n",
       "min         720.000000      0.000000      0.361582      0.308397   \n",
       "25%        3753.000000      0.000028      0.912136      0.892857   \n",
       "50%        4641.000000      0.000070      0.942715      0.926871   \n",
       "75%        5848.500000      0.000161      0.963064      0.950949   \n",
       "max       79306.000000      0.030410      1.000000      1.000000   \n",
       "\n",
       "          max_color      var_gray     mean_gray      min_gray      max_gray  \\\n",
       "count  16534.000000  16534.000000  16534.000000  16534.000000  16534.000000   \n",
       "mean       0.951003      0.455423      0.638756      0.425941      0.767492   \n",
       "std        0.038777      0.401030      0.047318      0.166523      0.034910   \n",
       "min        0.361582      0.013198      0.399673      0.062745      0.564706   \n",
       "25%        0.933333      0.169282      0.614504      0.262745      0.749020   \n",
       "50%        0.960345      0.357243      0.646235      0.431373      0.764706   \n",
       "75%        0.978261      0.614151      0.671711      0.592157      0.788235   \n",
       "max        1.000000      7.691629      0.748599      0.705882      0.941176   \n",
       "\n",
       "       nb_pixel_0.0_0.1  nb_pixel_0.1_0.2  nb_pixel_0.2_0.3  nb_pixel_0.3_0.4  \\\n",
       "count           16534.0      16534.000000      16534.000000      16534.000000   \n",
       "mean                0.0          0.023588          0.068828          0.825390   \n",
       "std                 0.0          2.398723          3.554840         10.868906   \n",
       "min                 0.0          0.000000          0.000000          0.000000   \n",
       "25%                 0.0          0.000000          0.000000          0.000000   \n",
       "50%                 0.0          0.000000          0.000000          0.000000   \n",
       "75%                 0.0          0.000000          0.000000          0.000000   \n",
       "max                 0.0        295.000000        305.000000       1026.000000   \n",
       "\n",
       "       nb_pixel_0.4_0.5  nb_pixel_0.5_0.6  nb_pixel_0.6_0.7  nb_pixel_0.7_0.8  \\\n",
       "count      16534.000000      16534.000000      16534.000000      16534.000000   \n",
       "mean           9.424398         39.726261        255.600641       1700.682533   \n",
       "std           34.948790        148.352439        944.844381       2869.953967   \n",
       "min            0.000000          0.000000          0.000000          0.000000   \n",
       "25%            0.000000          0.000000          0.000000          1.000000   \n",
       "50%            0.000000          0.000000         29.000000        190.000000   \n",
       "75%            3.000000         49.000000        108.000000       1966.000000   \n",
       "max         1595.000000       5492.000000      12863.000000      17071.000000   \n",
       "\n",
       "       nb_pixel_0.8_0.9  nb_pixel_0.9_1.0  \n",
       "count      16534.000000      16534.000000  \n",
       "mean        7205.277186       3425.218157  \n",
       "std         4015.087123       3777.575870  \n",
       "min            0.000000          2.000000  \n",
       "25%         3781.000000        944.000000  \n",
       "50%         7634.500000       1913.000000  \n",
       "75%        10215.000000       4317.750000  \n",
       "max        29463.000000      30574.000000  "
      ]
     },
     "execution_count": 35,
     "metadata": {},
     "output_type": "execute_result"
    }
   ],
   "source": [
    "data.describe() "
   ]
  },
  {
   "cell_type": "markdown",
   "metadata": {},
   "source": [
    "Histogram of our features:"
   ]
  },
  {
   "cell_type": "code",
   "execution_count": 18,
   "metadata": {},
   "outputs": [
    {
     "data": {
      "image/png": "[encoded data removed]",
      "text/plain": [
       "<Figure size 1440x1152 with 19 Axes>"
      ]
     },
     "metadata": {},
     "output_type": "display_data"
    }
   ],
   "source": [
    "import matplotlib.pyplot as plt\n",
    "\n",
    "plt.figure(figsize=(20,16))\n",
    "\n",
    "for t in range(19):\n",
    "    plt.subplot(4,5,t+1)\n",
    "    plt.hist(data[data.columns[t]])\n",
    "    plt.title(data.columns[t])\n",
    "    t+=1"
   ]
  },
  {
   "cell_type": "markdown",
   "metadata": {},
   "source": [
    "Correlation of our features with the target: 'parasitized'"
   ]
  },
  {
   "cell_type": "code",
   "execution_count": 47,
   "metadata": {},
   "outputs": [
    {
     "data": {
      "text/html": [
       "<div>\n",
       "<style scoped>\n",
       "    .dataframe tbody tr th:only-of-type {\n",
       "        vertical-align: middle;\n",
       "    }\n",
       "\n",
       "    .dataframe tbody tr th {\n",
       "        vertical-align: top;\n",
       "    }\n",
       "\n",
       "    .dataframe thead th {\n",
       "        text-align: right;\n",
       "    }\n",
       "</style>\n",
       "<table border=\"1\" class=\"dataframe\">\n",
       "  <thead>\n",
       "    <tr style=\"text-align: right;\">\n",
       "      <th></th>\n",
       "      <th>parasitized</th>\n",
       "      <th>nb_black_pixels</th>\n",
       "      <th>var_color</th>\n",
       "      <th>mean_color</th>\n",
       "      <th>min_color</th>\n",
       "      <th>max_color</th>\n",
       "      <th>var_gray</th>\n",
       "      <th>mean_gray</th>\n",
       "      <th>min_gray</th>\n",
       "      <th>max_gray</th>\n",
       "      <th>nb_pixel_0.0_0.1</th>\n",
       "      <th>nb_pixel_0.1_0.2</th>\n",
       "      <th>nb_pixel_0.2_0.3</th>\n",
       "      <th>nb_pixel_0.3_0.4</th>\n",
       "      <th>nb_pixel_0.4_0.5</th>\n",
       "      <th>nb_pixel_0.5_0.6</th>\n",
       "      <th>nb_pixel_0.6_0.7</th>\n",
       "      <th>nb_pixel_0.7_0.8</th>\n",
       "      <th>nb_pixel_0.8_0.9</th>\n",
       "      <th>nb_pixel_0.9_1.0</th>\n",
       "    </tr>\n",
       "  </thead>\n",
       "  <tbody>\n",
       "    <tr>\n",
       "      <th>parasitized</th>\n",
       "      <td>1.000000</td>\n",
       "      <td>0.100477</td>\n",
       "      <td>0.046781</td>\n",
       "      <td>-0.197999</td>\n",
       "      <td>-0.177857</td>\n",
       "      <td>-0.210265</td>\n",
       "      <td>0.440838</td>\n",
       "      <td>-0.266705</td>\n",
       "      <td>-0.871959</td>\n",
       "      <td>-0.012854</td>\n",
       "      <td>NaN</td>\n",
       "      <td>-0.009592</td>\n",
       "      <td>0.004947</td>\n",
       "      <td>0.068459</td>\n",
       "      <td>0.256478</td>\n",
       "      <td>0.240366</td>\n",
       "      <td>0.152994</td>\n",
       "      <td>0.168525</td>\n",
       "      <td>0.047019</td>\n",
       "      <td>-0.194985</td>\n",
       "    </tr>\n",
       "    <tr>\n",
       "      <th>nb_black_pixels</th>\n",
       "      <td>0.100477</td>\n",
       "      <td>1.000000</td>\n",
       "      <td>-0.030570</td>\n",
       "      <td>0.034557</td>\n",
       "      <td>0.073478</td>\n",
       "      <td>-0.036797</td>\n",
       "      <td>-0.073044</td>\n",
       "      <td>0.219705</td>\n",
       "      <td>-0.085592</td>\n",
       "      <td>0.008297</td>\n",
       "      <td>NaN</td>\n",
       "      <td>0.021980</td>\n",
       "      <td>0.029312</td>\n",
       "      <td>0.017840</td>\n",
       "      <td>0.030424</td>\n",
       "      <td>0.004310</td>\n",
       "      <td>-0.068189</td>\n",
       "      <td>-0.104491</td>\n",
       "      <td>0.219559</td>\n",
       "      <td>0.348202</td>\n",
       "    </tr>\n",
       "    <tr>\n",
       "      <th>var_color</th>\n",
       "      <td>0.046781</td>\n",
       "      <td>-0.030570</td>\n",
       "      <td>1.000000</td>\n",
       "      <td>-0.282429</td>\n",
       "      <td>-0.475334</td>\n",
       "      <td>-0.028050</td>\n",
       "      <td>0.137628</td>\n",
       "      <td>-0.152356</td>\n",
       "      <td>-0.086753</td>\n",
       "      <td>0.059463</td>\n",
       "      <td>NaN</td>\n",
       "      <td>-0.002087</td>\n",
       "      <td>0.000151</td>\n",
       "      <td>0.017121</td>\n",
       "      <td>0.055116</td>\n",
       "      <td>0.100409</td>\n",
       "      <td>0.126825</td>\n",
       "      <td>0.140567</td>\n",
       "      <td>-0.050218</td>\n",
       "      <td>-0.107621</td>\n",
       "    </tr>\n",
       "    <tr>\n",
       "      <th>mean_color</th>\n",
       "      <td>-0.197999</td>\n",
       "      <td>0.034557</td>\n",
       "      <td>-0.282429</td>\n",
       "      <td>1.000000</td>\n",
       "      <td>0.954260</td>\n",
       "      <td>0.914975</td>\n",
       "      <td>-0.334417</td>\n",
       "      <td>0.437410</td>\n",
       "      <td>0.281407</td>\n",
       "      <td>-0.140403</td>\n",
       "      <td>NaN</td>\n",
       "      <td>0.002544</td>\n",
       "      <td>-0.001140</td>\n",
       "      <td>-0.047991</td>\n",
       "      <td>-0.133786</td>\n",
       "      <td>-0.203043</td>\n",
       "      <td>-0.262084</td>\n",
       "      <td>-0.376635</td>\n",
       "      <td>0.069324</td>\n",
       "      <td>0.398801</td>\n",
       "    </tr>\n",
       "    <tr>\n",
       "      <th>min_color</th>\n",
       "      <td>-0.177857</td>\n",
       "      <td>0.073478</td>\n",
       "      <td>-0.475334</td>\n",
       "      <td>0.954260</td>\n",
       "      <td>1.000000</td>\n",
       "      <td>0.781226</td>\n",
       "      <td>-0.351193</td>\n",
       "      <td>0.449546</td>\n",
       "      <td>0.267264</td>\n",
       "      <td>-0.161581</td>\n",
       "      <td>NaN</td>\n",
       "      <td>0.003579</td>\n",
       "      <td>0.000715</td>\n",
       "      <td>-0.046214</td>\n",
       "      <td>-0.132724</td>\n",
       "      <td>-0.211068</td>\n",
       "      <td>-0.282746</td>\n",
       "      <td>-0.398386</td>\n",
       "      <td>0.084316</td>\n",
       "      <td>0.405154</td>\n",
       "    </tr>\n",
       "    <tr>\n",
       "      <th>max_color</th>\n",
       "      <td>-0.210265</td>\n",
       "      <td>-0.036797</td>\n",
       "      <td>-0.028050</td>\n",
       "      <td>0.914975</td>\n",
       "      <td>0.781226</td>\n",
       "      <td>1.000000</td>\n",
       "      <td>-0.262118</td>\n",
       "      <td>0.349105</td>\n",
       "      <td>0.270918</td>\n",
       "      <td>-0.087486</td>\n",
       "      <td>NaN</td>\n",
       "      <td>-0.000517</td>\n",
       "      <td>-0.004041</td>\n",
       "      <td>-0.045191</td>\n",
       "      <td>-0.116718</td>\n",
       "      <td>-0.170052</td>\n",
       "      <td>-0.190446</td>\n",
       "      <td>-0.278585</td>\n",
       "      <td>0.029976</td>\n",
       "      <td>0.329213</td>\n",
       "    </tr>\n",
       "    <tr>\n",
       "      <th>var_gray</th>\n",
       "      <td>0.440838</td>\n",
       "      <td>-0.073044</td>\n",
       "      <td>0.137628</td>\n",
       "      <td>-0.334417</td>\n",
       "      <td>-0.351193</td>\n",
       "      <td>-0.262118</td>\n",
       "      <td>1.000000</td>\n",
       "      <td>-0.619262</td>\n",
       "      <td>-0.606560</td>\n",
       "      <td>0.217788</td>\n",
       "      <td>NaN</td>\n",
       "      <td>0.074152</td>\n",
       "      <td>0.179882</td>\n",
       "      <td>0.338849</td>\n",
       "      <td>0.591797</td>\n",
       "      <td>0.509401</td>\n",
       "      <td>0.542857</td>\n",
       "      <td>0.543406</td>\n",
       "      <td>-0.241599</td>\n",
       "      <td>-0.395960</td>\n",
       "    </tr>\n",
       "    <tr>\n",
       "      <th>mean_gray</th>\n",
       "      <td>-0.266705</td>\n",
       "      <td>0.219705</td>\n",
       "      <td>-0.152356</td>\n",
       "      <td>0.437410</td>\n",
       "      <td>0.449546</td>\n",
       "      <td>0.349105</td>\n",
       "      <td>-0.619262</td>\n",
       "      <td>1.000000</td>\n",
       "      <td>0.454241</td>\n",
       "      <td>0.269254</td>\n",
       "      <td>NaN</td>\n",
       "      <td>0.000083</td>\n",
       "      <td>-0.021247</td>\n",
       "      <td>-0.112426</td>\n",
       "      <td>-0.305813</td>\n",
       "      <td>-0.358731</td>\n",
       "      <td>-0.535885</td>\n",
       "      <td>-0.604321</td>\n",
       "      <td>0.283847</td>\n",
       "      <td>0.536185</td>\n",
       "    </tr>\n",
       "    <tr>\n",
       "      <th>min_gray</th>\n",
       "      <td>-0.871959</td>\n",
       "      <td>-0.085592</td>\n",
       "      <td>-0.086753</td>\n",
       "      <td>0.281407</td>\n",
       "      <td>0.267264</td>\n",
       "      <td>0.270918</td>\n",
       "      <td>-0.606560</td>\n",
       "      <td>0.454241</td>\n",
       "      <td>1.000000</td>\n",
       "      <td>0.034148</td>\n",
       "      <td>NaN</td>\n",
       "      <td>-0.021212</td>\n",
       "      <td>-0.037000</td>\n",
       "      <td>-0.121067</td>\n",
       "      <td>-0.368373</td>\n",
       "      <td>-0.311225</td>\n",
       "      <td>-0.234364</td>\n",
       "      <td>-0.313551</td>\n",
       "      <td>-0.042649</td>\n",
       "      <td>0.311339</td>\n",
       "    </tr>\n",
       "    <tr>\n",
       "      <th>max_gray</th>\n",
       "      <td>-0.012854</td>\n",
       "      <td>0.008297</td>\n",
       "      <td>0.059463</td>\n",
       "      <td>-0.140403</td>\n",
       "      <td>-0.161581</td>\n",
       "      <td>-0.087486</td>\n",
       "      <td>0.217788</td>\n",
       "      <td>0.269254</td>\n",
       "      <td>0.034148</td>\n",
       "      <td>1.000000</td>\n",
       "      <td>NaN</td>\n",
       "      <td>-0.000663</td>\n",
       "      <td>0.001771</td>\n",
       "      <td>0.003845</td>\n",
       "      <td>0.022521</td>\n",
       "      <td>0.044160</td>\n",
       "      <td>0.133104</td>\n",
       "      <td>0.299761</td>\n",
       "      <td>0.087546</td>\n",
       "      <td>-0.230292</td>\n",
       "    </tr>\n",
       "    <tr>\n",
       "      <th>nb_pixel_0.0_0.1</th>\n",
       "      <td>NaN</td>\n",
       "      <td>NaN</td>\n",
       "      <td>NaN</td>\n",
       "      <td>NaN</td>\n",
       "      <td>NaN</td>\n",
       "      <td>NaN</td>\n",
       "      <td>NaN</td>\n",
       "      <td>NaN</td>\n",
       "      <td>NaN</td>\n",
       "      <td>NaN</td>\n",
       "      <td>NaN</td>\n",
       "      <td>NaN</td>\n",
       "      <td>NaN</td>\n",
       "      <td>NaN</td>\n",
       "      <td>NaN</td>\n",
       "      <td>NaN</td>\n",
       "      <td>NaN</td>\n",
       "      <td>NaN</td>\n",
       "      <td>NaN</td>\n",
       "      <td>NaN</td>\n",
       "    </tr>\n",
       "    <tr>\n",
       "      <th>nb_pixel_0.1_0.2</th>\n",
       "      <td>-0.009592</td>\n",
       "      <td>0.021980</td>\n",
       "      <td>-0.002087</td>\n",
       "      <td>0.002544</td>\n",
       "      <td>0.003579</td>\n",
       "      <td>-0.000517</td>\n",
       "      <td>0.074152</td>\n",
       "      <td>0.000083</td>\n",
       "      <td>-0.021212</td>\n",
       "      <td>-0.000663</td>\n",
       "      <td>NaN</td>\n",
       "      <td>1.000000</td>\n",
       "      <td>0.697081</td>\n",
       "      <td>0.153044</td>\n",
       "      <td>0.046130</td>\n",
       "      <td>0.005870</td>\n",
       "      <td>-0.001181</td>\n",
       "      <td>-0.004964</td>\n",
       "      <td>0.009938</td>\n",
       "      <td>0.004030</td>\n",
       "    </tr>\n",
       "    <tr>\n",
       "      <th>nb_pixel_0.2_0.3</th>\n",
       "      <td>0.004947</td>\n",
       "      <td>0.029312</td>\n",
       "      <td>0.000151</td>\n",
       "      <td>-0.001140</td>\n",
       "      <td>0.000715</td>\n",
       "      <td>-0.004041</td>\n",
       "      <td>0.179882</td>\n",
       "      <td>-0.021247</td>\n",
       "      <td>-0.037000</td>\n",
       "      <td>0.001771</td>\n",
       "      <td>NaN</td>\n",
       "      <td>0.697081</td>\n",
       "      <td>1.000000</td>\n",
       "      <td>0.688239</td>\n",
       "      <td>0.227808</td>\n",
       "      <td>0.063356</td>\n",
       "      <td>0.010093</td>\n",
       "      <td>0.001412</td>\n",
       "      <td>0.002158</td>\n",
       "      <td>-0.001274</td>\n",
       "    </tr>\n",
       "    <tr>\n",
       "      <th>nb_pixel_0.3_0.4</th>\n",
       "      <td>0.068459</td>\n",
       "      <td>0.017840</td>\n",
       "      <td>0.017121</td>\n",
       "      <td>-0.047991</td>\n",
       "      <td>-0.046214</td>\n",
       "      <td>-0.045191</td>\n",
       "      <td>0.338849</td>\n",
       "      <td>-0.112426</td>\n",
       "      <td>-0.121067</td>\n",
       "      <td>0.003845</td>\n",
       "      <td>NaN</td>\n",
       "      <td>0.153044</td>\n",
       "      <td>0.688239</td>\n",
       "      <td>1.000000</td>\n",
       "      <td>0.567963</td>\n",
       "      <td>0.218701</td>\n",
       "      <td>0.087471</td>\n",
       "      <td>0.058750</td>\n",
       "      <td>-0.038725</td>\n",
       "      <td>-0.038549</td>\n",
       "    </tr>\n",
       "    <tr>\n",
       "      <th>nb_pixel_0.4_0.5</th>\n",
       "      <td>0.256478</td>\n",
       "      <td>0.030424</td>\n",
       "      <td>0.055116</td>\n",
       "      <td>-0.133786</td>\n",
       "      <td>-0.132724</td>\n",
       "      <td>-0.116718</td>\n",
       "      <td>0.591797</td>\n",
       "      <td>-0.305813</td>\n",
       "      <td>-0.368373</td>\n",
       "      <td>0.022521</td>\n",
       "      <td>NaN</td>\n",
       "      <td>0.046130</td>\n",
       "      <td>0.227808</td>\n",
       "      <td>0.567963</td>\n",
       "      <td>1.000000</td>\n",
       "      <td>0.475811</td>\n",
       "      <td>0.262800</td>\n",
       "      <td>0.197008</td>\n",
       "      <td>-0.083750</td>\n",
       "      <td>-0.128379</td>\n",
       "    </tr>\n",
       "    <tr>\n",
       "      <th>nb_pixel_0.5_0.6</th>\n",
       "      <td>0.240366</td>\n",
       "      <td>0.004310</td>\n",
       "      <td>0.100409</td>\n",
       "      <td>-0.203043</td>\n",
       "      <td>-0.211068</td>\n",
       "      <td>-0.170052</td>\n",
       "      <td>0.509401</td>\n",
       "      <td>-0.358731</td>\n",
       "      <td>-0.311225</td>\n",
       "      <td>0.044160</td>\n",
       "      <td>NaN</td>\n",
       "      <td>0.005870</td>\n",
       "      <td>0.063356</td>\n",
       "      <td>0.218701</td>\n",
       "      <td>0.475811</td>\n",
       "      <td>1.000000</td>\n",
       "      <td>0.383153</td>\n",
       "      <td>0.135137</td>\n",
       "      <td>-0.118073</td>\n",
       "      <td>-0.128184</td>\n",
       "    </tr>\n",
       "    <tr>\n",
       "      <th>nb_pixel_0.6_0.7</th>\n",
       "      <td>0.152994</td>\n",
       "      <td>-0.068189</td>\n",
       "      <td>0.126825</td>\n",
       "      <td>-0.262084</td>\n",
       "      <td>-0.282746</td>\n",
       "      <td>-0.190446</td>\n",
       "      <td>0.542857</td>\n",
       "      <td>-0.535885</td>\n",
       "      <td>-0.234364</td>\n",
       "      <td>0.133104</td>\n",
       "      <td>NaN</td>\n",
       "      <td>-0.001181</td>\n",
       "      <td>0.010093</td>\n",
       "      <td>0.087471</td>\n",
       "      <td>0.262800</td>\n",
       "      <td>0.383153</td>\n",
       "      <td>1.000000</td>\n",
       "      <td>0.252806</td>\n",
       "      <td>-0.302876</td>\n",
       "      <td>-0.181859</td>\n",
       "    </tr>\n",
       "    <tr>\n",
       "      <th>nb_pixel_0.7_0.8</th>\n",
       "      <td>0.168525</td>\n",
       "      <td>-0.104491</td>\n",
       "      <td>0.140567</td>\n",
       "      <td>-0.376635</td>\n",
       "      <td>-0.398386</td>\n",
       "      <td>-0.278585</td>\n",
       "      <td>0.543406</td>\n",
       "      <td>-0.604321</td>\n",
       "      <td>-0.313551</td>\n",
       "      <td>0.299761</td>\n",
       "      <td>NaN</td>\n",
       "      <td>-0.004964</td>\n",
       "      <td>0.001412</td>\n",
       "      <td>0.058750</td>\n",
       "      <td>0.197008</td>\n",
       "      <td>0.135137</td>\n",
       "      <td>0.252806</td>\n",
       "      <td>1.000000</td>\n",
       "      <td>-0.428162</td>\n",
       "      <td>-0.388078</td>\n",
       "    </tr>\n",
       "    <tr>\n",
       "      <th>nb_pixel_0.8_0.9</th>\n",
       "      <td>0.047019</td>\n",
       "      <td>0.219559</td>\n",
       "      <td>-0.050218</td>\n",
       "      <td>0.069324</td>\n",
       "      <td>0.084316</td>\n",
       "      <td>0.029976</td>\n",
       "      <td>-0.241599</td>\n",
       "      <td>0.283847</td>\n",
       "      <td>-0.042649</td>\n",
       "      <td>0.087546</td>\n",
       "      <td>NaN</td>\n",
       "      <td>0.009938</td>\n",
       "      <td>0.002158</td>\n",
       "      <td>-0.038725</td>\n",
       "      <td>-0.083750</td>\n",
       "      <td>-0.118073</td>\n",
       "      <td>-0.302876</td>\n",
       "      <td>-0.428162</td>\n",
       "      <td>1.000000</td>\n",
       "      <td>-0.331585</td>\n",
       "    </tr>\n",
       "    <tr>\n",
       "      <th>nb_pixel_0.9_1.0</th>\n",
       "      <td>-0.194985</td>\n",
       "      <td>0.348202</td>\n",
       "      <td>-0.107621</td>\n",
       "      <td>0.398801</td>\n",
       "      <td>0.405154</td>\n",
       "      <td>0.329213</td>\n",
       "      <td>-0.395960</td>\n",
       "      <td>0.536185</td>\n",
       "      <td>0.311339</td>\n",
       "      <td>-0.230292</td>\n",
       "      <td>NaN</td>\n",
       "      <td>0.004030</td>\n",
       "      <td>-0.001274</td>\n",
       "      <td>-0.038549</td>\n",
       "      <td>-0.128379</td>\n",
       "      <td>-0.128184</td>\n",
       "      <td>-0.181859</td>\n",
       "      <td>-0.388078</td>\n",
       "      <td>-0.331585</td>\n",
       "      <td>1.000000</td>\n",
       "    </tr>\n",
       "  </tbody>\n",
       "</table>\n",
       "</div>"
      ],
      "text/plain": [
       "                  parasitized  nb_black_pixels  var_color  mean_color  \\\n",
       "parasitized          1.000000         0.100477   0.046781   -0.197999   \n",
       "nb_black_pixels      0.100477         1.000000  -0.030570    0.034557   \n",
       "var_color            0.046781        -0.030570   1.000000   -0.282429   \n",
       "mean_color          -0.197999         0.034557  -0.282429    1.000000   \n",
       "min_color           -0.177857         0.073478  -0.475334    0.954260   \n",
       "max_color           -0.210265        -0.036797  -0.028050    0.914975   \n",
       "var_gray             0.440838        -0.073044   0.137628   -0.334417   \n",
       "mean_gray           -0.266705         0.219705  -0.152356    0.437410   \n",
       "min_gray            -0.871959        -0.085592  -0.086753    0.281407   \n",
       "max_gray            -0.012854         0.008297   0.059463   -0.140403   \n",
       "nb_pixel_0.0_0.1          NaN              NaN        NaN         NaN   \n",
       "nb_pixel_0.1_0.2    -0.009592         0.021980  -0.002087    0.002544   \n",
       "nb_pixel_0.2_0.3     0.004947         0.029312   0.000151   -0.001140   \n",
       "nb_pixel_0.3_0.4     0.068459         0.017840   0.017121   -0.047991   \n",
       "nb_pixel_0.4_0.5     0.256478         0.030424   0.055116   -0.133786   \n",
       "nb_pixel_0.5_0.6     0.240366         0.004310   0.100409   -0.203043   \n",
       "nb_pixel_0.6_0.7     0.152994        -0.068189   0.126825   -0.262084   \n",
       "nb_pixel_0.7_0.8     0.168525        -0.104491   0.140567   -0.376635   \n",
       "nb_pixel_0.8_0.9     0.047019         0.219559  -0.050218    0.069324   \n",
       "nb_pixel_0.9_1.0    -0.194985         0.348202  -0.107621    0.398801   \n",
       "\n",
       "                  min_color  max_color  var_gray  mean_gray  min_gray  \\\n",
       "parasitized       -0.177857  -0.210265  0.440838  -0.266705 -0.871959   \n",
       "nb_black_pixels    0.073478  -0.036797 -0.073044   0.219705 -0.085592   \n",
       "var_color         -0.475334  -0.028050  0.137628  -0.152356 -0.086753   \n",
       "mean_color         0.954260   0.914975 -0.334417   0.437410  0.281407   \n",
       "min_color          1.000000   0.781226 -0.351193   0.449546  0.267264   \n",
       "max_color          0.781226   1.000000 -0.262118   0.349105  0.270918   \n",
       "var_gray          -0.351193  -0.262118  1.000000  -0.619262 -0.606560   \n",
       "mean_gray          0.449546   0.349105 -0.619262   1.000000  0.454241   \n",
       "min_gray           0.267264   0.270918 -0.606560   0.454241  1.000000   \n",
       "max_gray          -0.161581  -0.087486  0.217788   0.269254  0.034148   \n",
       "nb_pixel_0.0_0.1        NaN        NaN       NaN        NaN       NaN   \n",
       "nb_pixel_0.1_0.2   0.003579  -0.000517  0.074152   0.000083 -0.021212   \n",
       "nb_pixel_0.2_0.3   0.000715  -0.004041  0.179882  -0.021247 -0.037000   \n",
       "nb_pixel_0.3_0.4  -0.046214  -0.045191  0.338849  -0.112426 -0.121067   \n",
       "nb_pixel_0.4_0.5  -0.132724  -0.116718  0.591797  -0.305813 -0.368373   \n",
       "nb_pixel_0.5_0.6  -0.211068  -0.170052  0.509401  -0.358731 -0.311225   \n",
       "nb_pixel_0.6_0.7  -0.282746  -0.190446  0.542857  -0.535885 -0.234364   \n",
       "nb_pixel_0.7_0.8  -0.398386  -0.278585  0.543406  -0.604321 -0.313551   \n",
       "nb_pixel_0.8_0.9   0.084316   0.029976 -0.241599   0.283847 -0.042649   \n",
       "nb_pixel_0.9_1.0   0.405154   0.329213 -0.395960   0.536185  0.311339   \n",
       "\n",
       "                  max_gray  nb_pixel_0.0_0.1  nb_pixel_0.1_0.2  \\\n",
       "parasitized      -0.012854               NaN         -0.009592   \n",
       "nb_black_pixels   0.008297               NaN          0.021980   \n",
       "var_color         0.059463               NaN         -0.002087   \n",
       "mean_color       -0.140403               NaN          0.002544   \n",
       "min_color        -0.161581               NaN          0.003579   \n",
       "max_color        -0.087486               NaN         -0.000517   \n",
       "var_gray          0.217788               NaN          0.074152   \n",
       "mean_gray         0.269254               NaN          0.000083   \n",
       "min_gray          0.034148               NaN         -0.021212   \n",
       "max_gray          1.000000               NaN         -0.000663   \n",
       "nb_pixel_0.0_0.1       NaN               NaN               NaN   \n",
       "nb_pixel_0.1_0.2 -0.000663               NaN          1.000000   \n",
       "nb_pixel_0.2_0.3  0.001771               NaN          0.697081   \n",
       "nb_pixel_0.3_0.4  0.003845               NaN          0.153044   \n",
       "nb_pixel_0.4_0.5  0.022521               NaN          0.046130   \n",
       "nb_pixel_0.5_0.6  0.044160               NaN          0.005870   \n",
       "nb_pixel_0.6_0.7  0.133104               NaN         -0.001181   \n",
       "nb_pixel_0.7_0.8  0.299761               NaN         -0.004964   \n",
       "nb_pixel_0.8_0.9  0.087546               NaN          0.009938   \n",
       "nb_pixel_0.9_1.0 -0.230292               NaN          0.004030   \n",
       "\n",
       "                  nb_pixel_0.2_0.3  nb_pixel_0.3_0.4  nb_pixel_0.4_0.5  \\\n",
       "parasitized               0.004947          0.068459          0.256478   \n",
       "nb_black_pixels           0.029312          0.017840          0.030424   \n",
       "var_color                 0.000151          0.017121          0.055116   \n",
       "mean_color               -0.001140         -0.047991         -0.133786   \n",
       "min_color                 0.000715         -0.046214         -0.132724   \n",
       "max_color                -0.004041         -0.045191         -0.116718   \n",
       "var_gray                  0.179882          0.338849          0.591797   \n",
       "mean_gray                -0.021247         -0.112426         -0.305813   \n",
       "min_gray                 -0.037000         -0.121067         -0.368373   \n",
       "max_gray                  0.001771          0.003845          0.022521   \n",
       "nb_pixel_0.0_0.1               NaN               NaN               NaN   \n",
       "nb_pixel_0.1_0.2          0.697081          0.153044          0.046130   \n",
       "nb_pixel_0.2_0.3          1.000000          0.688239          0.227808   \n",
       "nb_pixel_0.3_0.4          0.688239          1.000000          0.567963   \n",
       "nb_pixel_0.4_0.5          0.227808          0.567963          1.000000   \n",
       "nb_pixel_0.5_0.6          0.063356          0.218701          0.475811   \n",
       "nb_pixel_0.6_0.7          0.010093          0.087471          0.262800   \n",
       "nb_pixel_0.7_0.8          0.001412          0.058750          0.197008   \n",
       "nb_pixel_0.8_0.9          0.002158         -0.038725         -0.083750   \n",
       "nb_pixel_0.9_1.0         -0.001274         -0.038549         -0.128379   \n",
       "\n",
       "                  nb_pixel_0.5_0.6  nb_pixel_0.6_0.7  nb_pixel_0.7_0.8  \\\n",
       "parasitized               0.240366          0.152994          0.168525   \n",
       "nb_black_pixels           0.004310         -0.068189         -0.104491   \n",
       "var_color                 0.100409          0.126825          0.140567   \n",
       "mean_color               -0.203043         -0.262084         -0.376635   \n",
       "min_color                -0.211068         -0.282746         -0.398386   \n",
       "max_color                -0.170052         -0.190446         -0.278585   \n",
       "var_gray                  0.509401          0.542857          0.543406   \n",
       "mean_gray                -0.358731         -0.535885         -0.604321   \n",
       "min_gray                 -0.311225         -0.234364         -0.313551   \n",
       "max_gray                  0.044160          0.133104          0.299761   \n",
       "nb_pixel_0.0_0.1               NaN               NaN               NaN   \n",
       "nb_pixel_0.1_0.2          0.005870         -0.001181         -0.004964   \n",
       "nb_pixel_0.2_0.3          0.063356          0.010093          0.001412   \n",
       "nb_pixel_0.3_0.4          0.218701          0.087471          0.058750   \n",
       "nb_pixel_0.4_0.5          0.475811          0.262800          0.197008   \n",
       "nb_pixel_0.5_0.6          1.000000          0.383153          0.135137   \n",
       "nb_pixel_0.6_0.7          0.383153          1.000000          0.252806   \n",
       "nb_pixel_0.7_0.8          0.135137          0.252806          1.000000   \n",
       "nb_pixel_0.8_0.9         -0.118073         -0.302876         -0.428162   \n",
       "nb_pixel_0.9_1.0         -0.128184         -0.181859         -0.388078   \n",
       "\n",
       "                  nb_pixel_0.8_0.9  nb_pixel_0.9_1.0  \n",
       "parasitized               0.047019         -0.194985  \n",
       "nb_black_pixels           0.219559          0.348202  \n",
       "var_color                -0.050218         -0.107621  \n",
       "mean_color                0.069324          0.398801  \n",
       "min_color                 0.084316          0.405154  \n",
       "max_color                 0.029976          0.329213  \n",
       "var_gray                 -0.241599         -0.395960  \n",
       "mean_gray                 0.283847          0.536185  \n",
       "min_gray                 -0.042649          0.311339  \n",
       "max_gray                  0.087546         -0.230292  \n",
       "nb_pixel_0.0_0.1               NaN               NaN  \n",
       "nb_pixel_0.1_0.2          0.009938          0.004030  \n",
       "nb_pixel_0.2_0.3          0.002158         -0.001274  \n",
       "nb_pixel_0.3_0.4         -0.038725         -0.038549  \n",
       "nb_pixel_0.4_0.5         -0.083750         -0.128379  \n",
       "nb_pixel_0.5_0.6         -0.118073         -0.128184  \n",
       "nb_pixel_0.6_0.7         -0.302876         -0.181859  \n",
       "nb_pixel_0.7_0.8         -0.428162         -0.388078  \n",
       "nb_pixel_0.8_0.9          1.000000         -0.331585  \n",
       "nb_pixel_0.9_1.0         -0.331585          1.000000  "
      ]
     },
     "execution_count": 47,
     "metadata": {},
     "output_type": "execute_result"
    }
   ],
   "source": [
    "import pandas as pd\n",
    "d=pd.get_dummies(data['target'])['parasitized']\n",
    "\n",
    "n_df = pd.merge(d, data, right_index=True, left_index=True)\n",
    "df_n = new_df.select_dtypes(include=np.number)\n",
    "\n",
    "df_n.corr()"
   ]
  },
  {
   "cell_type": "markdown",
   "metadata": {},
   "source": [
    "Let's try to indentify patterns with a pairplot, which will maybe give us structures for each class depending on 2 features "
   ]
  },
  {
   "cell_type": "code",
   "execution_count": 19,
   "metadata": {},
   "outputs": [
    {
     "name": "stderr",
     "output_type": "stream",
     "text": [
      "C:\\ProgramData\\Anaconda3\\lib\\site-packages\\statsmodels\\nonparametric\\kde.py:488: RuntimeWarning: invalid value encountered in true_divide\n",
      "  binned = fast_linbin(X, a, b, gridsize) / (delta * nobs)\n",
      "C:\\ProgramData\\Anaconda3\\lib\\site-packages\\statsmodels\\nonparametric\\kdetools.py:34: RuntimeWarning: invalid value encountered in double_scalars\n",
      "  FAC1 = 2*(np.pi*bw/RANGE)**2\n"
     ]
    },
    {
     "data": {
      "text/plain": [
       "<seaborn.axisgrid.PairGrid at 0x166f36935c0>"
      ]
     },
     "execution_count": 19,
     "metadata": {},
     "output_type": "execute_result"
    },
    {
     "name": "stdout",
     "output_type": "stream",
     "text": [
      "Error in callback <function flush_figures at 0x00000166EFB477B8> (for post_execute):\n"
     ]
    },
    {
     "ename": "KeyboardInterrupt",
     "evalue": "",
     "output_type": "error",
     "traceback": [
      "\u001b[1;31m---------------------------------------------------------------------------\u001b[0m",
      "\u001b[1;31mKeyboardInterrupt\u001b[0m                         Traceback (most recent call last)",
      "\u001b[1;32mC:\\ProgramData\\Anaconda3\\lib\\site-packages\\ipykernel\\pylab\\backend_inline.py\u001b[0m in \u001b[0;36mflush_figures\u001b[1;34m()\u001b[0m\n\u001b[0;32m    115\u001b[0m         \u001b[1;31m# ignore the tracking, just draw and close all figures\u001b[0m\u001b[1;33m\u001b[0m\u001b[1;33m\u001b[0m\u001b[1;33m\u001b[0m\u001b[0m\n\u001b[0;32m    116\u001b[0m         \u001b[1;32mtry\u001b[0m\u001b[1;33m:\u001b[0m\u001b[1;33m\u001b[0m\u001b[1;33m\u001b[0m\u001b[0m\n\u001b[1;32m--> 117\u001b[1;33m             \u001b[1;32mreturn\u001b[0m \u001b[0mshow\u001b[0m\u001b[1;33m(\u001b[0m\u001b[1;32mTrue\u001b[0m\u001b[1;33m)\u001b[0m\u001b[1;33m\u001b[0m\u001b[1;33m\u001b[0m\u001b[0m\n\u001b[0m\u001b[0;32m    118\u001b[0m         \u001b[1;32mexcept\u001b[0m \u001b[0mException\u001b[0m \u001b[1;32mas\u001b[0m \u001b[0me\u001b[0m\u001b[1;33m:\u001b[0m\u001b[1;33m\u001b[0m\u001b[1;33m\u001b[0m\u001b[0m\n\u001b[0;32m    119\u001b[0m             \u001b[1;31m# safely show traceback if in IPython, else raise\u001b[0m\u001b[1;33m\u001b[0m\u001b[1;33m\u001b[0m\u001b[1;33m\u001b[0m\u001b[0m\n",
      "\u001b[1;32mC:\\ProgramData\\Anaconda3\\lib\\site-packages\\ipykernel\\pylab\\backend_inline.py\u001b[0m in \u001b[0;36mshow\u001b[1;34m(close, block)\u001b[0m\n\u001b[0;32m     37\u001b[0m             display(\n\u001b[0;32m     38\u001b[0m                 \u001b[0mfigure_manager\u001b[0m\u001b[1;33m.\u001b[0m\u001b[0mcanvas\u001b[0m\u001b[1;33m.\u001b[0m\u001b[0mfigure\u001b[0m\u001b[1;33m,\u001b[0m\u001b[1;33m\u001b[0m\u001b[1;33m\u001b[0m\u001b[0m\n\u001b[1;32m---> 39\u001b[1;33m                 \u001b[0mmetadata\u001b[0m\u001b[1;33m=\u001b[0m\u001b[0m_fetch_figure_metadata\u001b[0m\u001b[1;33m(\u001b[0m\u001b[0mfigure_manager\u001b[0m\u001b[1;33m.\u001b[0m\u001b[0mcanvas\u001b[0m\u001b[1;33m.\u001b[0m\u001b[0mfigure\u001b[0m\u001b[1;33m)\u001b[0m\u001b[1;33m\u001b[0m\u001b[1;33m\u001b[0m\u001b[0m\n\u001b[0m\u001b[0;32m     40\u001b[0m             )\n\u001b[0;32m     41\u001b[0m     \u001b[1;32mfinally\u001b[0m\u001b[1;33m:\u001b[0m\u001b[1;33m\u001b[0m\u001b[1;33m\u001b[0m\u001b[0m\n",
      "\u001b[1;32mC:\\ProgramData\\Anaconda3\\lib\\site-packages\\IPython\\core\\display.py\u001b[0m in \u001b[0;36mdisplay\u001b[1;34m(include, exclude, metadata, transient, display_id, *objs, **kwargs)\u001b[0m\n\u001b[0;32m    302\u001b[0m             \u001b[0mpublish_display_data\u001b[0m\u001b[1;33m(\u001b[0m\u001b[0mdata\u001b[0m\u001b[1;33m=\u001b[0m\u001b[0mobj\u001b[0m\u001b[1;33m,\u001b[0m \u001b[0mmetadata\u001b[0m\u001b[1;33m=\u001b[0m\u001b[0mmetadata\u001b[0m\u001b[1;33m,\u001b[0m \u001b[1;33m**\u001b[0m\u001b[0mkwargs\u001b[0m\u001b[1;33m)\u001b[0m\u001b[1;33m\u001b[0m\u001b[1;33m\u001b[0m\u001b[0m\n\u001b[0;32m    303\u001b[0m         \u001b[1;32melse\u001b[0m\u001b[1;33m:\u001b[0m\u001b[1;33m\u001b[0m\u001b[1;33m\u001b[0m\u001b[0m\n\u001b[1;32m--> 304\u001b[1;33m             \u001b[0mformat_dict\u001b[0m\u001b[1;33m,\u001b[0m \u001b[0mmd_dict\u001b[0m \u001b[1;33m=\u001b[0m \u001b[0mformat\u001b[0m\u001b[1;33m(\u001b[0m\u001b[0mobj\u001b[0m\u001b[1;33m,\u001b[0m \u001b[0minclude\u001b[0m\u001b[1;33m=\u001b[0m\u001b[0minclude\u001b[0m\u001b[1;33m,\u001b[0m \u001b[0mexclude\u001b[0m\u001b[1;33m=\u001b[0m\u001b[0mexclude\u001b[0m\u001b[1;33m)\u001b[0m\u001b[1;33m\u001b[0m\u001b[1;33m\u001b[0m\u001b[0m\n\u001b[0m\u001b[0;32m    305\u001b[0m             \u001b[1;32mif\u001b[0m \u001b[1;32mnot\u001b[0m \u001b[0mformat_dict\u001b[0m\u001b[1;33m:\u001b[0m\u001b[1;33m\u001b[0m\u001b[1;33m\u001b[0m\u001b[0m\n\u001b[0;32m    306\u001b[0m                 \u001b[1;31m# nothing to display (e.g. _ipython_display_ took over)\u001b[0m\u001b[1;33m\u001b[0m\u001b[1;33m\u001b[0m\u001b[1;33m\u001b[0m\u001b[0m\n",
      "\u001b[1;32mC:\\ProgramData\\Anaconda3\\lib\\site-packages\\IPython\\core\\formatters.py\u001b[0m in \u001b[0;36mformat\u001b[1;34m(self, obj, include, exclude)\u001b[0m\n\u001b[0;32m    178\u001b[0m             \u001b[0mmd\u001b[0m \u001b[1;33m=\u001b[0m \u001b[1;32mNone\u001b[0m\u001b[1;33m\u001b[0m\u001b[1;33m\u001b[0m\u001b[0m\n\u001b[0;32m    179\u001b[0m             \u001b[1;32mtry\u001b[0m\u001b[1;33m:\u001b[0m\u001b[1;33m\u001b[0m\u001b[1;33m\u001b[0m\u001b[0m\n\u001b[1;32m--> 180\u001b[1;33m                 \u001b[0mdata\u001b[0m \u001b[1;33m=\u001b[0m \u001b[0mformatter\u001b[0m\u001b[1;33m(\u001b[0m\u001b[0mobj\u001b[0m\u001b[1;33m)\u001b[0m\u001b[1;33m\u001b[0m\u001b[1;33m\u001b[0m\u001b[0m\n\u001b[0m\u001b[0;32m    181\u001b[0m             \u001b[1;32mexcept\u001b[0m\u001b[1;33m:\u001b[0m\u001b[1;33m\u001b[0m\u001b[1;33m\u001b[0m\u001b[0m\n\u001b[0;32m    182\u001b[0m                 \u001b[1;31m# FIXME: log the exception\u001b[0m\u001b[1;33m\u001b[0m\u001b[1;33m\u001b[0m\u001b[1;33m\u001b[0m\u001b[0m\n",
      "\u001b[1;32m<C:\\ProgramData\\Anaconda3\\lib\\site-packages\\decorator.py:decorator-gen-9>\u001b[0m in \u001b[0;36m__call__\u001b[1;34m(self, obj)\u001b[0m\n",
      "\u001b[1;32mC:\\ProgramData\\Anaconda3\\lib\\site-packages\\IPython\\core\\formatters.py\u001b[0m in \u001b[0;36mcatch_format_error\u001b[1;34m(method, self, *args, **kwargs)\u001b[0m\n\u001b[0;32m    222\u001b[0m     \u001b[1;34m\"\"\"show traceback on failed format call\"\"\"\u001b[0m\u001b[1;33m\u001b[0m\u001b[1;33m\u001b[0m\u001b[0m\n\u001b[0;32m    223\u001b[0m     \u001b[1;32mtry\u001b[0m\u001b[1;33m:\u001b[0m\u001b[1;33m\u001b[0m\u001b[1;33m\u001b[0m\u001b[0m\n\u001b[1;32m--> 224\u001b[1;33m         \u001b[0mr\u001b[0m \u001b[1;33m=\u001b[0m \u001b[0mmethod\u001b[0m\u001b[1;33m(\u001b[0m\u001b[0mself\u001b[0m\u001b[1;33m,\u001b[0m \u001b[1;33m*\u001b[0m\u001b[0margs\u001b[0m\u001b[1;33m,\u001b[0m \u001b[1;33m**\u001b[0m\u001b[0mkwargs\u001b[0m\u001b[1;33m)\u001b[0m\u001b[1;33m\u001b[0m\u001b[1;33m\u001b[0m\u001b[0m\n\u001b[0m\u001b[0;32m    225\u001b[0m     \u001b[1;32mexcept\u001b[0m \u001b[0mNotImplementedError\u001b[0m\u001b[1;33m:\u001b[0m\u001b[1;33m\u001b[0m\u001b[1;33m\u001b[0m\u001b[0m\n\u001b[0;32m    226\u001b[0m         \u001b[1;31m# don't warn on NotImplementedErrors\u001b[0m\u001b[1;33m\u001b[0m\u001b[1;33m\u001b[0m\u001b[1;33m\u001b[0m\u001b[0m\n",
      "\u001b[1;32mC:\\ProgramData\\Anaconda3\\lib\\site-packages\\IPython\\core\\formatters.py\u001b[0m in \u001b[0;36m__call__\u001b[1;34m(self, obj)\u001b[0m\n\u001b[0;32m    339\u001b[0m                 \u001b[1;32mpass\u001b[0m\u001b[1;33m\u001b[0m\u001b[1;33m\u001b[0m\u001b[0m\n\u001b[0;32m    340\u001b[0m             \u001b[1;32melse\u001b[0m\u001b[1;33m:\u001b[0m\u001b[1;33m\u001b[0m\u001b[1;33m\u001b[0m\u001b[0m\n\u001b[1;32m--> 341\u001b[1;33m                 \u001b[1;32mreturn\u001b[0m \u001b[0mprinter\u001b[0m\u001b[1;33m(\u001b[0m\u001b[0mobj\u001b[0m\u001b[1;33m)\u001b[0m\u001b[1;33m\u001b[0m\u001b[1;33m\u001b[0m\u001b[0m\n\u001b[0m\u001b[0;32m    342\u001b[0m             \u001b[1;31m# Finally look for special method names\u001b[0m\u001b[1;33m\u001b[0m\u001b[1;33m\u001b[0m\u001b[1;33m\u001b[0m\u001b[0m\n\u001b[0;32m    343\u001b[0m             \u001b[0mmethod\u001b[0m \u001b[1;33m=\u001b[0m \u001b[0mget_real_method\u001b[0m\u001b[1;33m(\u001b[0m\u001b[0mobj\u001b[0m\u001b[1;33m,\u001b[0m \u001b[0mself\u001b[0m\u001b[1;33m.\u001b[0m\u001b[0mprint_method\u001b[0m\u001b[1;33m)\u001b[0m\u001b[1;33m\u001b[0m\u001b[1;33m\u001b[0m\u001b[0m\n",
      "\u001b[1;32mC:\\ProgramData\\Anaconda3\\lib\\site-packages\\IPython\\core\\pylabtools.py\u001b[0m in \u001b[0;36m<lambda>\u001b[1;34m(fig)\u001b[0m\n\u001b[0;32m    242\u001b[0m \u001b[1;33m\u001b[0m\u001b[0m\n\u001b[0;32m    243\u001b[0m     \u001b[1;32mif\u001b[0m \u001b[1;34m'png'\u001b[0m \u001b[1;32min\u001b[0m \u001b[0mformats\u001b[0m\u001b[1;33m:\u001b[0m\u001b[1;33m\u001b[0m\u001b[1;33m\u001b[0m\u001b[0m\n\u001b[1;32m--> 244\u001b[1;33m         \u001b[0mpng_formatter\u001b[0m\u001b[1;33m.\u001b[0m\u001b[0mfor_type\u001b[0m\u001b[1;33m(\u001b[0m\u001b[0mFigure\u001b[0m\u001b[1;33m,\u001b[0m \u001b[1;32mlambda\u001b[0m \u001b[0mfig\u001b[0m\u001b[1;33m:\u001b[0m \u001b[0mprint_figure\u001b[0m\u001b[1;33m(\u001b[0m\u001b[0mfig\u001b[0m\u001b[1;33m,\u001b[0m \u001b[1;34m'png'\u001b[0m\u001b[1;33m,\u001b[0m \u001b[1;33m**\u001b[0m\u001b[0mkwargs\u001b[0m\u001b[1;33m)\u001b[0m\u001b[1;33m)\u001b[0m\u001b[1;33m\u001b[0m\u001b[1;33m\u001b[0m\u001b[0m\n\u001b[0m\u001b[0;32m    245\u001b[0m     \u001b[1;32mif\u001b[0m \u001b[1;34m'retina'\u001b[0m \u001b[1;32min\u001b[0m \u001b[0mformats\u001b[0m \u001b[1;32mor\u001b[0m \u001b[1;34m'png2x'\u001b[0m \u001b[1;32min\u001b[0m \u001b[0mformats\u001b[0m\u001b[1;33m:\u001b[0m\u001b[1;33m\u001b[0m\u001b[1;33m\u001b[0m\u001b[0m\n\u001b[0;32m    246\u001b[0m         \u001b[0mpng_formatter\u001b[0m\u001b[1;33m.\u001b[0m\u001b[0mfor_type\u001b[0m\u001b[1;33m(\u001b[0m\u001b[0mFigure\u001b[0m\u001b[1;33m,\u001b[0m \u001b[1;32mlambda\u001b[0m \u001b[0mfig\u001b[0m\u001b[1;33m:\u001b[0m \u001b[0mretina_figure\u001b[0m\u001b[1;33m(\u001b[0m\u001b[0mfig\u001b[0m\u001b[1;33m,\u001b[0m \u001b[1;33m**\u001b[0m\u001b[0mkwargs\u001b[0m\u001b[1;33m)\u001b[0m\u001b[1;33m)\u001b[0m\u001b[1;33m\u001b[0m\u001b[1;33m\u001b[0m\u001b[0m\n",
      "\u001b[1;32mC:\\ProgramData\\Anaconda3\\lib\\site-packages\\IPython\\core\\pylabtools.py\u001b[0m in \u001b[0;36mprint_figure\u001b[1;34m(fig, fmt, bbox_inches, **kwargs)\u001b[0m\n\u001b[0;32m    126\u001b[0m \u001b[1;33m\u001b[0m\u001b[0m\n\u001b[0;32m    127\u001b[0m     \u001b[0mbytes_io\u001b[0m \u001b[1;33m=\u001b[0m \u001b[0mBytesIO\u001b[0m\u001b[1;33m(\u001b[0m\u001b[1;33m)\u001b[0m\u001b[1;33m\u001b[0m\u001b[1;33m\u001b[0m\u001b[0m\n\u001b[1;32m--> 128\u001b[1;33m     \u001b[0mfig\u001b[0m\u001b[1;33m.\u001b[0m\u001b[0mcanvas\u001b[0m\u001b[1;33m.\u001b[0m\u001b[0mprint_figure\u001b[0m\u001b[1;33m(\u001b[0m\u001b[0mbytes_io\u001b[0m\u001b[1;33m,\u001b[0m \u001b[1;33m**\u001b[0m\u001b[0mkw\u001b[0m\u001b[1;33m)\u001b[0m\u001b[1;33m\u001b[0m\u001b[1;33m\u001b[0m\u001b[0m\n\u001b[0m\u001b[0;32m    129\u001b[0m     \u001b[0mdata\u001b[0m \u001b[1;33m=\u001b[0m \u001b[0mbytes_io\u001b[0m\u001b[1;33m.\u001b[0m\u001b[0mgetvalue\u001b[0m\u001b[1;33m(\u001b[0m\u001b[1;33m)\u001b[0m\u001b[1;33m\u001b[0m\u001b[1;33m\u001b[0m\u001b[0m\n\u001b[0;32m    130\u001b[0m     \u001b[1;32mif\u001b[0m \u001b[0mfmt\u001b[0m \u001b[1;33m==\u001b[0m \u001b[1;34m'svg'\u001b[0m\u001b[1;33m:\u001b[0m\u001b[1;33m\u001b[0m\u001b[1;33m\u001b[0m\u001b[0m\n",
      "\u001b[1;32mC:\\ProgramData\\Anaconda3\\lib\\site-packages\\matplotlib\\backend_bases.py\u001b[0m in \u001b[0;36mprint_figure\u001b[1;34m(self, filename, dpi, facecolor, edgecolor, orientation, format, bbox_inches, **kwargs)\u001b[0m\n\u001b[0;32m   2051\u001b[0m                     \u001b[0mbbox_artists\u001b[0m \u001b[1;33m=\u001b[0m \u001b[0mkwargs\u001b[0m\u001b[1;33m.\u001b[0m\u001b[0mpop\u001b[0m\u001b[1;33m(\u001b[0m\u001b[1;34m\"bbox_extra_artists\"\u001b[0m\u001b[1;33m,\u001b[0m \u001b[1;32mNone\u001b[0m\u001b[1;33m)\u001b[0m\u001b[1;33m\u001b[0m\u001b[1;33m\u001b[0m\u001b[0m\n\u001b[0;32m   2052\u001b[0m                     bbox_inches = self.figure.get_tightbbox(renderer,\n\u001b[1;32m-> 2053\u001b[1;33m                             bbox_extra_artists=bbox_artists)\n\u001b[0m\u001b[0;32m   2054\u001b[0m                     \u001b[0mpad\u001b[0m \u001b[1;33m=\u001b[0m \u001b[0mkwargs\u001b[0m\u001b[1;33m.\u001b[0m\u001b[0mpop\u001b[0m\u001b[1;33m(\u001b[0m\u001b[1;34m\"pad_inches\"\u001b[0m\u001b[1;33m,\u001b[0m \u001b[1;32mNone\u001b[0m\u001b[1;33m)\u001b[0m\u001b[1;33m\u001b[0m\u001b[1;33m\u001b[0m\u001b[0m\n\u001b[0;32m   2055\u001b[0m                     \u001b[1;32mif\u001b[0m \u001b[0mpad\u001b[0m \u001b[1;32mis\u001b[0m \u001b[1;32mNone\u001b[0m\u001b[1;33m:\u001b[0m\u001b[1;33m\u001b[0m\u001b[1;33m\u001b[0m\u001b[0m\n",
      "\u001b[1;32mC:\\ProgramData\\Anaconda3\\lib\\site-packages\\matplotlib\\figure.py\u001b[0m in \u001b[0;36mget_tightbbox\u001b[1;34m(self, renderer, bbox_extra_artists)\u001b[0m\n\u001b[0;32m   2268\u001b[0m \u001b[1;33m\u001b[0m\u001b[0m\n\u001b[0;32m   2269\u001b[0m         \u001b[1;32mfor\u001b[0m \u001b[0ma\u001b[0m \u001b[1;32min\u001b[0m \u001b[0martists\u001b[0m\u001b[1;33m:\u001b[0m\u001b[1;33m\u001b[0m\u001b[1;33m\u001b[0m\u001b[0m\n\u001b[1;32m-> 2270\u001b[1;33m             \u001b[0mbbox\u001b[0m \u001b[1;33m=\u001b[0m \u001b[0ma\u001b[0m\u001b[1;33m.\u001b[0m\u001b[0mget_tightbbox\u001b[0m\u001b[1;33m(\u001b[0m\u001b[0mrenderer\u001b[0m\u001b[1;33m)\u001b[0m\u001b[1;33m\u001b[0m\u001b[1;33m\u001b[0m\u001b[0m\n\u001b[0m\u001b[0;32m   2271\u001b[0m             \u001b[1;32mif\u001b[0m \u001b[0mbbox\u001b[0m \u001b[1;32mis\u001b[0m \u001b[1;32mnot\u001b[0m \u001b[1;32mNone\u001b[0m \u001b[1;32mand\u001b[0m \u001b[1;33m(\u001b[0m\u001b[0mbbox\u001b[0m\u001b[1;33m.\u001b[0m\u001b[0mwidth\u001b[0m \u001b[1;33m!=\u001b[0m \u001b[1;36m0\u001b[0m \u001b[1;32mor\u001b[0m \u001b[0mbbox\u001b[0m\u001b[1;33m.\u001b[0m\u001b[0mheight\u001b[0m \u001b[1;33m!=\u001b[0m \u001b[1;36m0\u001b[0m\u001b[1;33m)\u001b[0m\u001b[1;33m:\u001b[0m\u001b[1;33m\u001b[0m\u001b[1;33m\u001b[0m\u001b[0m\n\u001b[0;32m   2272\u001b[0m                 \u001b[0mbb\u001b[0m\u001b[1;33m.\u001b[0m\u001b[0mappend\u001b[0m\u001b[1;33m(\u001b[0m\u001b[0mbbox\u001b[0m\u001b[1;33m)\u001b[0m\u001b[1;33m\u001b[0m\u001b[1;33m\u001b[0m\u001b[0m\n",
      "\u001b[1;32mC:\\ProgramData\\Anaconda3\\lib\\site-packages\\matplotlib\\artist.py\u001b[0m in \u001b[0;36mget_tightbbox\u001b[1;34m(self, renderer)\u001b[0m\n",
      "\u001b[1;32mC:\\ProgramData\\Anaconda3\\lib\\site-packages\\matplotlib\\collections.py\u001b[0m in \u001b[0;36mget_window_extent\u001b[1;34m(self, renderer)\u001b[0m\n\u001b[0;32m    212\u001b[0m         \u001b[1;31m# TODO:check to ensure that this does not fail for\u001b[0m\u001b[1;33m\u001b[0m\u001b[1;33m\u001b[0m\u001b[1;33m\u001b[0m\u001b[0m\n\u001b[0;32m    213\u001b[0m         \u001b[1;31m# cases other than scatter plot legend\u001b[0m\u001b[1;33m\u001b[0m\u001b[1;33m\u001b[0m\u001b[1;33m\u001b[0m\u001b[0m\n\u001b[1;32m--> 214\u001b[1;33m         \u001b[1;32mreturn\u001b[0m \u001b[0mself\u001b[0m\u001b[1;33m.\u001b[0m\u001b[0mget_datalim\u001b[0m\u001b[1;33m(\u001b[0m\u001b[0mtransforms\u001b[0m\u001b[1;33m.\u001b[0m\u001b[0mIdentityTransform\u001b[0m\u001b[1;33m(\u001b[0m\u001b[1;33m)\u001b[0m\u001b[1;33m)\u001b[0m\u001b[1;33m\u001b[0m\u001b[1;33m\u001b[0m\u001b[0m\n\u001b[0m\u001b[0;32m    215\u001b[0m \u001b[1;33m\u001b[0m\u001b[0m\n\u001b[0;32m    216\u001b[0m     \u001b[1;32mdef\u001b[0m \u001b[0m_prepare_points\u001b[0m\u001b[1;33m(\u001b[0m\u001b[0mself\u001b[0m\u001b[1;33m)\u001b[0m\u001b[1;33m:\u001b[0m\u001b[1;33m\u001b[0m\u001b[1;33m\u001b[0m\u001b[0m\n",
      "\u001b[1;32mC:\\ProgramData\\Anaconda3\\lib\\site-packages\\matplotlib\\collections.py\u001b[0m in \u001b[0;36mget_datalim\u001b[1;34m(self, transData)\u001b[0m\n\u001b[0;32m    203\u001b[0m             result = mpath.get_path_collection_extents(\n\u001b[0;32m    204\u001b[0m                 \u001b[0mtransform\u001b[0m\u001b[1;33m.\u001b[0m\u001b[0mfrozen\u001b[0m\u001b[1;33m(\u001b[0m\u001b[1;33m)\u001b[0m\u001b[1;33m,\u001b[0m \u001b[0mpaths\u001b[0m\u001b[1;33m,\u001b[0m \u001b[0mself\u001b[0m\u001b[1;33m.\u001b[0m\u001b[0mget_transforms\u001b[0m\u001b[1;33m(\u001b[0m\u001b[1;33m)\u001b[0m\u001b[1;33m,\u001b[0m\u001b[1;33m\u001b[0m\u001b[1;33m\u001b[0m\u001b[0m\n\u001b[1;32m--> 205\u001b[1;33m                 offsets, transOffset.frozen())\n\u001b[0m\u001b[0;32m    206\u001b[0m             \u001b[0mresult\u001b[0m \u001b[1;33m=\u001b[0m \u001b[0mresult\u001b[0m\u001b[1;33m.\u001b[0m\u001b[0minverse_transformed\u001b[0m\u001b[1;33m(\u001b[0m\u001b[0mtransData\u001b[0m\u001b[1;33m)\u001b[0m\u001b[1;33m\u001b[0m\u001b[1;33m\u001b[0m\u001b[0m\n\u001b[0;32m    207\u001b[0m         \u001b[1;32melse\u001b[0m\u001b[1;33m:\u001b[0m\u001b[1;33m\u001b[0m\u001b[1;33m\u001b[0m\u001b[0m\n",
      "\u001b[1;32mC:\\ProgramData\\Anaconda3\\lib\\site-packages\\matplotlib\\path.py\u001b[0m in \u001b[0;36mget_path_collection_extents\u001b[1;34m(master_transform, paths, transforms, offsets, offset_transform)\u001b[0m\n\u001b[0;32m    988\u001b[0m     return Bbox.from_extents(*_path.get_path_collection_extents(\n\u001b[0;32m    989\u001b[0m         \u001b[0mmaster_transform\u001b[0m\u001b[1;33m,\u001b[0m \u001b[0mpaths\u001b[0m\u001b[1;33m,\u001b[0m \u001b[0mnp\u001b[0m\u001b[1;33m.\u001b[0m\u001b[0matleast_3d\u001b[0m\u001b[1;33m(\u001b[0m\u001b[0mtransforms\u001b[0m\u001b[1;33m)\u001b[0m\u001b[1;33m,\u001b[0m\u001b[1;33m\u001b[0m\u001b[1;33m\u001b[0m\u001b[0m\n\u001b[1;32m--> 990\u001b[1;33m         offsets, offset_transform))\n\u001b[0m\u001b[0;32m    991\u001b[0m \u001b[1;33m\u001b[0m\u001b[0m\n\u001b[0;32m    992\u001b[0m \u001b[1;33m\u001b[0m\u001b[0m\n",
      "\u001b[1;32mC:\\ProgramData\\Anaconda3\\lib\\site-packages\\matplotlib\\path.py\u001b[0m in \u001b[0;36mvertices\u001b[1;34m(self)\u001b[0m\n\u001b[0;32m    201\u001b[0m         \u001b[0mself\u001b[0m\u001b[1;33m.\u001b[0m\u001b[0m_has_nonfinite\u001b[0m \u001b[1;33m=\u001b[0m \u001b[1;32mnot\u001b[0m \u001b[0mnp\u001b[0m\u001b[1;33m.\u001b[0m\u001b[0misfinite\u001b[0m\u001b[1;33m(\u001b[0m\u001b[0mself\u001b[0m\u001b[1;33m.\u001b[0m\u001b[0m_vertices\u001b[0m\u001b[1;33m)\u001b[0m\u001b[1;33m.\u001b[0m\u001b[0mall\u001b[0m\u001b[1;33m(\u001b[0m\u001b[1;33m)\u001b[0m\u001b[1;33m\u001b[0m\u001b[1;33m\u001b[0m\u001b[0m\n\u001b[0;32m    202\u001b[0m \u001b[1;33m\u001b[0m\u001b[0m\n\u001b[1;32m--> 203\u001b[1;33m     \u001b[1;33m@\u001b[0m\u001b[0mproperty\u001b[0m\u001b[1;33m\u001b[0m\u001b[1;33m\u001b[0m\u001b[0m\n\u001b[0m\u001b[0;32m    204\u001b[0m     \u001b[1;32mdef\u001b[0m \u001b[0mvertices\u001b[0m\u001b[1;33m(\u001b[0m\u001b[0mself\u001b[0m\u001b[1;33m)\u001b[0m\u001b[1;33m:\u001b[0m\u001b[1;33m\u001b[0m\u001b[1;33m\u001b[0m\u001b[0m\n\u001b[0;32m    205\u001b[0m         \"\"\"\n",
      "\u001b[1;31mKeyboardInterrupt\u001b[0m: "
     ]
    }
   ],
   "source": [
    "sns.pairplot(data, hue=\"target\")"
   ]
  },
  {
   "cell_type": "code",
   "execution_count": 174,
   "metadata": {},
   "outputs": [
    {
     "data": {
      "text/plain": [
       "<matplotlib.axes._subplots.AxesSubplot at 0x7f8515bdc4e0>"
      ]
     },
     "execution_count": 174,
     "metadata": {},
     "output_type": "execute_result"
    },
    {
     "data": {
      "image/png": "[encoded data removed]",
      "text/plain": [
       "<Figure size 432x288 with 2 Axes>"
      ]
     },
     "metadata": {
      "needs_background": "light"
     },
     "output_type": "display_data"
    }
   ],
   "source": [
    "import pandas as pd\n",
    "datatarget = pd.get_dummies(data['target'])['parasitized']\n",
    "new_df = pd.merge(data, datatarget, right_index=True, left_index=True)\n",
    "df_new = new_df.select_dtypes(include=np.number)\n",
    "sns.heatmap(df_new.corr(), annot = True)"
   ]
  },
  {
   "cell_type": "code",
   "execution_count": 8,
   "metadata": {},
   "outputs": [
    {
     "data": {
      "image/png": "[encoded data removed]",
      "text/plain": [
       "<Figure size 432x288 with 1 Axes>"
      ]
     },
     "metadata": {
      "needs_background": "light"
     },
     "output_type": "display_data"
    }
   ],
   "source": [
    "boxplot = data.boxplot(column=['black_pixels'], by='target', )"
   ]
  },
  {
   "cell_type": "markdown",
   "metadata": {},
   "source": [
    "Let's have a closer look at the points in the cells"
   ]
  },
  {
   "cell_type": "code",
   "execution_count": 9,
   "metadata": {},
   "outputs": [
    {
     "name": "stderr",
     "output_type": "stream",
     "text": [
      "/home/ramine/anaconda3/lib/python3.7/site-packages/ipykernel_launcher.py:2: UserWarning: Boolean Series key will be reindexed to match DataFrame index.\n",
      "  \n"
     ]
    },
    {
     "data": {
      "text/plain": [
       "96.85416666666666"
      ]
     },
     "execution_count": 9,
     "metadata": {},
     "output_type": "execute_result"
    }
   ],
   "source": [
    "nb_par = data.target.value_counts()['parasitized']\n",
    "data[data['target']=='parasitized'][data['has_points']==1].shape[0]/nb_par * 100"
   ]
  },
  {
   "cell_type": "code",
   "execution_count": 10,
   "metadata": {
    "scrolled": true
   },
   "outputs": [
    {
     "name": "stderr",
     "output_type": "stream",
     "text": [
      "/home/ramine/anaconda3/lib/python3.7/site-packages/ipykernel_launcher.py:2: UserWarning: Boolean Series key will be reindexed to match DataFrame index.\n",
      "  \n"
     ]
    },
    {
     "data": {
      "text/plain": [
       "21.395833333333332"
      ]
     },
     "execution_count": 10,
     "metadata": {},
     "output_type": "execute_result"
    }
   ],
   "source": [
    "nb_un = data.target.value_counts()['uninfected']\n",
    "data[data['target']=='uninfected'][data['has_points']==1].shape[0]/nb_par * 100"
   ]
  },
  {
   "cell_type": "markdown",
   "metadata": {},
   "source": [
    "In the 2 previous cells we calculated the percentage of parasitized cells that have points and the percentage of uninfected cells that have points . For parasitized cells it is around 97% whereas for the uninfected cells it is around 21%. Therefore the is a strong correlation between the attribute \"has_points\" and the target."
   ]
  },
  {
   "cell_type": "markdown",
   "metadata": {},
   "source": [
    "There seem to have a little correlation between the number of black pixels and the target as well, which is data leakage as it is not suppose to differentiate each class."
   ]
  },
  {
   "cell_type": "markdown",
   "metadata": {},
   "source": [
    "<div style=\"background:#FFFFAA\">\n",
    "    <h2>Training a predictive model</h2>\n",
    "    <p>\n",
    "We provide an example of predictive model (for classification or regression) in the `sample_code_submission/` directory. It is a quite stupid model: it makes constant predictions. Replace it with your own model.\n",
    "    </div>"
   ]
  },
  {
   "cell_type": "code",
   "execution_count": 49,
   "metadata": {},
   "outputs": [],
   "source": [
    "from data_io import write\n",
    "from model import model\n",
    "# Uncomment the next line to show the code of the model\n",
    "#??model "
   ]
  },
  {
   "cell_type": "markdown",
   "metadata": {},
   "source": [
    "<div style=\"background:#FFFFAA\">\n",
    "an instance of the model (run the constructor) and attempt to reload a previously saved version from `sample_code_submission/`:\n",
    "    \n",
    "</div>"
   ]
  },
  {
   "cell_type": "markdown",
   "metadata": {},
   "source": [
    "<div style=\"background:#FFFFAA\">\n",
    "<h1>Step 2: Building a predictive model</h1>\n",
    "</div>"
   ]
  },
  {
   "cell_type": "markdown",
   "metadata": {},
   "source": [
    "<div style=\"background:#FFFFAA\">\n",
    "    <h2>Loading data with DataManager</h2>\n",
    "    <p>\n",
    "We reload the data with the AutoML DataManager class because this is more convenient:\n",
    "   <br>     <span style=\"color:red\"> Keep this, it illustrates how data in AutoML formal are loaded by the ingestion program </span>\n",
    "</div>"
   ]
  },
  {
   "cell_type": "code",
   "execution_count": 50,
   "metadata": {
    "scrolled": true
   },
   "outputs": [
    {
     "name": "stdout",
     "output_type": "stream",
     "text": [
      "Info file found : C:\\Users\\Theo DB\\Documents\\AIC\\ML_project_Guyon\\MediChal - Copie\\starting_kit\\sample_data\\malaria_public.info\n",
      "DataManager : malaria\n",
      "info:\n",
      "\tusage = Malaria cell images dataset\n",
      "\tname = malaria\n",
      "\ttask = binary.classification\n",
      "\ttarget_type = Numerical\n",
      "\tfeat_type = Numerical\n",
      "\tmetric = roc_auc_score\n",
      "\ttime_budget = 1200\n",
      "\tfeat_num = 19\n",
      "\ttarget_num = 2\n",
      "\tlabel_num = 2\n",
      "\ttrain_num = 16534\n",
      "\tvalid_num = 5512\n",
      "\ttest_num = 5512\n",
      "\thas_categorical = 0\n",
      "\thas_missing = 0\n",
      "\tis_sparse = 0\n",
      "\tformat = dense\n",
      "data:\n",
      "\tX_train = array(16534, 19)\n",
      "\tY_train = array(16534,)\n",
      "\tX_valid = array(5512, 19)\n",
      "\tY_valid = array(200,)\n",
      "\tX_test = array(5512, 19)\n",
      "\tY_test = array(200,)\n",
      "feat_type:\tarray(19,)\n",
      "feat_idx:\tarray(0,)\n",
      "\n"
     ]
    }
   ],
   "source": [
    "from data_manager import DataManager\n",
    "D = DataManager(data_name, data_dir, replace_missing=True)\n",
    "print(D)"
   ]
  },
  {
   "cell_type": "code",
   "execution_count": 51,
   "metadata": {},
   "outputs": [],
   "source": [
    "#Trying a random forest model\n",
    "M = model()   #The model is by default a random forest classifier\n",
    "trained_model_name = model_dir + data_name\n",
    "# Uncomment the next line to re-load an already trained model\n",
    "#M = M.load(trained_model_name)                  "
   ]
  },
  {
   "cell_type": "markdown",
   "metadata": {},
   "source": [
    "<div style=\"background:#FFFFAA\">\n",
    "    Train the model (unless you reloaded a trained model) and make predictions. \n",
    "</div>"
   ]
  },
  {
   "cell_type": "code",
   "execution_count": 52,
   "metadata": {
    "scrolled": true
   },
   "outputs": [
    {
     "name": "stdout",
     "output_type": "stream",
     "text": [
      "FIT: dim(X)= [16534, 19]\n",
      "FIT: dim(y)= [16534, 1]\n",
      "PREDICT: dim(X)= [16534, 19]\n",
      "PREDICT: dim(y)= [16534, 1]\n",
      "PREDICT: dim(X)= [5512, 19]\n",
      "PREDICT: dim(y)= [5512, 1]\n",
      "PREDICT: dim(X)= [5512, 19]\n",
      "PREDICT: dim(y)= [5512, 1]\n"
     ]
    }
   ],
   "source": [
    "if not(M.is_trained):\n",
    "    X_train = D.data['X_train']\n",
    "    Y_train = D.data['Y_train']\n",
    "    M.fit(X_train, Y_train)                     \n",
    "\n",
    "Y_hat_train = M.predict(D.data['X_train']) # Optional, not really needed to test on taining examples\n",
    "Y_hat_valid = M.predict(D.data['X_valid'])\n",
    "Y_hat_test = M.predict(D.data['X_test'])"
   ]
  },
  {
   "cell_type": "markdown",
   "metadata": {},
   "source": [
    "<div style=\"background:#FFFFAA\">\n",
    "    <b> Save the trained model </b> (will be ready to reload next time around) and save the prediction results. IMPORTANT: if you save the trained model, it will be bundled with your sample code submission. Therefore your model will NOT be retrained on the challenge platform. Remove the pickle from the submission if you want the model to be retrained on the platform.\n",
    "</div>"
   ]
  },
  {
   "cell_type": "code",
   "execution_count": 53,
   "metadata": {},
   "outputs": [
    {
     "name": "stderr",
     "output_type": "stream",
     "text": [
      "'ls' n'est pas reconnu en tant que commande interne\n",
      "ou externe, un programme ex‚cutable ou un fichier de commandes.\n"
     ]
    }
   ],
   "source": [
    "M.save(trained_model_name)                 \n",
    "result_name = result_dir + data_name\n",
    "from data_io import write\n",
    "write(result_name + '_train.predict', Y_hat_train)\n",
    "write(result_name + '_valid.predict', Y_hat_valid)\n",
    "write(result_name + '_test.predict', Y_hat_test)\n",
    "!ls $result_name*"
   ]
  },
  {
   "cell_type": "markdown",
   "metadata": {},
   "source": [
    "<div style=\"background:#FFFFAA\">\n",
    "    <h2>Scoring the results</h2>\n",
    "    <h3>Load the challenge metric</h3>\n",
    "    <p>\n",
    "<b>The metric chosen for your challenge</b> is identified in the \"metric.txt\" file found in the `scoring_function/` directory. The function \"get_metric\" searches first for a metric having that name in my_metric.py, then in libscores.py, then in sklearn.metric.\n",
    "    </div>"
   ]
  },
  {
   "cell_type": "markdown",
   "metadata": {},
   "source": [
    "We use the area under the curve as our metric to evaluate our model for the moment. We chose this metric because accuracy gives us only the percentage of correctly classified examples, whereas what we are interested in is to have the lowest possible rate of false negatives (infected cells classifies as being healthy). The ROC curve we will get will help us to find a good threshold for this classification, which will not necessarily the one maximising the accuracy as the false negatives are critical in our case (but the true negatives can always be rechecked by experts). The AUC will then give us the general performance of our model given the fact that we want to maximize true positives and true negatives."
   ]
  },
  {
   "cell_type": "code",
   "execution_count": 54,
   "metadata": {},
   "outputs": [
    {
     "name": "stdout",
     "output_type": "stream",
     "text": [
      "Using scoring metric: roc_auc_score\n"
     ]
    }
   ],
   "source": [
    "from libscores import get_metric\n",
    "metric_name, scoring_function = get_metric()\n",
    "print('Using scoring metric:', metric_name)\n",
    "# Uncomment the next line to display the code of the scoring metric\n",
    "#??scoring_function"
   ]
  },
  {
   "cell_type": "markdown",
   "metadata": {},
   "source": [
    "<div style=\"background:#FFFFAA\">\n",
    "    <h3> Training performance </h3>\n",
    "    <p>\n",
    "The participants normally posess target values (labels) only for training examples (except for the sample data). We compute with the `example` metric the training score, which should be zero for perfect predictions.\n",
    "        </div>"
   ]
  },
  {
   "cell_type": "code",
   "execution_count": 55,
   "metadata": {},
   "outputs": [
    {
     "name": "stdout",
     "output_type": "stream",
     "text": [
      "Training score for the roc_auc_score metric = 0.9958\n",
      "Ideal score for the roc_auc_score metric = 1.0000\n"
     ]
    }
   ],
   "source": [
    "print('Training score for the', metric_name, 'metric = %5.4f' % scoring_function(Y_train, Y_hat_train))\n",
    "print('Ideal score for the', metric_name, 'metric = %5.4f' % scoring_function(Y_train, Y_train))"
   ]
  },
  {
   "cell_type": "markdown",
   "metadata": {},
   "source": [
    "You can add here other scores and result visualization."
   ]
  },
  {
   "cell_type": "code",
   "execution_count": 56,
   "metadata": {},
   "outputs": [
    {
     "data": {
      "text/plain": [
       "array([[8252,    6],\n",
       "       [  64, 8212]], dtype=int64)"
      ]
     },
     "execution_count": 56,
     "metadata": {},
     "output_type": "execute_result"
    }
   ],
   "source": [
    "from sklearn.metrics import confusion_matrix\n",
    "confusion_matrix(Y_train, Y_hat_train)"
   ]
  },
  {
   "cell_type": "code",
   "execution_count": null,
   "metadata": {},
   "outputs": [],
   "source": [
    "### Plotting the ROC with the model training on 2000 instances.\n"
   ]
  },
  {
   "cell_type": "code",
   "execution_count": 60,
   "metadata": {},
   "outputs": [],
   "source": [
    "from sklearn.metrics import roc_curve, auc\n",
    "\n",
    "probas_ = M.classifier.fit(D.data['X_train'][:2000], D.data['Y_train'][:2000].ravel()).predict_proba(D.data['X_train'][2000:])\n",
    "# Compute ROC curve and area the curve\n",
    "fpr, tpr, thresholds = roc_curve(D.data['Y_train'][2000:].ravel(), probas_[:, 1])\n",
    "roc_auc = auc(fpr, tpr)"
   ]
  },
  {
   "cell_type": "code",
   "execution_count": 61,
   "metadata": {},
   "outputs": [
    {
     "data": {
      "image/png": "[encoded data removed]",
      "text/plain": [
       "<Figure size 432x288 with 1 Axes>"
      ]
     },
     "metadata": {},
     "output_type": "display_data"
    }
   ],
   "source": [
    "import matplotlib.pyplot as plt\n",
    "\n",
    "plt.figure()\n",
    "plt.plot(fpr, tpr, color='darkorange', label='ROC curve (area = %0.2f)' % roc_auc)\n",
    "plt.plot([0, 1], [0, 1], color='navy', linestyle='--')\n",
    "plt.xlim([0.0, 1.0])\n",
    "plt.ylim([0.0, 1.05])\n",
    "plt.xlabel('False Positive Rate')\n",
    "plt.ylabel('True Positive Rate')\n",
    "plt.title('Receiver operating characteristic example')\n",
    "plt.legend(loc=\"lower right\")\n",
    "plt.show()"
   ]
  },
  {
   "cell_type": "markdown",
   "metadata": {},
   "source": [
    "This plot of the ROC curve is a good indicator for us to find a good threshold for our model, here we will prefer a very low rate of false negatives (1 - true positives rate). If we really want something near to 100% true positives, we might consider a model giving us 40% of false positive rate, we might consider that threshold as a medical diagnosis is a critical application."
   ]
  },
  {
   "cell_type": "markdown",
   "metadata": {},
   "source": [
    "<div style=\"background:#FFFFAA\">\n",
    "    <h3>Cross-validation performance</h3>\n",
    "    <p>\n",
    "The participants do not have access to the labels Y_valid and Y_test to self-assess their validation and test performances. But training performance is not a good prediction of validation or test performance. Using cross-validation, the training data is split into multiple training/test folds, which allows participants to self-assess their model during development. The average CV result and 95% confidence interval is displayed.\n",
    "   </div>"
   ]
  },
  {
   "cell_type": "code",
   "execution_count": 62,
   "metadata": {},
   "outputs": [
    {
     "data": {
      "text/plain": [
       "array([0.9536122 , 0.95384373, 0.94671811, 0.95639702, 0.95031821])"
      ]
     },
     "execution_count": 62,
     "metadata": {},
     "output_type": "execute_result"
    }
   ],
   "source": [
    "from sklearn.metrics import make_scorer\n",
    "from sklearn.model_selection import cross_val_score\n",
    "M= model ()\n",
    "scores = cross_val_score(M, X_train, Y_train, cv=5, scoring=make_scorer(scoring_function))\n",
    "print('\\nCV score (95 perc. CI): %0.2f (+/- %0.2f)' % (scores.mean(), scores.std() * 2))\n",
    "scores"
   ]
  },
  {
   "cell_type": "code",
   "execution_count": 66,
   "metadata": {},
   "outputs": [
    {
     "data": {
      "text/plain": [
       "array([0.95146811, 0.95263833, 0.94883625, 0.95395398, 0.95033651])"
      ]
     },
     "execution_count": 66,
     "metadata": {},
     "output_type": "execute_result"
    }
   ],
   "source": [
    "data2 = data.drop(['nb_black_pixels'], axis=1)\n",
    "X_train2 = data2.drop(['target'], axis= 1)\n",
    "X_train2\n",
    "M = model()\n",
    "scores = cross_val_score(M, X_train2, Y_train, cv=5, scoring=make_scorer(scoring_function))\n",
    "print('\\nCV score without the black_pixels attribute (95 perc. CI): %0.2f (+/- %0.2f)' % (scores.mean(), scores.std() * 2))\n",
    "scores"
   ]
  },
  {
   "cell_type": "markdown",
   "metadata": {},
   "source": [
    "The scores of our model with and without the black_pixels attribute is the same. Therefore we can conclude that there is no data leakage."
   ]
  },
  {
   "cell_type": "markdown",
   "metadata": {},
   "source": [
    "____"
   ]
  },
  {
   "cell_type": "markdown",
   "metadata": {},
   "source": [
    "### Feature importance"
   ]
  },
  {
   "cell_type": "markdown",
   "metadata": {},
   "source": [
    "The advantage of using a Random forest models is that we can evaluate which feature in taken into account  when predicting the target classes, here you can have an idea of which feature was the most relevant for solving our task"
   ]
  },
  {
   "cell_type": "code",
   "execution_count": 68,
   "metadata": {},
   "outputs": [
    {
     "data": {
      "text/html": [
       "<div>\n",
       "<style scoped>\n",
       "    .dataframe tbody tr th:only-of-type {\n",
       "        vertical-align: middle;\n",
       "    }\n",
       "\n",
       "    .dataframe tbody tr th {\n",
       "        vertical-align: top;\n",
       "    }\n",
       "\n",
       "    .dataframe thead th {\n",
       "        text-align: right;\n",
       "    }\n",
       "</style>\n",
       "<table border=\"1\" class=\"dataframe\">\n",
       "  <thead>\n",
       "    <tr style=\"text-align: right;\">\n",
       "      <th></th>\n",
       "      <th>feature importance</th>\n",
       "    </tr>\n",
       "  </thead>\n",
       "  <tbody>\n",
       "    <tr>\n",
       "      <th>min_gray</th>\n",
       "      <td>0.384790</td>\n",
       "    </tr>\n",
       "    <tr>\n",
       "      <th>nb_pixel_0.5_0.6</th>\n",
       "      <td>0.233291</td>\n",
       "    </tr>\n",
       "    <tr>\n",
       "      <th>nb_pixel_0.7_0.8</th>\n",
       "      <td>0.108937</td>\n",
       "    </tr>\n",
       "    <tr>\n",
       "      <th>nb_pixel_0.6_0.7</th>\n",
       "      <td>0.091364</td>\n",
       "    </tr>\n",
       "    <tr>\n",
       "      <th>var_gray</th>\n",
       "      <td>0.053268</td>\n",
       "    </tr>\n",
       "    <tr>\n",
       "      <th>nb_pixel_0.9_1.0</th>\n",
       "      <td>0.023430</td>\n",
       "    </tr>\n",
       "    <tr>\n",
       "      <th>mean_gray</th>\n",
       "      <td>0.015539</td>\n",
       "    </tr>\n",
       "    <tr>\n",
       "      <th>var_color</th>\n",
       "      <td>0.013730</td>\n",
       "    </tr>\n",
       "    <tr>\n",
       "      <th>max_color</th>\n",
       "      <td>0.012873</td>\n",
       "    </tr>\n",
       "    <tr>\n",
       "      <th>nb_black_pixels</th>\n",
       "      <td>0.012719</td>\n",
       "    </tr>\n",
       "    <tr>\n",
       "      <th>mean_color</th>\n",
       "      <td>0.012365</td>\n",
       "    </tr>\n",
       "    <tr>\n",
       "      <th>nb_pixel_0.8_0.9</th>\n",
       "      <td>0.011168</td>\n",
       "    </tr>\n",
       "    <tr>\n",
       "      <th>min_color</th>\n",
       "      <td>0.010005</td>\n",
       "    </tr>\n",
       "    <tr>\n",
       "      <th>max_gray</th>\n",
       "      <td>0.009067</td>\n",
       "    </tr>\n",
       "    <tr>\n",
       "      <th>nb_pixel_0.4_0.5</th>\n",
       "      <td>0.005624</td>\n",
       "    </tr>\n",
       "    <tr>\n",
       "      <th>nb_pixel_0.3_0.4</th>\n",
       "      <td>0.001714</td>\n",
       "    </tr>\n",
       "    <tr>\n",
       "      <th>nb_pixel_0.2_0.3</th>\n",
       "      <td>0.000116</td>\n",
       "    </tr>\n",
       "    <tr>\n",
       "      <th>nb_pixel_0.1_0.2</th>\n",
       "      <td>0.000000</td>\n",
       "    </tr>\n",
       "    <tr>\n",
       "      <th>nb_pixel_0.0_0.1</th>\n",
       "      <td>0.000000</td>\n",
       "    </tr>\n",
       "  </tbody>\n",
       "</table>\n",
       "</div>"
      ],
      "text/plain": [
       "                  feature importance\n",
       "min_gray                    0.384790\n",
       "nb_pixel_0.5_0.6            0.233291\n",
       "nb_pixel_0.7_0.8            0.108937\n",
       "nb_pixel_0.6_0.7            0.091364\n",
       "var_gray                    0.053268\n",
       "nb_pixel_0.9_1.0            0.023430\n",
       "mean_gray                   0.015539\n",
       "var_color                   0.013730\n",
       "max_color                   0.012873\n",
       "nb_black_pixels             0.012719\n",
       "mean_color                  0.012365\n",
       "nb_pixel_0.8_0.9            0.011168\n",
       "min_color                   0.010005\n",
       "max_gray                    0.009067\n",
       "nb_pixel_0.4_0.5            0.005624\n",
       "nb_pixel_0.3_0.4            0.001714\n",
       "nb_pixel_0.2_0.3            0.000116\n",
       "nb_pixel_0.1_0.2            0.000000\n",
       "nb_pixel_0.0_0.1            0.000000"
      ]
     },
     "execution_count": 68,
     "metadata": {},
     "output_type": "execute_result"
    }
   ],
   "source": [
    "import pandas as pd\n",
    "\n",
    "feature_importance = pd.DataFrame(M.classifier.feature_importances_,index= list(data)[:19], columns=['feature importance']).sort_values('feature importance', ascending = False)\n",
    "feature_importance"
   ]
  },
  {
   "cell_type": "markdown",
   "metadata": {},
   "source": [
    "\n",
    "\n",
    "<div style=\"background:#FFFFAA\">\n",
    "<h1> Step 3: Making a submission </h1> \n",
    "\n",
    "<h2> Unit testing </h2> \n",
    "\n",
    "It is <b><span style=\"color:red\">important that you test your submission files before submitting them</span></b>. All you have to do to make a submission is modify the file <code>model.py</code> in the <code>sample_code_submission/</code> directory, then run this test to make sure everything works fine. This is the actual program that will be run on the server to test your submission. \n",
    "<br>\n",
    "Keep the sample code simple.\n",
    "</div>"
   ]
  },
  {
   "cell_type": "code",
   "execution_count": 24,
   "metadata": {
    "scrolled": true
   },
   "outputs": [
    {
     "name": "stdout",
     "output_type": "stream",
     "text": [
      "/bin/sh: 1: source: not found\n",
      "Using input_dir: /home/ramine/Bureau/AIC/MediChal-master (2)/starting_kit/sample_data\n",
      "Using output_dir: /home/ramine/Bureau/AIC/MediChal-master (2)/starting_kit/sample_result_submission\n",
      "Using program_dir: /home/ramine/Bureau/AIC/MediChal-master (2)/starting_kit/ingestion_program\n",
      "Using submission_dir: /home/ramine/Bureau/AIC/MediChal-master (2)/starting_kit/sample_code_submission\n",
      "\n",
      "========== Ingestion program version 6 ==========\n",
      "\n",
      "************************************************\n",
      "******** Processing dataset Malaria ********\n",
      "************************************************\n",
      "========= Reading and converting data ==========\n",
      "Info file found : /home/ramine/Bureau/AIC/MediChal-master (2)/starting_kit/sample_data/malaria_public.info\n",
      "========= Reading /home/ramine/Bureau/AIC/MediChal-master (2)/starting_kit/sample_data/malaria_feat.type\n",
      "[+] Success in  0.00 sec\n",
      "========= Reading /home/ramine/Bureau/AIC/MediChal-master (2)/starting_kit/sample_data/malaria_train.data\n",
      "Replace missing values by 0 (slow, sorry)\n",
      "[+] Success in  0.03 sec\n",
      "========= Reading /home/ramine/Bureau/AIC/MediChal-master (2)/starting_kit/sample_data/malaria_train.solution\n",
      "[+] Success in  0.01 sec\n",
      "========= Reading /home/ramine/Bureau/AIC/MediChal-master (2)/starting_kit/sample_data/malaria_valid.data\n",
      "Replace missing values by 0 (slow, sorry)\n",
      "[+] Success in  0.01 sec\n",
      "========= Reading /home/ramine/Bureau/AIC/MediChal-master (2)/starting_kit/sample_data/malaria_valid.solution\n",
      "[+] Success in  0.00 sec\n",
      "========= Reading /home/ramine/Bureau/AIC/MediChal-master (2)/starting_kit/sample_data/malaria_test.data\n",
      "Replace missing values by 0 (slow, sorry)\n",
      "[+] Success in  0.01 sec\n",
      "========= Reading /home/ramine/Bureau/AIC/MediChal-master (2)/starting_kit/sample_data/malaria_test.solution\n",
      "[+] Success in  0.00 sec\n",
      "DataManager : malaria\n",
      "info:\n",
      "\tusage = Malaria cell images dataset\n",
      "\tname = malaria\n",
      "\ttask = binary.classification\n",
      "\ttarget_type = Numerical\n",
      "\tfeat_type = Numerical\n",
      "\tmetric = roc_auc_score\n",
      "\ttime_budget = 1200\n",
      "\tfeat_num = 6\n",
      "\ttarget_num = 2\n",
      "\tlabel_num = 2\n",
      "\ttrain_num = 9600\n",
      "\tvalid_num = 3200\n",
      "\ttest_num = 3200\n",
      "\thas_categorical = 0\n",
      "\thas_missing = 0\n",
      "\tis_sparse = 0\n",
      "\tformat = dense\n",
      "data:\n",
      "\tX_train = array(9600, 6)\n",
      "\tY_train = array(9600,)\n",
      "\tX_valid = array(3200, 6)\n",
      "\tY_valid = array(3200,)\n",
      "\tX_test = array(3200, 6)\n",
      "\tY_test = array(3200,)\n",
      "feat_type:\tarray(6,)\n",
      "feat_idx:\tarray(6,)\n",
      "\n",
      "[+] Size of uploaded data  56.00 bytes\n",
      "[+] Cumulated time budget (all tasks so far)  1200.00 sec\n",
      "[+] Time budget for this task 1200.00 sec\n",
      "[+] Remaining time after reading data 1199.95 sec\n",
      "======== Creating model ==========\n",
      "**********************************************************\n",
      "****** Attempting to reload model to avoid training ******\n",
      "**********************************************************\n",
      "Model reloaded from: /home/ramine/Bureau/AIC/MediChal-master (2)/starting_kit/sample_code_submission/malaria_model.pickle\n",
      "[+] Model reloaded, no need to train!\n",
      "PREDICT: dim(X)= [9600, 6]\n",
      "PREDICT: dim(y)= [9600, 1]\n",
      "PREDICT: dim(X)= [3200, 6]\n",
      "PREDICT: dim(y)= [3200, 1]\n",
      "PREDICT: dim(X)= [3200, 6]\n",
      "PREDICT: dim(y)= [3200, 1]\n",
      "[+] Prediction success, time spent so far  0.08 sec\n",
      "======== Saving results to: /home/ramine/Bureau/AIC/MediChal-master (2)/starting_kit/sample_result_submission\n",
      "[+] Results saved, time spent so far  0.09 sec\n",
      "[+] End cycle, time left 1199.91 sec\n",
      "[+] Done\n",
      "[+] Overall time spent  0.78 sec ::  Overall time budget 1200.00 sec\n"
     ]
    }
   ],
   "source": [
    "!source activate python3; python $problem_dir/ingestion.py $data_dir $result_dir $problem_dir $model_dir"
   ]
  },
  {
   "cell_type": "markdown",
   "metadata": {},
   "source": [
    "<div style=\"background:#FFFFAA\">\n",
    "Also test the scoring program:\n",
    "    </div>"
   ]
  },
  {
   "cell_type": "code",
   "execution_count": 25,
   "metadata": {},
   "outputs": [
    {
     "name": "stdout",
     "output_type": "stream",
     "text": [
      "======= Set 1 (Malaria_test): roc_auc_score(set1_score)=0.869806101757 =======\n",
      "======= Set 2 (Malaria_train): roc_auc_score(set2_score)=0.991145833333 =======\n",
      "======= Set 3 (Malaria_valid): roc_auc_score(set3_score)=0.868614086754 =======\n"
     ]
    }
   ],
   "source": [
    "scoring_output_dir = 'scoring_output'\n",
    "!python $score_dir/score.py $data_dir $result_dir $scoring_output_dir"
   ]
  },
  {
   "cell_type": "markdown",
   "metadata": {},
   "source": [
    "## Parameter optimization to try to improve the area under the roc curve."
   ]
  },
  {
   "cell_type": "code",
   "execution_count": 69,
   "metadata": {},
   "outputs": [],
   "source": [
    "from sklearn.model_selection import ParameterGrid\n",
    "from sklearn.ensemble import RandomForestClassifier\n",
    "\n",
    "import os\n",
    "import sys\n",
    "sys.stdout = open(os.devnull, 'w')\n",
    "\n",
    "# Define the hyperparameters\n",
    "hyperparameters = {\n",
    "    'max_depth': [5, 10, 20,40], \n",
    "    'n_estimators' : [2,10, 20, 100] }\n",
    "\n",
    "# Compute all combinations\n",
    "parameter_grid = list(ParameterGrid(hyperparameters))\n",
    "\n",
    "# Just a table to save the results\n",
    "#resultsDF = pd.DataFrame(columns=['factors', 'regularization', 'alpha', 'auc'])\n",
    "resultsDF = pd.DataFrame()\n",
    "\n",
    "for parameter_combination in parameter_grid:    \n",
    "    clf = RandomForestClassifier (random_state = 42, n_estimators =parameter_combination['n_estimators'],max_depth =parameter_combination['max_depth'])\n",
    "    M = model (classifier=clf)\n",
    "    \n",
    "    \n",
    "    scores = cross_val_score(M, X_train, Y_train, cv=5, scoring=make_scorer(scoring_function))\n",
    "    \n",
    "    \n",
    "    parameter_combination['auc'] = scores.mean()\n",
    "    \n",
    "    resultsDF = resultsDF.append(parameter_combination, ignore_index=True)\n",
    "    \n",
    "res = resultsDF.sort_values(by=['auc'], ascending=False)\n"
   ]
  },
  {
   "cell_type": "markdown",
   "metadata": {
    "collapsed": true
   },
   "source": [
    "<div style=\"background:#FFFFAA\">\n",
    "    <h1> Preparing the submission </h1>\n",
    "\n",
    "Zip the contents of `sample_code_submission/` (without the directory), or download the challenge public_data and run the command in the previous cell, after replacing sample_data by public_data.\n",
    "Then zip the contents of `sample_result_submission/` (without the directory).\n",
    "<b><span style=\"color:red\">Do NOT zip the data with your submissions</span></b>."
   ]
  },
  {
   "cell_type": "code",
   "execution_count": 27,
   "metadata": {},
   "outputs": [],
   "source": [
    "import datetime \n",
    "from data_io import zipdir\n",
    "the_date = datetime.datetime.now().strftime(\"%y-%m-%d-%H-%M\")\n",
    "sample_code_submission = '../sample_code_submission_' + the_date + '.zip'\n",
    "sample_result_submission = '../sample_result_submission_' + the_date + '.zip'\n",
    "zipdir(sample_code_submission, model_dir)\n",
    "zipdir(sample_result_submission, result_dir)\n",
    "print(\"Submit one of these files:\\n\" + sample_code_submission + \"\\n\" + sample_result_submission)"
   ]
  },
  {
   "cell_type": "code",
   "execution_count": null,
   "metadata": {},
   "outputs": [],
   "source": []
  }
 ],
 "metadata": {
  "kernelspec": {
   "display_name": "Python 3",
   "language": "python",
   "name": "python3"
  },
  "language_info": {
   "codemirror_mode": {
    "name": "ipython",
    "version": 3
   },
   "file_extension": ".py",
   "mimetype": "text/x-python",
   "name": "python",
   "nbconvert_exporter": "python",
   "pygments_lexer": "ipython3",
   "version": "3.7.3"
  }
 },
 "nbformat": 4,
 "nbformat_minor": 1
}
