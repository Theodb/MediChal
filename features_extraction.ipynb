{
 "cells": [
  {
   "cell_type": "code",
   "execution_count": 1,
   "metadata": {},
   "outputs": [],
   "source": [
    "import pylab\n",
    "from nt_toolbox.graph import *\n",
    "from nt_toolbox.signal import *\n",
    "import matplotlib.pyplot as plt\n",
    "import numpy\n",
    "import pandas as pd\n",
    "import os\n",
    "from PIL import Image"
   ]
  },
  {
   "cell_type": "code",
   "execution_count": 2,
   "metadata": {},
   "outputs": [],
   "source": [
    "def binary(image, alpha=0.5):\n",
    "    image_copy = np.zeros(image.shape)\n",
    "    image_copy[image > alpha] = 1\n",
    "    return image_copy"
   ]
  },
  {
   "cell_type": "code",
   "execution_count": 3,
   "metadata": {},
   "outputs": [],
   "source": [
    "def has_points_in_images(img):\n",
    "    '''\n",
    "    img : image \n",
    "    \n",
    "    return : True or False\n",
    "             True : there are points inside the cell \n",
    "             False : there aren't points inside the cell\n",
    "    '''\n",
    "    img = img*img\n",
    "    max_value = np.max(img)\n",
    "    min_value = np.min(img)\n",
    "    mean_value = np.mean(img)\n",
    "    b_img1 = binary(img, mean_value)\n",
    "    b_img2 = binary(img, (min_value + mean_value)/2)\n",
    "    return abs(np.sum(b_img1-b_img2)) != 0"
   ]
  },
  {
   "cell_type": "code",
   "execution_count": 4,
   "metadata": {},
   "outputs": [],
   "source": [
    "def black_pixels(img):\n",
    "    '''\n",
    "    img : image \n",
    "    \n",
    "    return : The number of pixels of \"black pixels\", the pixels around the cell\n",
    "    '''\n",
    "    nb_pixb = 0\n",
    "    for i in range(len(img)):\n",
    "        pix_per_line = np.sum(sum(p >= 0.9 for p in img[i:i+1]))\n",
    "        nb_pixb = nb_pixb + pix_per_line\n",
    "    return nb_pixb"
   ]
  },
  {
   "cell_type": "code",
   "execution_count": 5,
   "metadata": {},
   "outputs": [],
   "source": [
    "def extract(images_paths, label):\n",
    "    p_detected = []\n",
    "    pix_black = []\n",
    "    var_color = []\n",
    "    max_color = []\n",
    "    var_gray = []\n",
    "    max_gray = []\n",
    "    labels = []\n",
    "    for ip in images_paths:\n",
    "        image = load_image(ip)\n",
    "        #print(image[15])\n",
    "        image_grey = np.asarray(Image.open(ip).convert('L'))\n",
    "        p_detected.append(1 if has_points_in_images(image) else 0)\n",
    "        pix_black.append(black_pixels(image))\n",
    "        var_color.append(np.array(image)[:,0].var())\n",
    "        max_color.append(np.array(image)[:,0].max())\n",
    "        var_gray.append(image_grey.var())\n",
    "        max_gray.append(image_grey.max())\n",
    "        labels.append(label)\n",
    "        \n",
    "    df = pd.DataFrame()\n",
    "    #df['image_path'] = images_paths\n",
    "    df['has_points'] = p_detected\n",
    "    df['black_pixels'] = pix_black\n",
    "    df['var_color'] = var_color\n",
    "    df['max_color'] = max_color\n",
    "    df['var_gray'] = var_gray\n",
    "    df['max_gray'] = max_gray\n",
    "    df['label'] = labels\n",
    "    \n",
    "    return df"
   ]
  },
  {
   "cell_type": "markdown",
   "metadata": {},
   "source": [
    "## Test"
   ]
  },
  {
   "cell_type": "code",
   "execution_count": 6,
   "metadata": {},
   "outputs": [
    {
     "name": "stdout",
     "output_type": "stream",
     "text": [
      "1000\n",
      "2000\n",
      "3000\n",
      "4000\n",
      "5000\n",
      "6000\n",
      "7000\n",
      "8000\n",
      "9000\n",
      "10000\n",
      "11000\n",
      "12000\n",
      "13000\n",
      "1000\n",
      "2000\n",
      "3000\n",
      "4000\n",
      "5000\n",
      "6000\n",
      "7000\n",
      "8000\n",
      "9000\n",
      "10000\n",
      "11000\n",
      "12000\n",
      "13000\n"
     ]
    },
    {
     "ename": "NameError",
     "evalue": "name 'df1' is not defined",
     "output_type": "error",
     "traceback": [
      "\u001b[0;31m---------------------------------------------------------------------------\u001b[0m",
      "\u001b[0;31mNameError\u001b[0m                                 Traceback (most recent call last)",
      "\u001b[0;32m<ipython-input-6-aaf55eff2e04>\u001b[0m in \u001b[0;36m<module>\u001b[0;34m\u001b[0m\n\u001b[1;32m     41\u001b[0m     \u001b[0;32mpass\u001b[0m\u001b[0;34m\u001b[0m\u001b[0;34m\u001b[0m\u001b[0m\n\u001b[1;32m     42\u001b[0m \u001b[0;34m\u001b[0m\u001b[0m\n\u001b[0;32m---> 43\u001b[0;31m \u001b[0mdf\u001b[0m \u001b[0;34m=\u001b[0m \u001b[0mdf1\u001b[0m\u001b[0;34m.\u001b[0m\u001b[0mappend\u001b[0m\u001b[0;34m(\u001b[0m\u001b[0mdf2\u001b[0m\u001b[0;34m)\u001b[0m\u001b[0;34m\u001b[0m\u001b[0;34m\u001b[0m\u001b[0m\n\u001b[0m\u001b[1;32m     44\u001b[0m \u001b[0;34m\u001b[0m\u001b[0m\n\u001b[1;32m     45\u001b[0m \u001b[0;31m# shuffle data\u001b[0m\u001b[0;34m\u001b[0m\u001b[0;34m\u001b[0m\u001b[0;34m\u001b[0m\u001b[0m\n",
      "\u001b[0;31mNameError\u001b[0m: name 'df1' is not defined"
     ]
    }
   ],
   "source": [
    "try:\n",
    "    for dirname, _, filenames in os.walk('../cell_images/Uninfected'):\n",
    "        paths = []\n",
    "        i=0\n",
    "        for filename in filenames[:]:\n",
    "            i+=1\n",
    "            if i%1000==0:\n",
    "                print (i)\n",
    "            image_path = os.path.join(dirname, filename)\n",
    "            paths.append(image_path)\n",
    "        df1 = extract(paths, 0)\n",
    "except Exception:\n",
    "    pass\n",
    "    '''\n",
    "    for filename in filenames[:100]:\n",
    "        image_path = os.path.join(dirname, filename)\n",
    "        if image_path.endswith('.db'):\n",
    "            continue\n",
    "        image = load_image(image_path)\n",
    "        p_labels.append(True)\n",
    "        if not has_points_in_images():\n",
    "            p_detected.append(True)\n",
    "        else:\n",
    "            imageplot(image)\n",
    "            p_detected.append(False)\n",
    "            print(image_path)    \n",
    "\n",
    "    '''\n",
    "try:\n",
    "    for dirname, _, filenames in os.walk('../cell_images/Parasitized'):\n",
    "        paths = []\n",
    "        i=0\n",
    "        for filename in filenames[:]:\n",
    "            i+=1\n",
    "            if i%1000==0:\n",
    "                print (i)\n",
    "            image_path = os.path.join(dirname, filename)\n",
    "            paths.append(image_path)\n",
    "        df2 = extract(paths, 1)\n",
    "except Exception:\n",
    "    pass\n",
    "\n",
    "df = df1.append(df2)\n",
    "\n",
    "# shuffle data\n",
    "df = df.sample(frac=1)\n",
    "\n",
    "# train = 60% / test = 20% / validation = 20%\n",
    "train, validate, test = np.split(df.sample(frac=1), [int(.6*len(df)), int(.8*len(df))])\n",
    "\n",
    "features = [\"has_points\", \"black_pixels\", \"var_color\", \"max_color\", \"var_gray\", \"max_gray\"]\n",
    "\n",
    "train.to_csv(\"malaria_train.data\", sep=' ', columns = features, index=False)\n",
    "train.to_csv(\"malaria_train.solution\", sep=' ', columns = [\"label\"], index=False)\n",
    "\n",
    "test.to_csv(\"malaria_test.data\", sep=' ', columns = features, index=False)\n",
    "test.to_csv(\"malaria_test.solution\", sep=' ', columns = [\"label\"], index=False)\n",
    "\n",
    "validate.to_csv(\"malaria_valid.data\", sep=' ', columns = features, index=False)\n",
    "validate.to_csv(\"malaria_valid.solution\", sep=' ', columns = [\"label\"], index=False)"
   ]
  },
  {
   "cell_type": "code",
   "execution_count": null,
   "metadata": {},
   "outputs": [],
   "source": [
    "df"
   ]
  },
  {
   "cell_type": "code",
   "execution_count": null,
   "metadata": {},
   "outputs": [],
   "source": []
  }
 ],
 "metadata": {
  "kernelspec": {
   "display_name": "Python 3",
   "language": "python",
   "name": "python3"
  },
  "language_info": {
   "codemirror_mode": {
    "name": "ipython",
    "version": 3
   },
   "file_extension": ".py",
   "mimetype": "text/x-python",
   "name": "python",
   "nbconvert_exporter": "python",
   "pygments_lexer": "ipython3",
   "version": "3.7.3"
  }
 },
 "nbformat": 4,
 "nbformat_minor": 2
}
