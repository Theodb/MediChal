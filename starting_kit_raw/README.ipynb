{
 "cells": [
  {
   "cell_type": "markdown",
   "metadata": {},
   "source": [
    "\n",
    "# MediChal Challenge - Detecting Malaria with cell Images\n",
    "\n",
    "____"
   ]
  },
  {
   "cell_type": "markdown",
   "metadata": {},
   "source": [
    "<img src=\"./logo.jpg\" width=\"200\" height=\"200\" align=\"left\"> \n",
    "\n",
    "## Team MEDICHAL :\n",
    "- Théo Deschamps-Berger\n",
    "- Simon Monteiro\n",
    "- Xienneng Xu\n",
    "- Nicolas Devatine\n",
    "- Clément Veyssière\n",
    "- Corentin Leloup\n",
    "- Ramine Hamidi\n"
   ]
  },
  {
   "cell_type": "markdown",
   "metadata": {},
   "source": [
    "<div style=\"background:#FFFFAA\">\n",
    "    <h2>Introduction </h2>\n",
    "    <p>\n",
    "        <br>       \n",
    " \n",
    "     \n",
    "The problem we try to solve here is the diagnosis of malaria using images of cells that are whether infected or not. It is a binary classification problem from the data set found here at <a href=https://www.kaggle.com/iarunava/cell-images-for-detecting-malaria>\"Cell images for detecting malaria\"</a>. The data set contains around 27 thousand images, that are balanced between the 2 classes. The way we proceed here is to extract features from the images instead of using images directly as inputs to the model we use for predictions.\n",
    "\n",
    " \n",
    "</div>"
   ]
  },
  {
   "cell_type": "markdown",
   "metadata": {},
   "source": [
    "<p align=\"center\">\n",
    "  <img src=\"example_cells.png\">\n",
    "</p>\n",
    "<center>Example of parasitized and uninfected cells</center>"
   ]
  },
  {
   "cell_type": "code",
   "execution_count": 1,
   "metadata": {},
   "outputs": [],
   "source": [
    "model_dir = 'sample_code_submission/'                        # Change the model to a better one once you have one!\n",
    "result_dir = 'sample_result_submission/' \n",
    "problem_dir = 'ingestion_program/'  \n",
    "score_dir = 'scoring_program/'\n",
    "import sys\n",
    "from sys import path; path.append(model_dir); path.append(problem_dir); path.append(score_dir); \n",
    "%matplotlib inline\n",
    "# Uncomment the next lines to auto-reload libraries (this causes some problem with pickles in Python 3)\n",
    "%load_ext autoreload\n",
    "%autoreload 2\n",
    "import seaborn as sns; sns.set()\n",
    "import warnings\n",
    "warnings.simplefilter(action='ignore', category=FutureWarning)"
   ]
  },
  {
   "cell_type": "markdown",
   "metadata": {},
   "source": [
    "<div style=\"background:#FFFFAA\">\n",
    "    <h1> Step 1: Exploratory data analysis </h1>\n",
    "<p>\n",
    "We provide sample_data with the starting kit, but to prepare your submission, you must fetch the public_data from the challenge website and point to it.\n",
    "    <br>\n",
    "    <span style=\"color:red\"> Just change the data name in the block below. In the rest of the section, replace the sample plots by anything you want. </span>\n",
    "</div>"
   ]
  },
  {
   "cell_type": "markdown",
   "metadata": {},
   "source": [
    "### Quality of the data\n",
    "\n",
    "This dataset is composed of raw gray-scale images."
   ]
  },
  {
   "cell_type": "code",
   "execution_count": 2,
   "metadata": {},
   "outputs": [
    {
     "name": "stdout",
     "output_type": "stream",
     "text": [
      "malaria_feat.name     malaria_test.data       malaria_valid.data\r\n",
      "malaria_label.name    malaria_test.solution   malaria_valid.solution\r\n",
      "malaria_private.info  malaria_train.data\r\n",
      "malaria_public.info   malaria_train.solution\r\n"
     ]
    }
   ],
   "source": [
    "data_dir = 'sample_data'              # Change this to the directory where you put the input data\n",
    "data_name = 'malaria'\n",
    "\n",
    "!ls $data_dir* # Linux command\n",
    "# !dir $data_dir # Windows command"
   ]
  },
  {
   "cell_type": "markdown",
   "metadata": {},
   "source": [
    "For convenience, we load the data as a \"pandas\" data frame, so we can use \"pandas\" and \"seaborn\" built in functions to explore the data."
   ]
  },
  {
   "cell_type": "code",
   "execution_count": 3,
   "metadata": {},
   "outputs": [
    {
     "name": "stdout",
     "output_type": "stream",
     "text": [
      "Reading sample_data/malaria_train from AutoML format\n",
      "Number of examples = 600\n",
      "Number of features = 2500\n",
      "         Class\n",
      "0   uninfected\n",
      "1  parasitized\n",
      "Number of classes = 2\n"
     ]
    },
    {
     "data": {
      "image/png": "[encoded data removed]",
      "text/plain": [
       "<Figure size 432x288 with 1 Axes>"
      ]
     },
     "metadata": {
      "needs_background": "light"
     },
     "output_type": "display_data"
    }
   ],
   "source": [
    "from data_io import read_as_df\n",
    "import matplotlib.pyplot as plt\n",
    "import numpy as np\n",
    "import pandas as pd\n",
    "\n",
    "data = read_as_df(data_dir  + '/' + data_name)                # The data are loaded as a Pandas Data Frame\n",
    "\n",
    "nb_p=np.sum(data.target == 'parasitized')\n",
    "nb_u=np.sum(data.target == 'uninfected')\n",
    "\n",
    "p = pd.DataFrame({'labels':['parasitized', 'uninfected'],'number of cells': [nb_p, nb_u]})\n",
    "ax = p.plot.bar(x='labels', y='number of cells', rot=0),\n",
    "plt.text(-0.12, nb_p/2, nb_p , size=20, color='r'),\n",
    "plt.text(0.9, nb_u/2, nb_u , size=20, color='g'),plt.title('Distribution of our cells images')\n",
    "plt.show()"
   ]
  },
  {
   "cell_type": "markdown",
   "metadata": {},
   "source": [
    "For this challenge you only have access to raw data with values of pixels for gray-scale images."
   ]
  },
  {
   "cell_type": "code",
   "execution_count": 49,
   "metadata": {},
   "outputs": [
    {
     "data": {
      "image/png": "[encoded data removed]",
      "text/plain": [
       "<Figure size 432x288 with 1 Axes>"
      ]
     },
     "metadata": {
      "needs_background": "light"
     },
     "output_type": "display_data"
    }
   ],
   "source": [
    "# Example of image\n",
    "plt.imshow(np.array(data.iloc[0][:-1]).astype(float).reshape(50, 50), cmap='gray')\n",
    "plt.show()"
   ]
  },
  {
   "cell_type": "code",
   "execution_count": 50,
   "metadata": {
    "scrolled": false
   },
   "outputs": [
    {
     "data": {
      "text/html": [
       "<div>\n",
       "<style scoped>\n",
       "    .dataframe tbody tr th:only-of-type {\n",
       "        vertical-align: middle;\n",
       "    }\n",
       "\n",
       "    .dataframe tbody tr th {\n",
       "        vertical-align: top;\n",
       "    }\n",
       "\n",
       "    .dataframe thead th {\n",
       "        text-align: right;\n",
       "    }\n",
       "</style>\n",
       "<table border=\"1\" class=\"dataframe\">\n",
       "  <thead>\n",
       "    <tr style=\"text-align: right;\">\n",
       "      <th></th>\n",
       "      <th>0_0</th>\n",
       "      <th>0_1</th>\n",
       "      <th>0_2</th>\n",
       "      <th>0_3</th>\n",
       "      <th>0_4</th>\n",
       "      <th>0_5</th>\n",
       "      <th>0_6</th>\n",
       "      <th>0_7</th>\n",
       "      <th>0_8</th>\n",
       "      <th>0_9</th>\n",
       "      <th>...</th>\n",
       "      <th>49_40</th>\n",
       "      <th>49_41</th>\n",
       "      <th>49_42</th>\n",
       "      <th>49_43</th>\n",
       "      <th>49_44</th>\n",
       "      <th>49_45</th>\n",
       "      <th>49_46</th>\n",
       "      <th>49_47</th>\n",
       "      <th>49_48</th>\n",
       "      <th>49_49</th>\n",
       "    </tr>\n",
       "  </thead>\n",
       "  <tbody>\n",
       "    <tr>\n",
       "      <th>count</th>\n",
       "      <td>600.0</td>\n",
       "      <td>600.0</td>\n",
       "      <td>600.000000</td>\n",
       "      <td>600.000000</td>\n",
       "      <td>600.000000</td>\n",
       "      <td>600.000000</td>\n",
       "      <td>600.000000</td>\n",
       "      <td>600.000000</td>\n",
       "      <td>600.000000</td>\n",
       "      <td>600.000000</td>\n",
       "      <td>...</td>\n",
       "      <td>600.000000</td>\n",
       "      <td>600.000000</td>\n",
       "      <td>600.000000</td>\n",
       "      <td>600.000000</td>\n",
       "      <td>600.00000</td>\n",
       "      <td>600.0</td>\n",
       "      <td>600.0</td>\n",
       "      <td>600.0</td>\n",
       "      <td>600.0</td>\n",
       "      <td>600.0</td>\n",
       "    </tr>\n",
       "    <tr>\n",
       "      <th>mean</th>\n",
       "      <td>0.0</td>\n",
       "      <td>0.0</td>\n",
       "      <td>0.001151</td>\n",
       "      <td>0.001131</td>\n",
       "      <td>0.002197</td>\n",
       "      <td>0.002364</td>\n",
       "      <td>0.003367</td>\n",
       "      <td>0.004314</td>\n",
       "      <td>0.007365</td>\n",
       "      <td>0.008898</td>\n",
       "      <td>...</td>\n",
       "      <td>0.017032</td>\n",
       "      <td>0.013623</td>\n",
       "      <td>0.012277</td>\n",
       "      <td>0.005040</td>\n",
       "      <td>0.00319</td>\n",
       "      <td>0.0</td>\n",
       "      <td>0.0</td>\n",
       "      <td>0.0</td>\n",
       "      <td>0.0</td>\n",
       "      <td>0.0</td>\n",
       "    </tr>\n",
       "    <tr>\n",
       "      <th>std</th>\n",
       "      <td>0.0</td>\n",
       "      <td>0.0</td>\n",
       "      <td>0.028185</td>\n",
       "      <td>0.027700</td>\n",
       "      <td>0.034843</td>\n",
       "      <td>0.039013</td>\n",
       "      <td>0.045209</td>\n",
       "      <td>0.054418</td>\n",
       "      <td>0.072808</td>\n",
       "      <td>0.080067</td>\n",
       "      <td>...</td>\n",
       "      <td>0.109996</td>\n",
       "      <td>0.100488</td>\n",
       "      <td>0.094551</td>\n",
       "      <td>0.061585</td>\n",
       "      <td>0.04515</td>\n",
       "      <td>0.0</td>\n",
       "      <td>0.0</td>\n",
       "      <td>0.0</td>\n",
       "      <td>0.0</td>\n",
       "      <td>0.0</td>\n",
       "    </tr>\n",
       "    <tr>\n",
       "      <th>min</th>\n",
       "      <td>0.0</td>\n",
       "      <td>0.0</td>\n",
       "      <td>0.000000</td>\n",
       "      <td>0.000000</td>\n",
       "      <td>0.000000</td>\n",
       "      <td>0.000000</td>\n",
       "      <td>0.000000</td>\n",
       "      <td>0.000000</td>\n",
       "      <td>0.000000</td>\n",
       "      <td>0.000000</td>\n",
       "      <td>...</td>\n",
       "      <td>0.000000</td>\n",
       "      <td>0.000000</td>\n",
       "      <td>0.000000</td>\n",
       "      <td>0.000000</td>\n",
       "      <td>0.00000</td>\n",
       "      <td>0.0</td>\n",
       "      <td>0.0</td>\n",
       "      <td>0.0</td>\n",
       "      <td>0.0</td>\n",
       "      <td>0.0</td>\n",
       "    </tr>\n",
       "    <tr>\n",
       "      <th>25%</th>\n",
       "      <td>0.0</td>\n",
       "      <td>0.0</td>\n",
       "      <td>0.000000</td>\n",
       "      <td>0.000000</td>\n",
       "      <td>0.000000</td>\n",
       "      <td>0.000000</td>\n",
       "      <td>0.000000</td>\n",
       "      <td>0.000000</td>\n",
       "      <td>0.000000</td>\n",
       "      <td>0.000000</td>\n",
       "      <td>...</td>\n",
       "      <td>0.000000</td>\n",
       "      <td>0.000000</td>\n",
       "      <td>0.000000</td>\n",
       "      <td>0.000000</td>\n",
       "      <td>0.00000</td>\n",
       "      <td>0.0</td>\n",
       "      <td>0.0</td>\n",
       "      <td>0.0</td>\n",
       "      <td>0.0</td>\n",
       "      <td>0.0</td>\n",
       "    </tr>\n",
       "    <tr>\n",
       "      <th>50%</th>\n",
       "      <td>0.0</td>\n",
       "      <td>0.0</td>\n",
       "      <td>0.000000</td>\n",
       "      <td>0.000000</td>\n",
       "      <td>0.000000</td>\n",
       "      <td>0.000000</td>\n",
       "      <td>0.000000</td>\n",
       "      <td>0.000000</td>\n",
       "      <td>0.000000</td>\n",
       "      <td>0.000000</td>\n",
       "      <td>...</td>\n",
       "      <td>0.000000</td>\n",
       "      <td>0.000000</td>\n",
       "      <td>0.000000</td>\n",
       "      <td>0.000000</td>\n",
       "      <td>0.00000</td>\n",
       "      <td>0.0</td>\n",
       "      <td>0.0</td>\n",
       "      <td>0.0</td>\n",
       "      <td>0.0</td>\n",
       "      <td>0.0</td>\n",
       "    </tr>\n",
       "    <tr>\n",
       "      <th>75%</th>\n",
       "      <td>0.0</td>\n",
       "      <td>0.0</td>\n",
       "      <td>0.000000</td>\n",
       "      <td>0.000000</td>\n",
       "      <td>0.000000</td>\n",
       "      <td>0.000000</td>\n",
       "      <td>0.000000</td>\n",
       "      <td>0.000000</td>\n",
       "      <td>0.000000</td>\n",
       "      <td>0.000000</td>\n",
       "      <td>...</td>\n",
       "      <td>0.000000</td>\n",
       "      <td>0.000000</td>\n",
       "      <td>0.000000</td>\n",
       "      <td>0.000000</td>\n",
       "      <td>0.00000</td>\n",
       "      <td>0.0</td>\n",
       "      <td>0.0</td>\n",
       "      <td>0.0</td>\n",
       "      <td>0.0</td>\n",
       "      <td>0.0</td>\n",
       "    </tr>\n",
       "    <tr>\n",
       "      <th>max</th>\n",
       "      <td>0.0</td>\n",
       "      <td>0.0</td>\n",
       "      <td>0.690400</td>\n",
       "      <td>0.678500</td>\n",
       "      <td>0.675400</td>\n",
       "      <td>0.756400</td>\n",
       "      <td>0.757200</td>\n",
       "      <td>0.809000</td>\n",
       "      <td>0.800900</td>\n",
       "      <td>0.797700</td>\n",
       "      <td>...</td>\n",
       "      <td>0.808000</td>\n",
       "      <td>0.796300</td>\n",
       "      <td>0.786100</td>\n",
       "      <td>0.783900</td>\n",
       "      <td>0.75270</td>\n",
       "      <td>0.0</td>\n",
       "      <td>0.0</td>\n",
       "      <td>0.0</td>\n",
       "      <td>0.0</td>\n",
       "      <td>0.0</td>\n",
       "    </tr>\n",
       "  </tbody>\n",
       "</table>\n",
       "<p>8 rows × 2500 columns</p>\n",
       "</div>"
      ],
      "text/plain": [
       "         0_0    0_1         0_2         0_3         0_4         0_5  \\\n",
       "count  600.0  600.0  600.000000  600.000000  600.000000  600.000000   \n",
       "mean     0.0    0.0    0.001151    0.001131    0.002197    0.002364   \n",
       "std      0.0    0.0    0.028185    0.027700    0.034843    0.039013   \n",
       "min      0.0    0.0    0.000000    0.000000    0.000000    0.000000   \n",
       "25%      0.0    0.0    0.000000    0.000000    0.000000    0.000000   \n",
       "50%      0.0    0.0    0.000000    0.000000    0.000000    0.000000   \n",
       "75%      0.0    0.0    0.000000    0.000000    0.000000    0.000000   \n",
       "max      0.0    0.0    0.690400    0.678500    0.675400    0.756400   \n",
       "\n",
       "              0_6         0_7         0_8         0_9  ...         49_40  \\\n",
       "count  600.000000  600.000000  600.000000  600.000000  ...    600.000000   \n",
       "mean     0.003367    0.004314    0.007365    0.008898  ...      0.017032   \n",
       "std      0.045209    0.054418    0.072808    0.080067  ...      0.109996   \n",
       "min      0.000000    0.000000    0.000000    0.000000  ...      0.000000   \n",
       "25%      0.000000    0.000000    0.000000    0.000000  ...      0.000000   \n",
       "50%      0.000000    0.000000    0.000000    0.000000  ...      0.000000   \n",
       "75%      0.000000    0.000000    0.000000    0.000000  ...      0.000000   \n",
       "max      0.757200    0.809000    0.800900    0.797700  ...      0.808000   \n",
       "\n",
       "            49_41       49_42       49_43      49_44  49_45  49_46  49_47  \\\n",
       "count  600.000000  600.000000  600.000000  600.00000  600.0  600.0  600.0   \n",
       "mean     0.013623    0.012277    0.005040    0.00319    0.0    0.0    0.0   \n",
       "std      0.100488    0.094551    0.061585    0.04515    0.0    0.0    0.0   \n",
       "min      0.000000    0.000000    0.000000    0.00000    0.0    0.0    0.0   \n",
       "25%      0.000000    0.000000    0.000000    0.00000    0.0    0.0    0.0   \n",
       "50%      0.000000    0.000000    0.000000    0.00000    0.0    0.0    0.0   \n",
       "75%      0.000000    0.000000    0.000000    0.00000    0.0    0.0    0.0   \n",
       "max      0.796300    0.786100    0.783900    0.75270    0.0    0.0    0.0   \n",
       "\n",
       "       49_48  49_49  \n",
       "count  600.0  600.0  \n",
       "mean     0.0    0.0  \n",
       "std      0.0    0.0  \n",
       "min      0.0    0.0  \n",
       "25%      0.0    0.0  \n",
       "50%      0.0    0.0  \n",
       "75%      0.0    0.0  \n",
       "max      0.0    0.0  \n",
       "\n",
       "[8 rows x 2500 columns]"
      ]
     },
     "execution_count": 50,
     "metadata": {},
     "output_type": "execute_result"
    }
   ],
   "source": [
    "data.describe() "
   ]
  },
  {
   "cell_type": "markdown",
   "metadata": {},
   "source": [
    "## Model and results analysis\n",
    "\n",
    "Here we run a sandbox test to introduce some metrics and ways to visualize results. We split the train set into train and test in order to perform these analysis, and we compute the confusion matrix for RandomForestClassifier with arbitrary hyper-parameters."
   ]
  },
  {
   "cell_type": "code",
   "execution_count": 51,
   "metadata": {},
   "outputs": [
    {
     "name": "stdout",
     "output_type": "stream",
     "text": [
      "Info file found : /home/nicolas/Documents/M2/projet/PROJECT/MediChal/starting_kit_raw/sample_data/malaria_public.info\n",
      "FIT: dim(X)= [402, 2500]\n",
      "FIT: dim(y)= [402, 1]\n",
      "PREDICT: dim(X)= [198, 2500]\n",
      "PREDICT: dim(y)= [198, 1]\n"
     ]
    },
    {
     "data": {
      "text/plain": [
       "array([[60, 43],\n",
       "       [49, 46]])"
      ]
     },
     "execution_count": 51,
     "metadata": {},
     "output_type": "execute_result"
    }
   ],
   "source": [
    "from sklearn.model_selection import train_test_split\n",
    "from data_manager import DataManager\n",
    "from model import model\n",
    "from sklearn.ensemble import RandomForestClassifier\n",
    "from sklearn.model_selection import ParameterGrid\n",
    "\n",
    "D = DataManager(data_name, data_dir, replace_missing=True)\n",
    "X_train_pre, X_test_pre, y_train_pre, y_test_pre = train_test_split(D.data['X_train'], D.data['Y_train'], test_size=0.33, random_state=42)\n",
    "\n",
    "# Load model\n",
    "clf = RandomForestClassifier(random_state = 42, n_estimators = 2, max_depth = 5)\n",
    "M = model() # The model is by default a random forest classifier\n",
    "\n",
    "if not(M.is_trained):\n",
    "    M.fit(X_train_pre, y_train_pre)                     \n",
    "\n",
    "Y_hat_test_pre = M.predict(X_test_pre)\n",
    "\n",
    "from sklearn.metrics import confusion_matrix\n",
    "confusion_matrix(y_test_pre, Y_hat_test_pre)"
   ]
  },
  {
   "cell_type": "markdown",
   "metadata": {},
   "source": [
    "This is the plot of the confusion matrix from the predictions performed."
   ]
  },
  {
   "cell_type": "code",
   "execution_count": 52,
   "metadata": {},
   "outputs": [
    {
     "data": {
      "image/png": "[encoded data removed]",
      "text/plain": [
       "<Figure size 432x288 with 2 Axes>"
      ]
     },
     "metadata": {
      "needs_background": "light"
     },
     "output_type": "display_data"
    }
   ],
   "source": [
    "ax= plt.subplot()\n",
    "sns.heatmap(confusion_matrix(y_test_pre, Y_hat_test_pre), annot=True, fmt='g', ax=ax); #annot=True to annotate cells\n",
    "\n",
    "# labels, title and ticks\n",
    "ax.set_xlabel('Predicted labels');\n",
    "ax.set_ylabel('True labels'); \n",
    "ax.set_title('Confusion Matrix'); \n",
    "ax.xaxis.set_ticklabels(['Parasitized', 'Uninfected']);\n",
    "ax.yaxis.set_ticklabels(['Parasitized', 'Uninfected']);\n",
    "plt.show()"
   ]
  },
  {
   "cell_type": "code",
   "execution_count": 53,
   "metadata": {},
   "outputs": [
    {
     "name": "stdout",
     "output_type": "stream",
     "text": [
      "             precision    recall  f1-score   support\n",
      "\n",
      "Parasitized       0.55      0.58      0.57       103\n",
      " Uninfected       0.52      0.48      0.50        95\n",
      "\n",
      "avg / total       0.53      0.54      0.53       198\n",
      "\n"
     ]
    }
   ],
   "source": [
    "from sklearn.metrics import classification_report\n",
    "\n",
    "target_names = ['Parasitized', 'Uninfected']\n",
    "print(classification_report(y_test_pre, Y_hat_test_pre, target_names=target_names))"
   ]
  },
  {
   "cell_type": "markdown",
   "metadata": {},
   "source": [
    "Then we can compute the AUC metric which is the one used for the submission."
   ]
  },
  {
   "cell_type": "markdown",
   "metadata": {},
   "source": [
    "<div style=\"background:#FFFFAA\">\n",
    "    <h2>Training a predictive model</h2>\n",
    "    <p>\n",
    "We provide an example of predictive model (for classification or regression) in the `sample_code_submission/` directory. It is a quite stupid model: it makes constant predictions. Replace it with your own model.\n",
    "    </div>"
   ]
  },
  {
   "cell_type": "code",
   "execution_count": 54,
   "metadata": {},
   "outputs": [],
   "source": [
    "from data_io import write\n",
    "from model import model\n",
    "# Uncomment the next line to show the code of the model\n",
    "#??model"
   ]
  },
  {
   "cell_type": "markdown",
   "metadata": {},
   "source": [
    "<div style=\"background:#FFFFAA\">\n",
    "an instance of the model (run the constructor) and attempt to reload a previously saved version from `sample_code_submission/`:\n",
    "    \n",
    "</div>"
   ]
  },
  {
   "cell_type": "markdown",
   "metadata": {},
   "source": [
    "<div style=\"background:#FFFFAA\">\n",
    "<h1>Step 2: Building a predictive model</h1>\n",
    "</div>"
   ]
  },
  {
   "cell_type": "markdown",
   "metadata": {},
   "source": [
    "<div style=\"background:#FFFFAA\">\n",
    "    <h2>Loading data with DataManager</h2>\n",
    "    <p>\n",
    "We reload the data with the AutoML DataManager class because this is more convenient:\n",
    "   <br>     <span style=\"color:red\"> Keep this, it illustrates how data in AutoML formal are loaded by the ingestion program </span>\n",
    "</div>"
   ]
  },
  {
   "cell_type": "code",
   "execution_count": 55,
   "metadata": {
    "scrolled": true
   },
   "outputs": [
    {
     "name": "stdout",
     "output_type": "stream",
     "text": [
      "Info file found : /home/nicolas/Documents/M2/projet/PROJECT/MediChal/starting_kit_raw/sample_data/malaria_public.info\n",
      "DataManager : malaria\n",
      "info:\n",
      "\tusage = Malaria cell images dataset\n",
      "\tname = malaria\n",
      "\ttask = binary.classification\n",
      "\ttarget_type = Numerical\n",
      "\tfeat_type = Numerical\n",
      "\tmetric = roc_auc_score\n",
      "\ttime_budget = 1200\n",
      "\tfeat_num = 2500\n",
      "\ttarget_num = 2\n",
      "\tlabel_num = 2\n",
      "\ttrain_num = 600\n",
      "\tvalid_num = 200\n",
      "\ttest_num = 200\n",
      "\thas_categorical = 0\n",
      "\thas_missing = 0\n",
      "\tis_sparse = 0\n",
      "\tformat = dense\n",
      "data:\n",
      "\tX_train = array(600, 2500)\n",
      "\tY_train = array(600,)\n",
      "\tX_valid = array(200, 2500)\n",
      "\tY_valid = array(200,)\n",
      "\tX_test = array(200, 2500)\n",
      "\tY_test = array(200,)\n",
      "feat_type:\tarray(2500,)\n",
      "feat_idx:\tarray(0,)\n",
      "\n"
     ]
    }
   ],
   "source": [
    "from data_manager import DataManager\n",
    "D = DataManager(data_name, data_dir, replace_missing=True)\n",
    "print(D)"
   ]
  },
  {
   "cell_type": "code",
   "execution_count": 56,
   "metadata": {},
   "outputs": [],
   "source": [
    "#Trying a random forest model\n",
    "M = model()   #The model is by default a random forest classifier\n",
    "trained_model_name = model_dir + data_name\n",
    "# Uncomment the next line to re-load an already trained model\n",
    "#M = M.load(trained_model_name)                  "
   ]
  },
  {
   "cell_type": "markdown",
   "metadata": {},
   "source": [
    "<div style=\"background:#FFFFAA\">\n",
    "    Train the model (unless you reloaded a trained model) and make predictions. \n",
    "</div>"
   ]
  },
  {
   "cell_type": "code",
   "execution_count": 57,
   "metadata": {
    "scrolled": true
   },
   "outputs": [
    {
     "name": "stdout",
     "output_type": "stream",
     "text": [
      "FIT: dim(X)= [600, 2500]\n",
      "FIT: dim(y)= [600, 1]\n",
      "PREDICT: dim(X)= [600, 2500]\n",
      "PREDICT: dim(y)= [600, 1]\n",
      "PREDICT: dim(X)= [200, 2500]\n",
      "PREDICT: dim(y)= [200, 1]\n",
      "PREDICT: dim(X)= [200, 2500]\n",
      "PREDICT: dim(y)= [200, 1]\n"
     ]
    }
   ],
   "source": [
    "if not(M.is_trained):\n",
    "    X_train = D.data['X_train']\n",
    "    Y_train = D.data['Y_train']\n",
    "    M.fit(X_train, Y_train)                     \n",
    "\n",
    "Y_hat_train = M.predict(D.data['X_train']) # Optional, not really needed to test on taining examples\n",
    "Y_hat_valid = M.predict(D.data['X_valid'])\n",
    "Y_hat_test = M.predict(D.data['X_test'])"
   ]
  },
  {
   "cell_type": "markdown",
   "metadata": {},
   "source": [
    "<div style=\"background:#FFFFAA\">\n",
    "    <b> Save the trained model </b> (will be ready to reload next time around) and save the prediction results. IMPORTANT: if you save the trained model, it will be bundled with your sample code submission. Therefore your model will NOT be retrained on the challenge platform. Remove the pickle from the submission if you want the model to be retrained on the platform.\n",
    "</div>"
   ]
  },
  {
   "cell_type": "code",
   "execution_count": 58,
   "metadata": {},
   "outputs": [
    {
     "name": "stdout",
     "output_type": "stream",
     "text": [
      "sample_result_submission/malaria_test.predict\r\n",
      "sample_result_submission/malaria_train.predict\r\n",
      "sample_result_submission/malaria_valid.predict\r\n"
     ]
    }
   ],
   "source": [
    "M.save(trained_model_name)                 \n",
    "result_name = result_dir + data_name\n",
    "from data_io import write\n",
    "write(result_name + '_train.predict', Y_hat_train)\n",
    "write(result_name + '_valid.predict', Y_hat_valid)\n",
    "write(result_name + '_test.predict', Y_hat_test)\n",
    "!ls $result_name*"
   ]
  },
  {
   "cell_type": "markdown",
   "metadata": {},
   "source": [
    "<div style=\"background:#FFFFAA\">\n",
    "    <h2>Scoring the results</h2>\n",
    "    <h3>Load the challenge metric</h3>\n",
    "    <p>\n",
    "<b>The metric chosen for your challenge</b> is identified in the \"metric.txt\" file found in the `scoring_function/` directory. The function \"get_metric\" searches first for a metric having that name in my_metric.py, then in libscores.py, then in sklearn.metric.\n",
    "    </div>"
   ]
  },
  {
   "cell_type": "markdown",
   "metadata": {},
   "source": [
    "We use the area under the curve as our metric to evaluate our model for the moment. We chose this metric because accuracy gives us only the percentage of correctly classified examples, whereas what we are interested in is to have the lowest possible rate of false negatives (infected cells classifies as being healthy). The ROC curve we will get will help us to find a good threshold for this classification, which will not necessarily the one maximising the accuracy as the false negatives are critical in our case (but the true negatives can always be rechecked by experts). The AUC will then give us the general performance of our model given the fact that we want to maximize true positives and true negatives."
   ]
  },
  {
   "cell_type": "code",
   "execution_count": 59,
   "metadata": {},
   "outputs": [
    {
     "name": "stdout",
     "output_type": "stream",
     "text": [
      "Using scoring metric: roc_auc_score\n"
     ]
    }
   ],
   "source": [
    "from libscores import get_metric\n",
    "metric_name, scoring_function = get_metric()\n",
    "print('Using scoring metric:', metric_name)\n",
    "# Uncomment the next line to display the code of the scoring metric\n",
    "#??scoring_function"
   ]
  },
  {
   "cell_type": "markdown",
   "metadata": {},
   "source": [
    "<div style=\"background:#FFFFAA\">\n",
    "    <h3> Training performance </h3>\n",
    "    <p>\n",
    "The participants normally posess target values (labels) only for training examples (except for the sample data). We compute with the `example` metric the training score, which should be zero for perfect predictions.\n",
    "        </div>"
   ]
  },
  {
   "cell_type": "code",
   "execution_count": 60,
   "metadata": {},
   "outputs": [
    {
     "name": "stdout",
     "output_type": "stream",
     "text": [
      "Training score for the roc_auc_score metric = 0.9885\n",
      "Ideal score for the roc_auc_score metric = 1.0000\n"
     ]
    }
   ],
   "source": [
    "print('Training score for the', metric_name, 'metric = %5.4f' % scoring_function(Y_train, Y_hat_train))\n",
    "print('Ideal score for the', metric_name, 'metric = %5.4f' % scoring_function(Y_train, Y_train))"
   ]
  },
  {
   "cell_type": "markdown",
   "metadata": {},
   "source": [
    "You can add here other scores and result visualization."
   ]
  },
  {
   "cell_type": "code",
   "execution_count": 61,
   "metadata": {},
   "outputs": [
    {
     "data": {
      "text/plain": [
       "array([[295,   0],\n",
       "       [  7, 298]])"
      ]
     },
     "execution_count": 61,
     "metadata": {},
     "output_type": "execute_result"
    }
   ],
   "source": [
    "from sklearn.metrics import confusion_matrix\n",
    "confusion_matrix(Y_train, Y_hat_train)"
   ]
  },
  {
   "cell_type": "code",
   "execution_count": 62,
   "metadata": {},
   "outputs": [],
   "source": [
    "from sklearn.metrics import roc_curve, auc\n",
    "\n",
    "size = round(len(D.data['X_train'])/10)\n",
    "\n",
    "probas_ = M.classifier.fit(D.data['X_train'][:size], D.data['Y_train'][:size].ravel()).predict_proba(D.data['X_train'][size:])\n",
    "# Compute ROC curve and area the curve\n",
    "fpr, tpr, thresholds = roc_curve(D.data['Y_train'][size:].ravel(), probas_[:, 1])\n",
    "roc_auc = auc(fpr, tpr)"
   ]
  },
  {
   "cell_type": "code",
   "execution_count": 63,
   "metadata": {},
   "outputs": [
    {
     "data": {
      "image/png": "[encoded data removed]",
      "text/plain": [
       "<Figure size 432x288 with 1 Axes>"
      ]
     },
     "metadata": {
      "needs_background": "light"
     },
     "output_type": "display_data"
    }
   ],
   "source": [
    "import matplotlib.pyplot as plt\n",
    "\n",
    "plt.figure()\n",
    "plt.plot(fpr, tpr, color='darkorange', label='ROC curve (area = %0.2f)' % roc_auc)\n",
    "plt.plot([0, 1], [0, 1], color='navy', linestyle='--')\n",
    "plt.xlim([0.0, 1.0])\n",
    "plt.ylim([0.0, 1.05])\n",
    "plt.xlabel('False Positive Rate')\n",
    "plt.ylabel('True Positive Rate')\n",
    "plt.title('Receiver operating characteristic example')\n",
    "plt.legend(loc=\"lower right\")\n",
    "plt.show()"
   ]
  },
  {
   "cell_type": "markdown",
   "metadata": {},
   "source": [
    "This plot of the ROC curve is a good indicator for us to find a good threshold for our model, here we will prefer a very low rate of false negatives (1 - true positives rate). If we really want something near to 100% true positives, we might consider a model giving us 40% of false positive rate, we might consider that threshold as a medical diagnosis is a critical application."
   ]
  },
  {
   "cell_type": "markdown",
   "metadata": {},
   "source": [
    "<div style=\"background:#FFFFAA\">\n",
    "    <h3>Cross-validation performance</h3>\n",
    "    <p>\n",
    "The participants do not have access to the labels Y_valid and Y_test to self-assess their validation and test performances. But training performance is not a good prediction of validation or test performance. Using cross-validation, the training data is split into multiple training/test folds, which allows participants to self-assess their model during development. The average CV result and 95% confidence interval is displayed.\n",
    "   </div>"
   ]
  },
  {
   "cell_type": "code",
   "execution_count": 64,
   "metadata": {},
   "outputs": [
    {
     "name": "stdout",
     "output_type": "stream",
     "text": [
      "FIT: dim(X)= [480, 2500]\n",
      "FIT: dim(y)= [480, 1]\n",
      "PREDICT: dim(X)= [120, 2500]\n",
      "PREDICT: dim(y)= [120, 1]\n",
      "FIT: dim(X)= [480, 2500]\n",
      "FIT: dim(y)= [480, 1]\n",
      "PREDICT: dim(X)= [120, 2500]\n",
      "PREDICT: dim(y)= [120, 1]\n",
      "FIT: dim(X)= [480, 2500]\n",
      "FIT: dim(y)= [480, 1]\n",
      "PREDICT: dim(X)= [120, 2500]\n",
      "PREDICT: dim(y)= [120, 1]\n",
      "FIT: dim(X)= [480, 2500]\n",
      "FIT: dim(y)= [480, 1]\n",
      "PREDICT: dim(X)= [120, 2500]\n",
      "PREDICT: dim(y)= [120, 1]\n",
      "FIT: dim(X)= [480, 2500]\n",
      "FIT: dim(y)= [480, 1]\n",
      "PREDICT: dim(X)= [120, 2500]\n",
      "PREDICT: dim(y)= [120, 1]\n",
      "\n",
      "CV score (95 perc. CI): 0.61 (+/- 0.06)\n"
     ]
    },
    {
     "data": {
      "text/plain": [
       "array([0.55833333, 0.62791032, 0.64620536, 0.59846547, 0.61419319])"
      ]
     },
     "execution_count": 64,
     "metadata": {},
     "output_type": "execute_result"
    }
   ],
   "source": [
    "from sklearn.metrics import make_scorer\n",
    "from sklearn.model_selection import cross_val_score\n",
    "M= model ()\n",
    "scores = cross_val_score(M, X_train, Y_train, cv=5, scoring=make_scorer(scoring_function))\n",
    "print('\\nCV score (95 perc. CI): %0.2f (+/- %0.2f)' % (scores.mean(), scores.std() * 2))\n",
    "scores"
   ]
  },
  {
   "cell_type": "markdown",
   "metadata": {},
   "source": [
    "____"
   ]
  },
  {
   "cell_type": "markdown",
   "metadata": {},
   "source": [
    "\n",
    "\n",
    "<div style=\"background:#FFFFAA\">\n",
    "<h1> Step 3: Making a submission </h1> \n",
    "\n",
    "<h2> Unit testing </h2> \n",
    "\n",
    "It is <b><span style=\"color:red\">important that you test your submission files before submitting them</span></b>. All you have to do to make a submission is modify the file <code>model.py</code> in the <code>sample_code_submission/</code> directory, then run this test to make sure everything works fine. This is the actual program that will be run on the server to test your submission. \n",
    "<br>\n",
    "Keep the sample code simple.\n",
    "</div>"
   ]
  },
  {
   "cell_type": "code",
   "execution_count": 65,
   "metadata": {
    "scrolled": true
   },
   "outputs": [
    {
     "name": "stdout",
     "output_type": "stream",
     "text": [
      "/bin/sh: 1: source: not found\n",
      "Using input_dir: /home/nicolas/Documents/M2/projet/PROJECT/MediChal/starting_kit_raw/sample_data\n",
      "Using output_dir: /home/nicolas/Documents/M2/projet/PROJECT/MediChal/starting_kit_raw/sample_result_submission\n",
      "Using program_dir: /home/nicolas/Documents/M2/projet/PROJECT/MediChal/starting_kit_raw/ingestion_program\n",
      "Using submission_dir: /home/nicolas/Documents/M2/projet/PROJECT/MediChal/starting_kit_raw/sample_code_submission\n",
      "/home/nicolas/anaconda3/lib/python3.7/site-packages/sklearn/feature_extraction/text.py:17: DeprecationWarning: Using or importing the ABCs from 'collections' instead of from 'collections.abc' is deprecated, and in 3.8 it will stop working\n",
      "  from collections import Mapping, defaultdict\n",
      "/home/nicolas/anaconda3/lib/python3.7/site-packages/sklearn/ensemble/weight_boosting.py:29: DeprecationWarning: numpy.core.umath_tests is an internal NumPy module and should not be imported. It will be removed in a future NumPy release.\n",
      "  from numpy.core.umath_tests import inner1d\n",
      "\n",
      "========== Ingestion program version 6 ==========\n",
      "\n",
      "************************************************\n",
      "******** Processing dataset Malaria ********\n",
      "************************************************\n",
      "========= Reading and converting data ==========\n",
      "Info file found : /home/nicolas/Documents/M2/projet/PROJECT/MediChal/starting_kit_raw/sample_data/malaria_public.info\n",
      "========= Reading /home/nicolas/Documents/M2/projet/PROJECT/MediChal/starting_kit_raw/sample_data/malaria_feat.type\n",
      "[+] Success in  0.00 sec\n",
      "========= Reading /home/nicolas/Documents/M2/projet/PROJECT/MediChal/starting_kit_raw/sample_data/malaria_train.data\n",
      "Replace missing values by 0 (slow, sorry)\n",
      "[+] Success in  0.33 sec\n",
      "========= Reading /home/nicolas/Documents/M2/projet/PROJECT/MediChal/starting_kit_raw/sample_data/malaria_train.solution\n",
      "[+] Success in  0.00 sec\n",
      "========= Reading /home/nicolas/Documents/M2/projet/PROJECT/MediChal/starting_kit_raw/sample_data/malaria_valid.data\n",
      "Replace missing values by 0 (slow, sorry)\n",
      "[+] Success in  0.10 sec\n",
      "========= Reading /home/nicolas/Documents/M2/projet/PROJECT/MediChal/starting_kit_raw/sample_data/malaria_valid.solution\n",
      "[+] Success in  0.00 sec\n",
      "========= Reading /home/nicolas/Documents/M2/projet/PROJECT/MediChal/starting_kit_raw/sample_data/malaria_test.data\n",
      "Replace missing values by 0 (slow, sorry)\n",
      "[+] Success in  0.12 sec\n",
      "========= Reading /home/nicolas/Documents/M2/projet/PROJECT/MediChal/starting_kit_raw/sample_data/malaria_test.solution\n",
      "[+] Success in  0.00 sec\n",
      "DataManager : malaria\n",
      "info:\n",
      "\tusage = Malaria cell images dataset\n",
      "\tname = malaria\n",
      "\ttask = binary.classification\n",
      "\ttarget_type = Numerical\n",
      "\tfeat_type = Numerical\n",
      "\tmetric = roc_auc_score\n",
      "\ttime_budget = 1200\n",
      "\tfeat_num = 2500\n",
      "\ttarget_num = 2\n",
      "\tlabel_num = 2\n",
      "\ttrain_num = 600\n",
      "\tvalid_num = 200\n",
      "\ttest_num = 200\n",
      "\thas_categorical = 0\n",
      "\thas_missing = 0\n",
      "\tis_sparse = 0\n",
      "\tformat = dense\n",
      "data:\n",
      "\tX_train = array(600, 2500)\n",
      "\tY_train = array(600,)\n",
      "\tX_valid = array(200, 2500)\n",
      "\tY_valid = array(200,)\n",
      "\tX_test = array(200, 2500)\n",
      "\tY_test = array(200,)\n",
      "feat_type:\tarray(2500,)\n",
      "feat_idx:\tarray(2500,)\n",
      "\n",
      "[+] Size of uploaded data  56.00 bytes\n",
      "[+] Cumulated time budget (all tasks so far)  1200.00 sec\n",
      "[+] Time budget for this task 1200.00 sec\n",
      "[+] Remaining time after reading data 1199.45 sec\n",
      "======== Creating model ==========\n",
      "**********************************************************\n",
      "****** Attempting to reload model to avoid training ******\n",
      "**********************************************************\n",
      "Model reloaded from: /home/nicolas/Documents/M2/projet/PROJECT/MediChal/starting_kit_raw/sample_code_submission/malaria_model.pickle\n",
      "[+] Model reloaded, no need to train!\n",
      "PREDICT: dim(X)= [600, 2500]\n",
      "PREDICT: dim(y)= [600, 1]\n",
      "PREDICT: dim(X)= [200, 2500]\n",
      "PREDICT: dim(y)= [200, 1]\n",
      "PREDICT: dim(X)= [200, 2500]\n",
      "PREDICT: dim(y)= [200, 1]\n",
      "[+] Prediction success, time spent so far  0.56 sec\n",
      "======== Saving results to: /home/nicolas/Documents/M2/projet/PROJECT/MediChal/starting_kit_raw/sample_result_submission\n",
      "[+] Results saved, time spent so far  0.56 sec\n",
      "[+] End cycle, time left 1199.44 sec\n",
      "[+] Done\n",
      "[+] Overall time spent  1.07 sec ::  Overall time budget 1200.00 sec\n"
     ]
    }
   ],
   "source": [
    "!source activate python3; python $problem_dir/ingestion.py $data_dir $result_dir $problem_dir $model_dir"
   ]
  },
  {
   "cell_type": "markdown",
   "metadata": {},
   "source": [
    "<div style=\"background:#FFFFAA\">\n",
    "Also test the scoring program:\n",
    "    </div>"
   ]
  },
  {
   "cell_type": "code",
   "execution_count": 66,
   "metadata": {},
   "outputs": [
    {
     "name": "stdout",
     "output_type": "stream",
     "text": [
      "======= Set 1 (Malaria_test): roc_auc_score(set1_score)=0.693577430972 =======\n",
      "======= Set 2 (Malaria_train): roc_auc_score(set2_score)=0.988524590164 =======\n",
      "======= Set 3 (Malaria_valid): roc_auc_score(set3_score)=0.643929536583 =======\n"
     ]
    }
   ],
   "source": [
    "scoring_output_dir = 'scoring_output'\n",
    "!python $score_dir/score.py $data_dir $result_dir $scoring_output_dir"
   ]
  },
  {
   "cell_type": "markdown",
   "metadata": {},
   "source": [
    "## Parameter optimization to try to improve the area under the roc curve."
   ]
  },
  {
   "cell_type": "code",
   "execution_count": 67,
   "metadata": {},
   "outputs": [
    {
     "name": "stdout",
     "output_type": "stream",
     "text": [
      "FIT: dim(X)= [480, 2500]\n",
      "FIT: dim(y)= [480, 1]\n",
      "PREDICT: dim(X)= [120, 2500]\n",
      "PREDICT: dim(y)= [120, 1]\n",
      "FIT: dim(X)= [480, 2500]\n",
      "FIT: dim(y)= [480, 1]\n",
      "PREDICT: dim(X)= [120, 2500]\n",
      "PREDICT: dim(y)= [120, 1]\n",
      "FIT: dim(X)= [480, 2500]\n",
      "FIT: dim(y)= [480, 1]\n",
      "PREDICT: dim(X)= [120, 2500]\n",
      "PREDICT: dim(y)= [120, 1]\n",
      "FIT: dim(X)= [480, 2500]\n",
      "FIT: dim(y)= [480, 1]\n",
      "PREDICT: dim(X)= [120, 2500]\n",
      "PREDICT: dim(y)= [120, 1]\n",
      "FIT: dim(X)= [480, 2500]\n",
      "FIT: dim(y)= [480, 1]\n",
      "PREDICT: dim(X)= [120, 2500]\n",
      "PREDICT: dim(y)= [120, 1]\n",
      "FIT: dim(X)= [480, 2500]\n",
      "FIT: dim(y)= [480, 1]\n",
      "PREDICT: dim(X)= [120, 2500]\n",
      "PREDICT: dim(y)= [120, 1]\n",
      "FIT: dim(X)= [480, 2500]\n",
      "FIT: dim(y)= [480, 1]\n",
      "PREDICT: dim(X)= [120, 2500]\n",
      "PREDICT: dim(y)= [120, 1]\n",
      "FIT: dim(X)= [480, 2500]\n",
      "FIT: dim(y)= [480, 1]\n",
      "PREDICT: dim(X)= [120, 2500]\n",
      "PREDICT: dim(y)= [120, 1]\n",
      "FIT: dim(X)= [480, 2500]\n",
      "FIT: dim(y)= [480, 1]\n",
      "PREDICT: dim(X)= [120, 2500]\n",
      "PREDICT: dim(y)= [120, 1]\n",
      "FIT: dim(X)= [480, 2500]\n",
      "FIT: dim(y)= [480, 1]\n",
      "PREDICT: dim(X)= [120, 2500]\n",
      "PREDICT: dim(y)= [120, 1]\n",
      "FIT: dim(X)= [480, 2500]\n",
      "FIT: dim(y)= [480, 1]\n",
      "PREDICT: dim(X)= [120, 2500]\n",
      "PREDICT: dim(y)= [120, 1]\n",
      "FIT: dim(X)= [480, 2500]\n",
      "FIT: dim(y)= [480, 1]\n",
      "PREDICT: dim(X)= [120, 2500]\n",
      "PREDICT: dim(y)= [120, 1]\n",
      "FIT: dim(X)= [480, 2500]\n",
      "FIT: dim(y)= [480, 1]\n",
      "PREDICT: dim(X)= [120, 2500]\n",
      "PREDICT: dim(y)= [120, 1]\n",
      "FIT: dim(X)= [480, 2500]\n",
      "FIT: dim(y)= [480, 1]\n",
      "PREDICT: dim(X)= [120, 2500]\n",
      "PREDICT: dim(y)= [120, 1]\n",
      "FIT: dim(X)= [480, 2500]\n",
      "FIT: dim(y)= [480, 1]\n",
      "PREDICT: dim(X)= [120, 2500]\n",
      "PREDICT: dim(y)= [120, 1]\n",
      "FIT: dim(X)= [480, 2500]\n",
      "FIT: dim(y)= [480, 1]\n",
      "PREDICT: dim(X)= [120, 2500]\n",
      "PREDICT: dim(y)= [120, 1]\n",
      "FIT: dim(X)= [480, 2500]\n",
      "FIT: dim(y)= [480, 1]\n",
      "PREDICT: dim(X)= [120, 2500]\n",
      "PREDICT: dim(y)= [120, 1]\n",
      "FIT: dim(X)= [480, 2500]\n",
      "FIT: dim(y)= [480, 1]\n",
      "PREDICT: dim(X)= [120, 2500]\n",
      "PREDICT: dim(y)= [120, 1]\n",
      "FIT: dim(X)= [480, 2500]\n",
      "FIT: dim(y)= [480, 1]\n",
      "PREDICT: dim(X)= [120, 2500]\n",
      "PREDICT: dim(y)= [120, 1]\n",
      "FIT: dim(X)= [480, 2500]\n",
      "FIT: dim(y)= [480, 1]\n",
      "PREDICT: dim(X)= [120, 2500]\n",
      "PREDICT: dim(y)= [120, 1]\n",
      "FIT: dim(X)= [480, 2500]\n",
      "FIT: dim(y)= [480, 1]\n",
      "PREDICT: dim(X)= [120, 2500]\n",
      "PREDICT: dim(y)= [120, 1]\n",
      "FIT: dim(X)= [480, 2500]\n",
      "FIT: dim(y)= [480, 1]\n",
      "PREDICT: dim(X)= [120, 2500]\n",
      "PREDICT: dim(y)= [120, 1]\n",
      "FIT: dim(X)= [480, 2500]\n",
      "FIT: dim(y)= [480, 1]\n",
      "PREDICT: dim(X)= [120, 2500]\n",
      "PREDICT: dim(y)= [120, 1]\n",
      "FIT: dim(X)= [480, 2500]\n",
      "FIT: dim(y)= [480, 1]\n",
      "PREDICT: dim(X)= [120, 2500]\n",
      "PREDICT: dim(y)= [120, 1]\n",
      "FIT: dim(X)= [480, 2500]\n",
      "FIT: dim(y)= [480, 1]\n",
      "PREDICT: dim(X)= [120, 2500]\n",
      "PREDICT: dim(y)= [120, 1]\n",
      "FIT: dim(X)= [480, 2500]\n",
      "FIT: dim(y)= [480, 1]\n",
      "PREDICT: dim(X)= [120, 2500]\n",
      "PREDICT: dim(y)= [120, 1]\n",
      "FIT: dim(X)= [480, 2500]\n",
      "FIT: dim(y)= [480, 1]\n",
      "PREDICT: dim(X)= [120, 2500]\n",
      "PREDICT: dim(y)= [120, 1]\n",
      "FIT: dim(X)= [480, 2500]\n",
      "FIT: dim(y)= [480, 1]\n",
      "PREDICT: dim(X)= [120, 2500]\n",
      "PREDICT: dim(y)= [120, 1]\n",
      "FIT: dim(X)= [480, 2500]\n",
      "FIT: dim(y)= [480, 1]\n",
      "PREDICT: dim(X)= [120, 2500]\n",
      "PREDICT: dim(y)= [120, 1]\n",
      "FIT: dim(X)= [480, 2500]\n",
      "FIT: dim(y)= [480, 1]\n",
      "PREDICT: dim(X)= [120, 2500]\n",
      "PREDICT: dim(y)= [120, 1]\n",
      "FIT: dim(X)= [480, 2500]\n",
      "FIT: dim(y)= [480, 1]\n",
      "PREDICT: dim(X)= [120, 2500]\n",
      "PREDICT: dim(y)= [120, 1]\n",
      "FIT: dim(X)= [480, 2500]\n",
      "FIT: dim(y)= [480, 1]\n",
      "PREDICT: dim(X)= [120, 2500]\n",
      "PREDICT: dim(y)= [120, 1]\n",
      "FIT: dim(X)= [480, 2500]\n",
      "FIT: dim(y)= [480, 1]\n",
      "PREDICT: dim(X)= [120, 2500]\n",
      "PREDICT: dim(y)= [120, 1]\n",
      "FIT: dim(X)= [480, 2500]\n",
      "FIT: dim(y)= [480, 1]\n",
      "PREDICT: dim(X)= [120, 2500]\n",
      "PREDICT: dim(y)= [120, 1]\n",
      "FIT: dim(X)= [480, 2500]\n",
      "FIT: dim(y)= [480, 1]\n",
      "PREDICT: dim(X)= [120, 2500]\n",
      "PREDICT: dim(y)= [120, 1]\n",
      "FIT: dim(X)= [480, 2500]\n",
      "FIT: dim(y)= [480, 1]\n",
      "PREDICT: dim(X)= [120, 2500]\n",
      "PREDICT: dim(y)= [120, 1]\n",
      "FIT: dim(X)= [480, 2500]\n",
      "FIT: dim(y)= [480, 1]\n",
      "PREDICT: dim(X)= [120, 2500]\n",
      "PREDICT: dim(y)= [120, 1]\n",
      "FIT: dim(X)= [480, 2500]\n",
      "FIT: dim(y)= [480, 1]\n",
      "PREDICT: dim(X)= [120, 2500]\n",
      "PREDICT: dim(y)= [120, 1]\n",
      "FIT: dim(X)= [480, 2500]\n",
      "FIT: dim(y)= [480, 1]\n",
      "PREDICT: dim(X)= [120, 2500]\n",
      "PREDICT: dim(y)= [120, 1]\n",
      "FIT: dim(X)= [480, 2500]\n",
      "FIT: dim(y)= [480, 1]\n",
      "PREDICT: dim(X)= [120, 2500]\n",
      "PREDICT: dim(y)= [120, 1]\n",
      "FIT: dim(X)= [480, 2500]\n",
      "FIT: dim(y)= [480, 1]\n",
      "PREDICT: dim(X)= [120, 2500]\n",
      "PREDICT: dim(y)= [120, 1]\n",
      "FIT: dim(X)= [480, 2500]\n",
      "FIT: dim(y)= [480, 1]\n",
      "PREDICT: dim(X)= [120, 2500]\n",
      "PREDICT: dim(y)= [120, 1]\n",
      "FIT: dim(X)= [480, 2500]\n",
      "FIT: dim(y)= [480, 1]\n",
      "PREDICT: dim(X)= [120, 2500]\n",
      "PREDICT: dim(y)= [120, 1]\n",
      "FIT: dim(X)= [480, 2500]\n",
      "FIT: dim(y)= [480, 1]\n",
      "PREDICT: dim(X)= [120, 2500]\n",
      "PREDICT: dim(y)= [120, 1]\n",
      "FIT: dim(X)= [480, 2500]\n",
      "FIT: dim(y)= [480, 1]\n",
      "PREDICT: dim(X)= [120, 2500]\n",
      "PREDICT: dim(y)= [120, 1]\n",
      "FIT: dim(X)= [480, 2500]\n",
      "FIT: dim(y)= [480, 1]\n",
      "PREDICT: dim(X)= [120, 2500]\n",
      "PREDICT: dim(y)= [120, 1]\n",
      "FIT: dim(X)= [480, 2500]\n",
      "FIT: dim(y)= [480, 1]\n",
      "PREDICT: dim(X)= [120, 2500]\n",
      "PREDICT: dim(y)= [120, 1]\n",
      "FIT: dim(X)= [480, 2500]\n",
      "FIT: dim(y)= [480, 1]\n",
      "PREDICT: dim(X)= [120, 2500]\n",
      "PREDICT: dim(y)= [120, 1]\n",
      "FIT: dim(X)= [480, 2500]\n",
      "FIT: dim(y)= [480, 1]\n",
      "PREDICT: dim(X)= [120, 2500]\n",
      "PREDICT: dim(y)= [120, 1]\n",
      "FIT: dim(X)= [480, 2500]\n",
      "FIT: dim(y)= [480, 1]\n",
      "PREDICT: dim(X)= [120, 2500]\n",
      "PREDICT: dim(y)= [120, 1]\n",
      "FIT: dim(X)= [480, 2500]\n",
      "FIT: dim(y)= [480, 1]\n",
      "PREDICT: dim(X)= [120, 2500]\n",
      "PREDICT: dim(y)= [120, 1]\n",
      "FIT: dim(X)= [480, 2500]\n",
      "FIT: dim(y)= [480, 1]\n",
      "PREDICT: dim(X)= [120, 2500]\n",
      "PREDICT: dim(y)= [120, 1]\n",
      "FIT: dim(X)= [480, 2500]\n",
      "FIT: dim(y)= [480, 1]\n",
      "PREDICT: dim(X)= [120, 2500]\n",
      "PREDICT: dim(y)= [120, 1]\n",
      "FIT: dim(X)= [480, 2500]\n",
      "FIT: dim(y)= [480, 1]\n",
      "PREDICT: dim(X)= [120, 2500]\n",
      "PREDICT: dim(y)= [120, 1]\n",
      "FIT: dim(X)= [480, 2500]\n",
      "FIT: dim(y)= [480, 1]\n",
      "PREDICT: dim(X)= [120, 2500]\n",
      "PREDICT: dim(y)= [120, 1]\n",
      "FIT: dim(X)= [480, 2500]\n",
      "FIT: dim(y)= [480, 1]\n",
      "PREDICT: dim(X)= [120, 2500]\n",
      "PREDICT: dim(y)= [120, 1]\n",
      "FIT: dim(X)= [480, 2500]\n",
      "FIT: dim(y)= [480, 1]\n",
      "PREDICT: dim(X)= [120, 2500]\n",
      "PREDICT: dim(y)= [120, 1]\n",
      "FIT: dim(X)= [480, 2500]\n",
      "FIT: dim(y)= [480, 1]\n",
      "PREDICT: dim(X)= [120, 2500]\n",
      "PREDICT: dim(y)= [120, 1]\n",
      "FIT: dim(X)= [480, 2500]\n",
      "FIT: dim(y)= [480, 1]\n",
      "PREDICT: dim(X)= [120, 2500]\n",
      "PREDICT: dim(y)= [120, 1]\n",
      "FIT: dim(X)= [480, 2500]\n",
      "FIT: dim(y)= [480, 1]\n",
      "PREDICT: dim(X)= [120, 2500]\n",
      "PREDICT: dim(y)= [120, 1]\n",
      "FIT: dim(X)= [480, 2500]\n",
      "FIT: dim(y)= [480, 1]\n",
      "PREDICT: dim(X)= [120, 2500]\n",
      "PREDICT: dim(y)= [120, 1]\n",
      "FIT: dim(X)= [480, 2500]\n",
      "FIT: dim(y)= [480, 1]\n",
      "PREDICT: dim(X)= [120, 2500]\n",
      "PREDICT: dim(y)= [120, 1]\n",
      "FIT: dim(X)= [480, 2500]\n",
      "FIT: dim(y)= [480, 1]\n",
      "PREDICT: dim(X)= [120, 2500]\n",
      "PREDICT: dim(y)= [120, 1]\n",
      "FIT: dim(X)= [480, 2500]\n",
      "FIT: dim(y)= [480, 1]\n",
      "PREDICT: dim(X)= [120, 2500]\n",
      "PREDICT: dim(y)= [120, 1]\n",
      "FIT: dim(X)= [480, 2500]\n",
      "FIT: dim(y)= [480, 1]\n",
      "PREDICT: dim(X)= [120, 2500]\n",
      "PREDICT: dim(y)= [120, 1]\n",
      "FIT: dim(X)= [480, 2500]\n",
      "FIT: dim(y)= [480, 1]\n",
      "PREDICT: dim(X)= [120, 2500]\n",
      "PREDICT: dim(y)= [120, 1]\n",
      "FIT: dim(X)= [480, 2500]\n",
      "FIT: dim(y)= [480, 1]\n",
      "PREDICT: dim(X)= [120, 2500]\n",
      "PREDICT: dim(y)= [120, 1]\n",
      "FIT: dim(X)= [480, 2500]\n",
      "FIT: dim(y)= [480, 1]\n",
      "PREDICT: dim(X)= [120, 2500]\n",
      "PREDICT: dim(y)= [120, 1]\n",
      "FIT: dim(X)= [480, 2500]\n",
      "FIT: dim(y)= [480, 1]\n",
      "PREDICT: dim(X)= [120, 2500]\n",
      "PREDICT: dim(y)= [120, 1]\n",
      "FIT: dim(X)= [480, 2500]\n",
      "FIT: dim(y)= [480, 1]\n",
      "PREDICT: dim(X)= [120, 2500]\n",
      "PREDICT: dim(y)= [120, 1]\n",
      "FIT: dim(X)= [480, 2500]\n",
      "FIT: dim(y)= [480, 1]\n",
      "PREDICT: dim(X)= [120, 2500]\n",
      "PREDICT: dim(y)= [120, 1]\n",
      "FIT: dim(X)= [480, 2500]\n",
      "FIT: dim(y)= [480, 1]\n",
      "PREDICT: dim(X)= [120, 2500]\n",
      "PREDICT: dim(y)= [120, 1]\n",
      "FIT: dim(X)= [480, 2500]\n",
      "FIT: dim(y)= [480, 1]\n",
      "PREDICT: dim(X)= [120, 2500]\n",
      "PREDICT: dim(y)= [120, 1]\n",
      "FIT: dim(X)= [480, 2500]\n",
      "FIT: dim(y)= [480, 1]\n",
      "PREDICT: dim(X)= [120, 2500]\n",
      "PREDICT: dim(y)= [120, 1]\n",
      "FIT: dim(X)= [480, 2500]\n",
      "FIT: dim(y)= [480, 1]\n",
      "PREDICT: dim(X)= [120, 2500]\n",
      "PREDICT: dim(y)= [120, 1]\n",
      "FIT: dim(X)= [480, 2500]\n",
      "FIT: dim(y)= [480, 1]\n",
      "PREDICT: dim(X)= [120, 2500]\n",
      "PREDICT: dim(y)= [120, 1]\n",
      "FIT: dim(X)= [480, 2500]\n",
      "FIT: dim(y)= [480, 1]\n",
      "PREDICT: dim(X)= [120, 2500]\n",
      "PREDICT: dim(y)= [120, 1]\n",
      "FIT: dim(X)= [480, 2500]\n",
      "FIT: dim(y)= [480, 1]\n",
      "PREDICT: dim(X)= [120, 2500]\n",
      "PREDICT: dim(y)= [120, 1]\n",
      "FIT: dim(X)= [480, 2500]\n",
      "FIT: dim(y)= [480, 1]\n",
      "PREDICT: dim(X)= [120, 2500]\n",
      "PREDICT: dim(y)= [120, 1]\n",
      "FIT: dim(X)= [480, 2500]\n",
      "FIT: dim(y)= [480, 1]\n",
      "PREDICT: dim(X)= [120, 2500]\n",
      "PREDICT: dim(y)= [120, 1]\n"
     ]
    }
   ],
   "source": [
    "from sklearn.model_selection import ParameterGrid\n",
    "from sklearn.ensemble import RandomForestClassifier\n",
    "\n",
    "# Define the hyperparameters\n",
    "hyperparameters = {\n",
    "    'max_depth': [5, 10, 20,40], \n",
    "    'n_estimators' : [2,10, 20, 100] }\n",
    "\n",
    "# Compute all combinations\n",
    "parameter_grid = list(ParameterGrid(hyperparameters))\n",
    "\n",
    "# Just a table to save the results\n",
    "#resultsDF = pd.DataFrame(columns=['factors', 'regularization', 'alpha', 'auc'])\n",
    "resultsDF = pd.DataFrame()\n",
    "\n",
    "for parameter_combination in parameter_grid:    \n",
    "    clf = RandomForestClassifier (random_state = 42, n_estimators =parameter_combination['n_estimators'],max_depth =parameter_combination['max_depth'])\n",
    "    M = model (classifier=clf)\n",
    "    \n",
    "    \n",
    "    scores = cross_val_score(M, X_train, Y_train, cv=5, scoring=make_scorer(scoring_function))\n",
    "    \n",
    "    \n",
    "    parameter_combination['auc'] = scores.mean()\n",
    "    \n",
    "    resultsDF = resultsDF.append(parameter_combination, ignore_index=True)\n",
    "    \n",
    "res = resultsDF.sort_values(by=['auc'], ascending=False)\n"
   ]
  },
  {
   "cell_type": "markdown",
   "metadata": {
    "collapsed": true
   },
   "source": [
    "<div style=\"background:#FFFFAA\">\n",
    "    <h1> Preparing the submission </h1>\n",
    "\n",
    "Zip the contents of `sample_code_submission/` (without the directory), or download the challenge public_data and run the command in the previous cell, after replacing sample_data by public_data.\n",
    "Then zip the contents of `sample_result_submission/` (without the directory).\n",
    "<b><span style=\"color:red\">Do NOT zip the data with your submissions</span></b>."
   ]
  },
  {
   "cell_type": "code",
   "execution_count": 68,
   "metadata": {},
   "outputs": [
    {
     "name": "stdout",
     "output_type": "stream",
     "text": [
      "Submit one of these files:\n",
      "../sample_code_submission_19-10-29-19-36.zip\n",
      "../sample_result_submission_19-10-29-19-36.zip\n"
     ]
    }
   ],
   "source": [
    "import datetime \n",
    "from data_io import zipdir\n",
    "the_date = datetime.datetime.now().strftime(\"%y-%m-%d-%H-%M\")\n",
    "sample_code_submission = '../sample_code_submission_' + the_date + '.zip'\n",
    "sample_result_submission = '../sample_result_submission_' + the_date + '.zip'\n",
    "zipdir(sample_code_submission, model_dir)\n",
    "zipdir(sample_result_submission, result_dir)\n",
    "print(\"Submit one of these files:\\n\" + sample_code_submission + \"\\n\" + sample_result_submission)"
   ]
  },
  {
   "cell_type": "code",
   "execution_count": null,
   "metadata": {},
   "outputs": [],
   "source": []
  },
  {
   "cell_type": "code",
   "execution_count": null,
   "metadata": {},
   "outputs": [],
   "source": []
  }
 ],
 "metadata": {
  "kernelspec": {
   "display_name": "Python 3",
   "language": "python",
   "name": "python3"
  },
  "language_info": {
   "codemirror_mode": {
    "name": "ipython",
    "version": 3
   },
   "file_extension": ".py",
   "mimetype": "text/x-python",
   "name": "python",
   "nbconvert_exporter": "python",
   "pygments_lexer": "ipython3",
   "version": "3.7.1"
  }
 },
 "nbformat": 4,
 "nbformat_minor": 1
}
